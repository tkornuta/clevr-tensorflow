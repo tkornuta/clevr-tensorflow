{
 "cells": [
  {
   "cell_type": "code",
   "execution_count": 1,
   "metadata": {},
   "outputs": [
    {
     "name": "stdout",
     "output_type": "stream",
     "text": [
      "[ 4.  5.  6.]\n",
      "7.5\n",
      "[ 3.  7.]\n"
     ]
    }
   ],
   "source": [
    "# Python\n",
    "import tensorflow as tf\n",
    "\n",
    "# Run session\n",
    "sess = tf.InteractiveSession()\n",
    "\n",
    "# Build model\n",
    "with tf.name_scope(\"sum3\"):\n",
    "  a3 = tf.placeholder(tf.float32, shape=[3], name=\"a\")\n",
    "  b3 = tf.constant([3], tf.float32, name=\"b\")\n",
    "  c3 = tf.add(a3,b3, name=\"c\")\n",
    "\n",
    "a = tf.placeholder(tf.float32)\n",
    "b = tf.placeholder(tf.float32)\n",
    "c = a + b  # + provides a shortcut for tf.add(a, b)\n",
    "\n",
    "# Run and feed [1,2,3] to placeholver a3 via dict. \n",
    "print(sess.run(c3, {a3:[1,2,3]}))\n",
    "\n",
    "print(sess.run(c, {a: 3, b:4.5}))\n",
    "print(sess.run(c, {a: [1,3], b: [2, 4]}))\n",
    "\n",
    "# Visualize graph in TB\n",
    "writer = tf.summary.FileWriter('/tmp/TF/add/', sess.graph)\n",
    "sess.close()\n"
   ]
  },
  {
   "cell_type": "code",
   "execution_count": null,
   "metadata": {
    "collapsed": true
   },
   "outputs": [],
   "source": []
  }
 ],
 "metadata": {
  "kernelspec": {
   "display_name": "Python 3",
   "language": "python",
   "name": "python3"
  },
  "language_info": {
   "codemirror_mode": {
    "name": "ipython",
    "version": 3
   },
   "file_extension": ".py",
   "mimetype": "text/x-python",
   "name": "python",
   "nbconvert_exporter": "python",
   "pygments_lexer": "ipython3",
   "version": "3.4.3"
  }
 },
 "nbformat": 4,
 "nbformat_minor": 2
}
