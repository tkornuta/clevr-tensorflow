{
 "cells": [
  {
   "cell_type": "code",
   "execution_count": 2,
   "metadata": {},
   "outputs": [
    {
     "name": "stdout",
     "output_type": "stream",
     "text": [
      "[ 0.          0.30000001  0.60000002  0.90000004]\n",
      "23.66\n",
      "0.0\n"
     ]
    }
   ],
   "source": [
    "#Python\n",
    "import tensorflow as tf\n",
    "\n",
    "sess = tf.InteractiveSession()\n",
    "\n",
    "# Structure graph according to the 3-stage pattern.\n",
    "# 1. Inference\n",
    "with tf.name_scope(\"inference\"):\n",
    "  # Create a linear neuron model.\n",
    "  W = tf.Variable([.3], dtype=tf.float32)\n",
    "  b = tf.Variable([-.3], dtype=tf.float32)\n",
    "  x = tf.placeholder(tf.float32)\n",
    "  linear_model = W * x + b\n",
    "\n",
    "# Initialize variables.\n",
    "init = tf.global_variables_initializer()\n",
    "sess.run(init)\n",
    "\n",
    "# Run inference.\n",
    "print(sess.run(linear_model, {x:[1,2,3,4]}))\n",
    "\n",
    "# 2. Loss function.\n",
    "with tf.name_scope(\"loss\"):\n",
    "  y = tf.placeholder(tf.float32)\n",
    "  squared_deltas = tf.square(linear_model - y)\n",
    "  loss = tf.reduce_sum(squared_deltas)\n",
    "\n",
    "# Run and check loss.\n",
    "print(sess.run(loss, {x:[1,2,3,4], y:[0,-1,-2,-3]}))\n",
    "\n",
    "# Assign \"perfect\" values of W and b.\n",
    "fixW = tf.assign(W, [-1.])\n",
    "fixb = tf.assign(b, [1.])\n",
    "sess.run([fixW, fixb])\n",
    "\n",
    "# Run and check loss.\n",
    "print(sess.run(loss, {x:[1,2,3,4], y:[0,-1,-2,-3]}))\n"
   ]
  },
  {
   "cell_type": "code",
   "execution_count": null,
   "metadata": {
    "collapsed": true
   },
   "outputs": [],
   "source": []
  }
 ],
 "metadata": {
  "kernelspec": {
   "display_name": "Python 3",
   "language": "python",
   "name": "python3"
  },
  "language_info": {
   "codemirror_mode": {
    "name": "ipython",
    "version": 3
   },
   "file_extension": ".py",
   "mimetype": "text/x-python",
   "name": "python",
   "nbconvert_exporter": "python",
   "pygments_lexer": "ipython3",
   "version": "3.4.3"
  }
 },
 "nbformat": 4,
 "nbformat_minor": 2
}
