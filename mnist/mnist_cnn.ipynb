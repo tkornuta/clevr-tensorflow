{
 "cells": [
  {
   "cell_type": "code",
   "execution_count": 1,
   "metadata": {
    "collapsed": true
   },
   "outputs": [],
   "source": [
    "import numpy as np\n",
    "import tensorflow as tf\n",
    "from tensorflow.examples.tutorials.mnist import input_data\n",
    "\n",
    "# Dirs - must be absolute paths!\n",
    "LOG_DIR = '/tmp/tf/mnist_cnn/'\n",
    "MNIST_DIR = \"/home/tkornuta/data/mnist\"\n",
    "\n",
    "# Set learning parameters.\n",
    "LEARNING_RATE = 1e-4\n",
    "BATCH_SIZE = 100\n",
    "N_EPOCHS = 10\n"
   ]
  },
  {
   "cell_type": "markdown",
   "metadata": {},
   "source": [
    "### A. Import MNIST datset, use one-hot encoding for labels."
   ]
  },
  {
   "cell_type": "code",
   "execution_count": 2,
   "metadata": {},
   "outputs": [
    {
     "name": "stdout",
     "output_type": "stream",
     "text": [
      "Extracting /home/tkornuta/data/mnist/train-images-idx3-ubyte.gz\n",
      "Extracting /home/tkornuta/data/mnist/train-labels-idx1-ubyte.gz\n",
      "Extracting /home/tkornuta/data/mnist/t10k-images-idx3-ubyte.gz\n",
      "Extracting /home/tkornuta/data/mnist/t10k-labels-idx1-ubyte.gz\n"
     ]
    }
   ],
   "source": [
    "mnist_dataset = input_data.read_data_sets(MNIST_DIR, one_hot=True)"
   ]
  },
  {
   "cell_type": "markdown",
   "metadata": {},
   "source": [
    "#### Helper functions"
   ]
  },
  {
   "cell_type": "code",
   "execution_count": 3,
   "metadata": {
    "collapsed": true
   },
   "outputs": [],
   "source": [
    "def fully_connected(inputs, input_height, input_width, input_depth, output_size, name):\n",
    "    input_size = input_height*input_width*input_depth\n",
    "    with tf.name_scope(name):\n",
    "        w = tf.Variable(tf.random_normal(shape=[input_size,output_size], stddev=0.01), name=\"weights\") \n",
    "        b = tf.Variable(tf.zeros(shape=[1,output_size]), name=\"bias\")\n",
    "        logits = tf.add(tf.matmul(inputs, w), b, name=\"logits\")\n",
    "        # Add histograms to TensorBoard.\n",
    "        w_hist = tf.summary.histogram(\"w\", w)\n",
    "        b_hist = tf.summary.histogram(\"b\", b)\n",
    "        with tf.name_scope(\"Visualization\"):\n",
    "            # Interate through neurons.\n",
    "            for output_neuron in range(output_size):\n",
    "                w_activ = tf.slice(w, [0,output_neuron], [input_size,1])\n",
    "                w_act_reshaped = tf.reshape(w_activ, [1,input_height,input_width,1])\n",
    "                # Get activations from consecutive cols.\n",
    "                image_summ = tf.summary.image(\"w_activations\", w_act_reshaped)\n",
    "        return logits"
   ]
  },
  {
   "cell_type": "code",
   "execution_count": 4,
   "metadata": {
    "collapsed": true
   },
   "outputs": [],
   "source": [
    "def fc_relu(inputs, input_width, input_height, input_depth, output_size, name):\n",
    "    logits = fully_connected(inputs, input_height, input_width, input_depth, output_size, name)\n",
    "    output = tf.nn.relu(logits)\n",
    "    return output"
   ]
  },
  {
   "cell_type": "code",
   "execution_count": 5,
   "metadata": {
    "collapsed": true
   },
   "outputs": [],
   "source": [
    "def conv_relu(inputs, filters, kernel_size, name):\n",
    "    with tf.name_scope(name):\n",
    "        # Create a convolution layer\n",
    "        conv = tf.layers.conv2d(\n",
    "            inputs=inputs,\n",
    "            filters=filters,\n",
    "            kernel_size=kernel_size,\n",
    "            padding=\"same\",\n",
    "            activation=tf.nn.relu)\n",
    "        return conv"
   ]
  },
  {
   "cell_type": "code",
   "execution_count": 6,
   "metadata": {
    "collapsed": true
   },
   "outputs": [],
   "source": [
    "def pool(inputs, pool_size, strides, name):\n",
    "    with tf.name_scope(name):\n",
    "        pool = tf.layers.max_pooling2d(inputs=inputs, pool_size=pool_size, strides=strides)\n",
    "        return pool"
   ]
  },
  {
   "cell_type": "markdown",
   "metadata": {},
   "source": [
    "### B. Define the tensor graph."
   ]
  },
  {
   "cell_type": "code",
   "execution_count": 10,
   "metadata": {},
   "outputs": [
    {
     "name": "stdout",
     "output_type": "stream",
     "text": [
      "['Conv1/kernel:0', 'Conv1/bias:0', 'Conv2/kernel:0', 'Conv2/bias:0', 'FC1/kernel:0', 'FC1/bias:0', 'logits/kernel:0', 'logits/bias:0']\n",
      "<tf.Variable 'Conv1/kernel:0' shape=(5, 5, 1, 32) dtype=float32_ref>\n"
     ]
    }
   ],
   "source": [
    "# Reset graph - just in case.\n",
    "tf.reset_default_graph()\n",
    "\n",
    "# B. \n",
    "# 0. Placeholders for inputs.\n",
    "with tf.name_scope(\"Input_data\"):\n",
    "    # Shape - none, as we will feed both training batches as well as test datasets.\n",
    "    x = tf.placeholder(tf.float32, shape=None, name=\"x\")\n",
    "    targets = tf.placeholder(tf.float32, shape=None, name=\"target\")\n",
    "    with tf.name_scope(\"Visualization\") as scope:\n",
    "        x_image = tf.reshape(x, [-1,28,28,1])\n",
    "        image_summ = tf.summary.image(\"Example_images\", x_image)\n",
    "\n",
    "# 1. Inference ops.\n",
    "with tf.name_scope(\"Inference\"):\n",
    "    # Reshape inputs to batch to 2d, single-channel images.\n",
    "    input_layer = tf.reshape(x, [-1, 28, 28, 1]) \n",
    "    \n",
    "    # Conv + pooling 1\n",
    "    conv1 = tf.layers.conv2d(input_layer, 32, [5, 5], activation=tf.nn.relu, padding=\"same\", name=\"Conv1\")\n",
    "    pool1 = pool(conv1, pool_size=[2, 2], strides=2, name=\"Pool1\")\n",
    "    \n",
    "    # Conv + pooling 2\n",
    "    conv2 = tf.layers.conv2d(pool1, 64, [5, 5], activation=tf.nn.relu, padding=\"same\", name=\"Conv2\")\n",
    "    pool2 = pool(conv2, pool_size=[2, 2], strides=2, name=\"Pool2\")\n",
    "    \n",
    "    # Reshape output - flatten.\n",
    "    pool2_flat = tf.reshape(pool2, [-1, 7 * 7 * 64])\n",
    "    \n",
    "    # FC layer + dropout\n",
    "    dense = tf.layers.dense(inputs=pool2_flat, units=1024, activation=tf.nn.relu, name=\"FC1\")\n",
    "    #dense = fc_relu(inputs=pool2_flat, input_width, input_height, output_size, name):\n",
    "    #dropout = tf.layers.dropout(inputs=dense, rate=0.4, training=mode == tf.estimator.ModeKeys.TRAIN)\n",
    "\n",
    "    # Logits Layer\n",
    "    logits = tf.layers.dense(inputs=dense, units=10, name=\"logits\")\n",
    "    #with tf.name_scope(\"fc\"):\n",
    "    #    w = tf.Variable(tf.random_normal(shape=[7*7*64,10], stddev=0.01), name=\"weights\") \n",
    "    #    b = tf.Variable(tf.zeros(shape=[1,10]), name=\"bias\")\n",
    "    #    logits = tf.add(tf.matmul(pool2_flat, w), b, name=\"logits\")\n",
    "\n",
    "print ([v.name for v in tf.global_variables()])\n",
    "with tf.variable_scope('Conv1') as scope:\n",
    "    tf.get_variable_scope().reuse_variables()\n",
    "    weights = tf.get_variable('kernel')\n",
    "    print (weights)\n",
    "    weights_summary = tf.summary.histogram(\"conv1_weights\", weights)\n",
    "    for f in range(weights.shape[3]):\n",
    "        conv_filter = weights[:,:,0,f]\n",
    "        conv_reshaped = tf.reshape(conv_filter, [1,5,5,1])\n",
    "        # Get activations from consecutive cols.\n",
    "        filter_summ = tf.summary.image(\"conv1_f\"+str(f), conv_reshaped)\n",
    "    \n",
    "#tf.variable_scope('conv1', reuse=True)\n",
    "\n",
    "# 2. Loss ops.\n",
    "with tf.name_scope(\"Loss\"):\n",
    "    entropy = tf.nn.softmax_cross_entropy_with_logits(logits=logits, labels=targets)\n",
    "    # Loss = mean over examples in the batch.\n",
    "    loss = tf.reduce_mean(entropy)\n",
    "    # Add loss summary.\n",
    "    loss_summary = tf.summary.scalar(\"loss\", loss)\n",
    "    \n",
    "# 3. Training ops.  \n",
    "with tf.name_scope(\"Training\"):\n",
    "    optimizer = tf.train.AdamOptimizer(learning_rate=LEARNING_RATE).minimize(loss)\n",
    "with tf.name_scope(\"Evaluation\") as scope:\n",
    "    # Count correct predictions by a simple argmax trick on each sample in a batch.\n",
    "    correct_prediction = tf.equal(tf.argmax(logits,1), tf.argmax(targets,1))\n",
    "    accuracy = tf.reduce_mean(tf.cast(correct_prediction, \"float\"))\n",
    "    # Add accuracy summary.\n",
    "    accuracy_summary = tf.summary.scalar(\"accuracy\", accuracy)\n",
    "\n",
    "# Merge all summaries.\n",
    "merged_sumaries = tf.summary.merge_all()\n",
    "\n",
    "# 4. Init global variable.\n",
    "init = tf.global_variables_initializer()"
   ]
  },
  {
   "cell_type": "markdown",
   "metadata": {},
   "source": [
    "#### Helper functions"
   ]
  },
  {
   "cell_type": "code",
   "execution_count": 11,
   "metadata": {
    "collapsed": true
   },
   "outputs": [],
   "source": [
    "def feed_dict(dataset):\n",
    "  \"\"\"Make a TensorFlow feed_dict: maps data onto Tensor placeholders.\"\"\"\n",
    "  if dataset==\"train\":\n",
    "    xs, ys = mnist_dataset.train.next_batch(BATCH_SIZE)\n",
    "  elif dataset==\"valid\":\n",
    "    xs, ys = mnist_dataset.validation.images, mnist_dataset.validation.labels\n",
    "  else: # test\n",
    "    xs, ys = mnist_dataset.test.images, mnist_dataset.test.labels\n",
    "  return {x: xs, targets: ys}"
   ]
  },
  {
   "cell_type": "markdown",
   "metadata": {},
   "source": [
    "### C. Run session."
   ]
  },
  {
   "cell_type": "code",
   "execution_count": 12,
   "metadata": {
    "collapsed": true
   },
   "outputs": [],
   "source": [
    "# Eventually clear the log dir.\n",
    "if tf.gfile.Exists(LOG_DIR):\n",
    "  tf.gfile.DeleteRecursively(LOG_DIR)\n",
    "# Create (new) log dir.\n",
    "tf.gfile.MakeDirs(LOG_DIR)"
   ]
  },
  {
   "cell_type": "code",
   "execution_count": null,
   "metadata": {},
   "outputs": [
    {
     "name": "stdout",
     "output_type": "stream",
     "text": [
      "Accuracy at step 0: 0.0514\n",
      "Accuracy at step 100: 0.8974\n",
      "Accuracy at step 200: 0.9238\n"
     ]
    }
   ],
   "source": [
    "# Create session.\n",
    "sess = tf.InteractiveSession()\n",
    "# Merge all the summaries and write them out to /tmp/mnist_logs (by default)\n",
    "train_writer = tf.summary.FileWriter(LOG_DIR + '/train', sess.graph)\n",
    "valid_writer = tf.summary.FileWriter(LOG_DIR + '/valid')\n",
    "test_writer = tf.summary.FileWriter(LOG_DIR + '/test')\n",
    "\n",
    "# Initialize variables.\n",
    "#tf.global_variables_initializer().run()\n",
    "sess.run(init)\n",
    "\n",
    "# First, check accuracy on test dataset.\n",
    "#summary, acc = sess.run([merged, accuracy], feed_dict=feed_dict(\"test\"))\n",
    "#test_writer.add_summary(summary, 0)\n",
    "#print('Initial accuracy on test set: %s' % (acc))\n",
    "\n",
    "# Perform training with minibatches and validation every 100 training steps.\n",
    "n_batches = int(mnist_dataset.train.num_examples/BATCH_SIZE)\n",
    "for e in range (N_EPOCHS):\n",
    "  for b in range (n_batches):\n",
    "    if b % 100 == 0:  # Record summaries and valid-set accuracy\n",
    "      summary, acc = sess.run([merged_sumaries, accuracy], feed_dict=feed_dict(\"valid\"))\n",
    "      valid_writer.add_summary(summary, b+e*n_batches)\n",
    "      print('Accuracy at step %s: %s' % (b+e*n_batches, acc))\n",
    "    else:  # Record train set summaries, and train\n",
    "      summary, acc = sess.run([merged_sumaries, optimizer], feed_dict=feed_dict(\"train\"))\n",
    "      train_writer.add_summary(summary, b+e*n_batches)\n",
    "\n",
    "# Finally, check accuray on test dataset\n",
    "summary, acc = sess.run([merged_sumaries, accuracy], feed_dict=feed_dict(\"test\"))\n",
    "test_writer.add_summary(summary, n_batches*N_EPOCHS)\n",
    "print('Final accuracy on test set: %s' % (acc))\n",
    "\n",
    "# Close writers and session.\n",
    "train_writer.flush()\n",
    "train_writer.close()\n",
    "valid_writer.flush()\n",
    "valid_writer.close()\n",
    "test_writer.flush()\n",
    "test_writer.close()\n",
    "sess.close()"
   ]
  },
  {
   "cell_type": "code",
   "execution_count": null,
   "metadata": {
    "collapsed": true
   },
   "outputs": [],
   "source": []
  }
 ],
 "metadata": {
  "kernelspec": {
   "display_name": "Python 3",
   "language": "python",
   "name": "python3"
  },
  "language_info": {
   "codemirror_mode": {
    "name": "ipython",
    "version": 3
   },
   "file_extension": ".py",
   "mimetype": "text/x-python",
   "name": "python",
   "nbconvert_exporter": "python",
   "pygments_lexer": "ipython3",
   "version": "3.4.3"
  }
 },
 "nbformat": 4,
 "nbformat_minor": 2
}
