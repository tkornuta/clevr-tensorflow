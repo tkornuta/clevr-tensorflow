{
 "cells": [
  {
   "cell_type": "code",
   "execution_count": 1,
   "metadata": {
    "collapsed": true
   },
   "outputs": [],
   "source": [
    "import numpy as np\n",
    "import tensorflow as tf\n",
    "from tensorflow.examples.tutorials.mnist import input_data\n",
    "\n",
    "# Dirs - must be absolute paths!\n",
    "LOG_DIR = '/tmp/tf/mnist_cnn/'\n",
    "MNIST_DIR = \"/home/tkornuta/data/mnist\"\n",
    "\n",
    "# Set learning parameters.\n",
    "LEARNING_RATE = 1e-4\n",
    "BATCH_SIZE = 100\n",
    "N_EPOCHS = 10\n"
   ]
  },
  {
   "cell_type": "markdown",
   "metadata": {},
   "source": [
    "### A. Import MNIST datset, use one-hot encoding for labels."
   ]
  },
  {
   "cell_type": "code",
   "execution_count": 2,
   "metadata": {},
   "outputs": [
    {
     "name": "stdout",
     "output_type": "stream",
     "text": [
      "Extracting /home/tkornuta/data/mnist/train-images-idx3-ubyte.gz\n",
      "Extracting /home/tkornuta/data/mnist/train-labels-idx1-ubyte.gz\n",
      "Extracting /home/tkornuta/data/mnist/t10k-images-idx3-ubyte.gz\n",
      "Extracting /home/tkornuta/data/mnist/t10k-labels-idx1-ubyte.gz\n"
     ]
    }
   ],
   "source": [
    "mnist_dataset = input_data.read_data_sets(MNIST_DIR, one_hot=True)"
   ]
  },
  {
   "cell_type": "markdown",
   "metadata": {},
   "source": [
    "#### Helper functions"
   ]
  },
  {
   "cell_type": "code",
   "execution_count": 3,
   "metadata": {
    "collapsed": true
   },
   "outputs": [],
   "source": [
    "def fully_connected(inputs, input_height, input_width, input_depth, output_size, name):\n",
    "    input_size = input_height*input_width*input_depth\n",
    "    with tf.name_scope(name):\n",
    "        w = tf.Variable(tf.random_normal(shape=[input_size,output_size], stddev=0.01), name=\"weights\") \n",
    "        b = tf.Variable(tf.zeros(shape=[1,output_size]), name=\"bias\")\n",
    "        logits = tf.add(tf.matmul(inputs, w), b, name=\"logits\")\n",
    "        # Add histograms to TensorBoard.\n",
    "        w_hist = tf.summary.histogram(\"w\", w)\n",
    "        b_hist = tf.summary.histogram(\"b\", b)\n",
    "        with tf.name_scope(\"Visualization\"):\n",
    "            # Interate through neurons.\n",
    "            for output_neuron in range(output_size):\n",
    "                w_activ = tf.slice(w, [0,output_neuron], [input_size,1])\n",
    "                w_act_reshaped = tf.reshape(w_activ, [1,input_height,input_width,1])\n",
    "                # Get activations from consecutive cols.\n",
    "                image_summ = tf.summary.image(\"w_activations\", w_act_reshaped)\n",
    "        return logits"
   ]
  },
  {
   "cell_type": "code",
   "execution_count": 9,
   "metadata": {},
   "outputs": [],
   "source": [
    "# Get names of all global variables.\n",
    "#print ([v.name for v in tf.global_variables()])\n",
    "\n",
    "def add_conv_summary(conv_scope, variable_name=\"kernel\", sanity=False):\n",
    "    with tf.variable_scope(conv_scope) as scope:\n",
    "        tf.get_variable_scope().reuse_variables()\n",
    "        kernels = tf.get_variable('kernel')\n",
    "        bias = tf.get_variable('bias')\n",
    "        # Add histograms to TensorBoard.\n",
    "        w_hist = tf.summary.histogram(\"kernels\", kernels)\n",
    "        b_hist = tf.summary.histogram(\"bias\", bias)\n",
    "\n",
    "        with tf.name_scope('Kernel_visualization') as scope:\n",
    "\n",
    "            # Get filter size.\n",
    "            iy =  int(kernels.shape[0])\n",
    "            ix = int(kernels.shape[1])\n",
    "            # Get number of input and output channels.\n",
    "            ch_in =  int(kernels.shape[2])\n",
    "            ch_out =  int(kernels.shape[3])\n",
    "            # Merge input with output channels.\n",
    "            kernels = tf.reshape(kernels,(iy,ix, 1, ch_in*ch_out))         \n",
    "            ch_org = ch_in*ch_out\n",
    "            # Calculate grid size on the basis of number of channels.\n",
    "            cy = int(np.ceil(np.sqrt(ch_org))) \n",
    "            cx = int(np.ceil(ch_org/cy))\n",
    "            # Add \"empty\" kernels to tensor. \n",
    "            ch_to_add = cy*cx-ch_org\n",
    "            zeros_to_add = tf.zeros([iy, ix, 1, ch_to_add], tf.float32)\n",
    "            kernel_ext = tf.concat([kernels, zeros_to_add], 3)\n",
    "            # Reshape to 3 dimensions.\n",
    "            kernel_ext = tf.reshape(kernel_ext,(iy,ix,cy*cx))\n",
    "            # Add paddings on both sizes of x,y.\n",
    "            ix += 2\n",
    "            iy += 2\n",
    "            paddings = [[1,1], [1,1], [0,0]]\n",
    "            kernel_ext = tf.pad(kernel_ext, paddings, mode=\"CONSTANT\")\n",
    "            # Divide channels into grid of cy*cx.\n",
    "            kernel_ext = tf.reshape(kernel_ext,(iy,ix,cy,cx)) \n",
    "            # Reorganize dimensions to cy,iy,cx,ix.\n",
    "            kernel_ext = tf.transpose(kernel_ext,(2,0,3,1))\n",
    "            # Reshape to 4 dims.\n",
    "            kernels_grid = tf.reshape(kernel_ext, [1,cy*iy,cx*ix,1])\n",
    "            # Finally - visualize.\n",
    "            kernels_grid_summary = tf.summary.image(conv_scope+\"_kernels\", kernels_grid)\n",
    "\n",
    "            # Sanity check - visualize 3 first filters. \n",
    "            if sanity == True:\n",
    "                for f in range(3):#weights.shape[3]):\n",
    "                    kernel = kernels[:,:,0,f]\n",
    "                    kernel_reshaped = tf.reshape(kernel, [1,5,5,1])\n",
    "                    # Get activations from consecutive cols.\n",
    "                    kernel_summary = tf.summary.image(conv_scope+\"_kernel\"+str(f), kernel_reshaped)\n"
   ]
  },
  {
   "cell_type": "markdown",
   "metadata": {},
   "source": [
    "### B. Define the tensor graph."
   ]
  },
  {
   "cell_type": "code",
   "execution_count": 10,
   "metadata": {},
   "outputs": [],
   "source": [
    "# Reset graph - just in case.\n",
    "tf.reset_default_graph()\n",
    "\n",
    "# B. \n",
    "# 0. Placeholders for inputs.\n",
    "with tf.name_scope(\"Input_data\"):\n",
    "    # Shape - none, as we will feed both training batches as well as test datasets.\n",
    "    x = tf.placeholder(tf.float32, shape=None, name=\"x\")\n",
    "    targets = tf.placeholder(tf.float32, shape=None, name=\"target\")\n",
    "    with tf.name_scope(\"Visualization\") as scope:\n",
    "        x_image = tf.reshape(x, [-1,28,28,1])\n",
    "        image_summ = tf.summary.image(\"Example_images\", x_image)\n",
    "\n",
    "# 1. Inference ops.\n",
    "with tf.name_scope(\"Inference\"):\n",
    "    # Reshape inputs to batch to 2d, single-channel images.\n",
    "    input_layer = tf.reshape(x, [-1, 28, 28, 1]) \n",
    "    \n",
    "    # Conv + pooling 1\n",
    "    conv1 = tf.layers.conv2d(input_layer, 32, [5, 5], activation=tf.nn.relu, padding=\"same\", name=\"Conv1\")\n",
    "    add_conv_summary(\"Conv1\")\n",
    "    pool1 = tf.layers.max_pooling2d(conv1, pool_size=[2, 2], strides=2, name=\"Pool1\")\n",
    "    \n",
    "    # Conv + pooling 2\n",
    "    conv2 = tf.layers.conv2d(pool1, 64, [5, 5], activation=tf.nn.relu, padding=\"same\", name=\"Conv2\")\n",
    "    add_conv_summary(\"Conv2\")\n",
    "    pool2 = tf.layers.max_pooling2d(conv2, pool_size=[2, 2], strides=2, name=\"Pool2\")\n",
    "    \n",
    "    # Reshape output - flatten.\n",
    "    pool2_flat = tf.reshape(pool2, [-1, 7 * 7 * 64])\n",
    "    \n",
    "    # FC layer + dropout\n",
    "    dense = tf.layers.dense(inputs=pool2_flat, units=1024, activation=tf.nn.relu, name=\"FC1\")\n",
    "    #dropout = tf.layers.dropout(inputs=dense, rate=0.4, training=mode == tf.estimator.ModeKeys.TRAIN)\n",
    "\n",
    "    # Logits Layer\n",
    "    logits = tf.layers.dense(inputs=dense, units=10, name=\"logits\")\n",
    "\n",
    "# 2. Loss ops.\n",
    "with tf.name_scope(\"Loss\"):\n",
    "    entropy = tf.nn.softmax_cross_entropy_with_logits(logits=logits, labels=targets)\n",
    "    # Loss = mean over examples in the batch.\n",
    "    loss = tf.reduce_mean(entropy)\n",
    "    # Add loss summary.\n",
    "    loss_summary = tf.summary.scalar(\"loss\", loss)\n",
    "    \n",
    "# 3. Training ops.  \n",
    "with tf.name_scope(\"Training\"):\n",
    "    optimizer = tf.train.AdamOptimizer(learning_rate=LEARNING_RATE).minimize(loss)\n",
    "with tf.name_scope(\"Evaluation\") as scope:\n",
    "    # Count correct predictions by a simple argmax trick on each sample in a batch.\n",
    "    correct_prediction = tf.equal(tf.argmax(logits,1), tf.argmax(targets,1))\n",
    "    accuracy = tf.reduce_mean(tf.cast(correct_prediction, \"float\"))\n",
    "    # Add accuracy summary.\n",
    "    accuracy_summary = tf.summary.scalar(\"accuracy\", accuracy)\n",
    "\n",
    "# Merge all summaries.\n",
    "merged_sumaries = tf.summary.merge_all()\n",
    "\n",
    "# 4. Init global variable.\n",
    "init = tf.global_variables_initializer()"
   ]
  },
  {
   "cell_type": "markdown",
   "metadata": {},
   "source": [
    "#### Helper functions"
   ]
  },
  {
   "cell_type": "code",
   "execution_count": 11,
   "metadata": {
    "collapsed": true
   },
   "outputs": [],
   "source": [
    "def feed_dict(dataset):\n",
    "  \"\"\"Make a TensorFlow feed_dict: maps data onto Tensor placeholders.\"\"\"\n",
    "  if dataset==\"train\":\n",
    "    xs, ys = mnist_dataset.train.next_batch(BATCH_SIZE)\n",
    "  elif dataset==\"valid\":\n",
    "    xs, ys = mnist_dataset.validation.images, mnist_dataset.validation.labels\n",
    "  else: # test\n",
    "    xs, ys = mnist_dataset.test.images, mnist_dataset.test.labels\n",
    "  return {x: xs, targets: ys}"
   ]
  },
  {
   "cell_type": "markdown",
   "metadata": {},
   "source": [
    "### C. Run session."
   ]
  },
  {
   "cell_type": "code",
   "execution_count": 12,
   "metadata": {
    "collapsed": true
   },
   "outputs": [],
   "source": [
    "# Eventually clear the log dir.\n",
    "if tf.gfile.Exists(LOG_DIR):\n",
    "  tf.gfile.DeleteRecursively(LOG_DIR)\n",
    "# Create (new) log dir.\n",
    "tf.gfile.MakeDirs(LOG_DIR)"
   ]
  },
  {
   "cell_type": "code",
   "execution_count": null,
   "metadata": {},
   "outputs": [
    {
     "name": "stdout",
     "output_type": "stream",
     "text": [
      "Accuracy at step 0: 0.0862\n",
      "Accuracy at step 100: 0.8978\n"
     ]
    }
   ],
   "source": [
    "# Create session.\n",
    "sess = tf.InteractiveSession()\n",
    "# Merge all the summaries and write them out to /tmp/mnist_logs (by default)\n",
    "train_writer = tf.summary.FileWriter(LOG_DIR + '/train', sess.graph)\n",
    "valid_writer = tf.summary.FileWriter(LOG_DIR + '/valid')\n",
    "test_writer = tf.summary.FileWriter(LOG_DIR + '/test')\n",
    "\n",
    "# Initialize variables.\n",
    "#tf.global_variables_initializer().run()\n",
    "sess.run(init)\n",
    "\n",
    "# Perform training with minibatches and validation every 100 training steps.\n",
    "n_batches = int(mnist_dataset.train.num_examples/BATCH_SIZE)\n",
    "for e in range (N_EPOCHS):\n",
    "  for b in range (n_batches):\n",
    "    if b % 100 == 0:  # Record summaries and valid-set accuracy\n",
    "      summary, acc = sess.run([merged_sumaries, accuracy], feed_dict=feed_dict(\"valid\"))\n",
    "      valid_writer.add_summary(summary, b+e*n_batches)\n",
    "      print('Accuracy at step %s: %s' % (b+e*n_batches, acc))\n",
    "    else:  # Record train set summaries, and train\n",
    "      summary, acc = sess.run([merged_sumaries, optimizer], feed_dict=feed_dict(\"train\"))\n",
    "      train_writer.add_summary(summary, b+e*n_batches)\n",
    "\n",
    "# Finally, check accuray on test dataset\n",
    "summary, acc = sess.run([merged_sumaries, accuracy], feed_dict=feed_dict(\"test\"))\n",
    "test_writer.add_summary(summary, n_batches*N_EPOCHS)\n",
    "print('Final accuracy on test set: %s' % (acc))\n",
    "\n",
    "# Close writers and session.\n",
    "train_writer.flush()\n",
    "train_writer.close()\n",
    "valid_writer.flush()\n",
    "valid_writer.close()\n",
    "test_writer.flush()\n",
    "test_writer.close()\n",
    "sess.close()"
   ]
  },
  {
   "cell_type": "code",
   "execution_count": null,
   "metadata": {
    "collapsed": true
   },
   "outputs": [],
   "source": []
  }
 ],
 "metadata": {
  "kernelspec": {
   "display_name": "Python 3",
   "language": "python",
   "name": "python3"
  },
  "language_info": {
   "codemirror_mode": {
    "name": "ipython",
    "version": 3
   },
   "file_extension": ".py",
   "mimetype": "text/x-python",
   "name": "python",
   "nbconvert_exporter": "python",
   "pygments_lexer": "ipython3",
   "version": "3.4.3"
  }
 },
 "nbformat": 4,
 "nbformat_minor": 2
}
