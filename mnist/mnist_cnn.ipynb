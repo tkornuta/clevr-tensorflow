{
 "cells": [
  {
   "cell_type": "code",
   "execution_count": 3,
   "metadata": {
    "collapsed": true
   },
   "outputs": [],
   "source": [
    "import numpy as np\n",
    "import tensorflow as tf\n",
    "from tensorflow.examples.tutorials.mnist import input_data\n",
    "\n",
    "# Dirs - must be absolute paths!\n",
    "LOG_DIR = '/tmp/tf/mnist_cnn'\n",
    "MNIST_DIR = \"/home/tkornuta/data/mnist\"\n",
    "\n",
    "# Set learning parameters.\n",
    "LEARNING_RATE = 1e-4\n",
    "BATCH_SIZE = 100\n",
    "N_EPOCHS = 10  W_conv1 = weight_variable([5, 5, 1, 32], 'Conv_Layer_1')\n",
    "  b_conv1 = bias_variable([32], 'bias_for_Conv_Layer_1')\n",
    "  h_conv1 = tf.nn.relu(conv2d(x_image, W_conv1) + b_conv1)\n",
    "  h_pool1 = max_pool_2x2(h_conv1)\n"
   ]
  },
  {
   "cell_type": "markdown",
   "metadata": {},
   "source": [
    "### A. Import MNIST datset, use one-hot encoding for labels."
   ]
  },
  {
   "cell_type": "code",
   "execution_count": 4,
   "metadata": {},
   "outputs": [
    {
     "name": "stdout",
     "output_type": "stream",
     "text": [
      "Extracting /home/tkornuta/data/mnist/train-images-idx3-ubyte.gz\n",
      "Extracting /home/tkornuta/data/mnist/train-labels-idx1-ubyte.gz\n",
      "Extracting /home/tkornuta/data/mnist/t10k-images-idx3-ubyte.gz\n",
      "Extracting /home/tkornuta/data/mnist/t10k-labels-idx1-ubyte.gz\n"
     ]
    }
   ],
   "source": [
    "mnist_dataset = input_data.read_data_sets(MNIST_DIR, one_hot=True)"
   ]
  },
  {
   "cell_type": "markdown",
   "metadata": {},
   "source": [
    "#### Helper functions"
   ]
  },
  {
   "cell_type": "code",
   "execution_count": 21,
   "metadata": {},
   "outputs": [],
   "source": [
    "def fully_connected(input_tensor, input_height, input_width, output_size, name):\n",
    "    input_size = input_height*input_width \n",
    "    with tf.name_scope(name):\n",
    "        w = tf.Variable(tf.random_normal(shape=[input_size,output_size], stddev=0.01), name=\"weights\") \n",
    "        b = tf.Variable(tf.zeros(shape=[1,output_size]), name=\"bias\")\n",
    "        logits = tf.add(tf.matmul(input_tensor,w), b, name=\"logits\")\n",
    "        # Add histograms to TensorBoard.\n",
    "        w_hist = tf.summary.histogram(\"w\", w)\n",
    "        b_hist = tf.summary.histogram(\"b\", b)\n",
    "        with tf.name_scope(\"Visualization\"):\n",
    "            # Interate through neurons.\n",
    "            for output_neuron in range(output_size):\n",
    "                w_activ = tf.slice(w, [0,output_neuron], [input_size,1])\n",
    "                w_act_reshaped = tf.reshape(w_activ, [1,input_height,input_width,1])\n",
    "                # Get activations from consecutive cols.\n",
    "                image_summ = tf.summary.image(\"w_activations\", w_act_reshaped)\n",
    "        return logits"
   ]
  },
  {
   "cell_type": "code",
   "execution_count": 22,
   "metadata": {
    "collapsed": true
   },
   "outputs": [],
   "source": [
    "def fc_relu(input_tensor, input_width, input_height, output_size, name):\n",
    "    logits = fully_connected(input_tensor, input_height, input_width, output_size, name)\n",
    "    output = tf.nn.relu(logits)\n",
    "    return output"
   ]
  },
  {
   "cell_type": "code",
   "execution_count": 30,
   "metadata": {
    "collapsed": true
   },
   "outputs": [],
   "source": [
    "def conv_relu(input_tensor, dims, name):\n",
    "    with tf.name_scope(name):\n",
    "        W = weight_variable(dims, 'W')\n",
    "        b = bias_variable(dims[3], 'b')\n",
    "        conv_output = tf.nn.relu(conv2d(input_tensor, W) + b)\n",
    "        pool_output= tf.nn.max_pool_2x2(conv_output)\n",
    "        return pool_output"
   ]
  },
  {
   "cell_type": "markdown",
   "metadata": {},
   "source": [
    "### B. Define the tensor graph."
   ]
  },
  {
   "cell_type": "code",
   "execution_count": 25,
   "metadata": {},
   "outputs": [],
   "source": [
    "# Reset graph - just in case.\n",
    "tf.reset_default_graph()\n",
    "\n",
    "# B. \n",
    "# 0. Placeholders for inputs.\n",
    "with tf.name_scope(\"Input_data\"):\n",
    "    # Shape - none, as we will feed both training batches as well as test datasets.\n",
    "    x = tf.placeholder(tf.float32, shape=None, name=\"x\")\n",
    "    targets = tf.placeholder(tf.float32, shape=None, name=\"target\")\n",
    "    with tf.name_scope(\"Visualization\") as scope:\n",
    "        x_image = tf.reshape(x, [-1,28,28,1])\n",
    "        image_summ = tf.summary.image(\"Example_images\", x_image)\n",
    "\n",
    "# 1. Inference ops.\n",
    "with tf.name_scope(\"Inference\"):\n",
    "    out1 = conv_relu(x, [5, 5, 1, 32], \"Conv1\")\n",
    "    out1 = fc_relu(x, 28, 28, 100, \"FC1-ReLu\")\n",
    "    logits = fully_connected(out1, 10, 10,10, \"FC2\")\n",
    "    \n",
    "# 2. Loss ops.\n",
    "with tf.name_scope(\"Loss\"):\n",
    "    entropy = tf.nn.softmax_cross_entropy_with_logits(logits=logits, labels=targets)\n",
    "    # Loss = mean over examples in the batch.\n",
    "    loss = tf.reduce_mean(entropy)\n",
    "    # Add loss summary.\n",
    "    loss_summary = tf.summary.scalar(\"loss\", loss)\n",
    "    \n",
    "# 3. Training ops.  \n",
    "with tf.name_scope(\"Training\"):\n",
    "    optimizer = tf.train.AdamOptimizer(learning_rate=LEARNING_RATE).minimize(loss)\n",
    "with tf.name_scope(\"Evaluating\") as scope:\n",
    "    # Count correct predictions by a simple argmax trick on each sample in a batch.\n",
    "    correct_prediction = tf.equal(tf.argmax(logits,1), tf.argmax(targets,1))\n",
    "    accuracy = tf.reduce_mean(tf.cast(correct_prediction, \"float\"))\n",
    "    # Add accuracy summary.\n",
    "    accuracy_summary = tf.summary.scalar(\"accuracy\", accuracy)\n",
    "\n",
    "# Merge all summaries.\n",
    "summaries = tf.summary.merge_all()\n",
    "\n",
    "# 4. Init global variable.\n",
    "init = tf.global_variables_initializer()"
   ]
  },
  {
   "cell_type": "markdown",
   "metadata": {},
   "source": [
    "#### Helper functions"
   ]
  },
  {
   "cell_type": "code",
   "execution_count": 26,
   "metadata": {
    "collapsed": true
   },
   "outputs": [],
   "source": [
    "def feed_dict(dataset):\n",
    "  \"\"\"Make a TensorFlow feed_dict: maps data onto Tensor placeholders.\"\"\"\n",
    "  if dataset==\"train\":\n",
    "    xs, ys = mnist_dataset.train.next_batch(BATCH_SIZE)\n",
    "  elif dataset==\"valid\":\n",
    "    xs, ys = mnist_dataset.validation.images, mnist_dataset.validation.labels\n",
    "  else: # test\n",
    "    xs, ys = mnist_dataset.test.images, mnist_dataset.test.labels\n",
    "  return {x: xs, targets: ys}"
   ]
  },
  {
   "cell_type": "markdown",
   "metadata": {},
   "source": [
    "### C. Run session."
   ]
  },
  {
   "cell_type": "code",
   "execution_count": 27,
   "metadata": {
    "collapsed": true
   },
   "outputs": [],
   "source": [
    "# Eventually clear the log dir.\n",
    "if tf.gfile.Exists(LOG_DIR):\n",
    "  tf.gfile.DeleteRecursively(LOG_DIR)\n",
    "# Create (new) log dir.\n",
    "tf.gfile.MakeDirs(LOG_DIR)"
   ]
  },
  {
   "cell_type": "code",
   "execution_count": 28,
   "metadata": {},
   "outputs": [
    {
     "name": "stdout",
     "output_type": "stream",
     "text": [
      "Initial accuracy on test set: 0.0887\n",
      "Accuracy at step 0: 0.0814\n",
      "Accuracy at step 100: 0.679\n",
      "Accuracy at step 200: 0.7474\n",
      "Accuracy at step 300: 0.7804\n",
      "Accuracy at step 400: 0.8052\n",
      "Accuracy at step 500: 0.8306\n",
      "Accuracy at step 550: 0.839\n",
      "Accuracy at step 650: 0.8572\n",
      "Accuracy at step 750: 0.8692\n",
      "Accuracy at step 850: 0.8766\n",
      "Accuracy at step 950: 0.8834\n",
      "Accuracy at step 1050: 0.888\n",
      "Accuracy at step 1100: 0.8904\n",
      "Accuracy at step 1200: 0.896\n",
      "Accuracy at step 1300: 0.8984\n",
      "Accuracy at step 1400: 0.901\n",
      "Accuracy at step 1500: 0.9042\n",
      "Accuracy at step 1600: 0.9046\n",
      "Accuracy at step 1650: 0.9072\n",
      "Accuracy at step 1750: 0.908\n",
      "Accuracy at step 1850: 0.91\n",
      "Accuracy at step 1950: 0.9126\n",
      "Accuracy at step 2050: 0.9132\n",
      "Accuracy at step 2150: 0.9118\n",
      "Accuracy at step 2200: 0.913\n",
      "Accuracy at step 2300: 0.9138\n",
      "Accuracy at step 2400: 0.9156\n",
      "Accuracy at step 2500: 0.9176\n",
      "Accuracy at step 2600: 0.9174\n",
      "Accuracy at step 2700: 0.918\n",
      "Accuracy at step 2750: 0.9186\n",
      "Accuracy at step 2850: 0.9192\n",
      "Accuracy at step 2950: 0.9186\n",
      "Accuracy at step 3050: 0.9204\n",
      "Accuracy at step 3150: 0.9208\n",
      "Accuracy at step 3250: 0.9218\n",
      "Accuracy at step 3300: 0.9208\n",
      "Accuracy at step 3400: 0.9224\n",
      "Accuracy at step 3500: 0.924\n",
      "Accuracy at step 3600: 0.9246\n",
      "Accuracy at step 3700: 0.9252\n",
      "Accuracy at step 3800: 0.9244\n",
      "Accuracy at step 3850: 0.926\n",
      "Accuracy at step 3950: 0.9258\n",
      "Accuracy at step 4050: 0.9264\n",
      "Accuracy at step 4150: 0.928\n",
      "Accuracy at step 4250: 0.9278\n",
      "Accuracy at step 4350: 0.928\n",
      "Accuracy at step 4400: 0.9294\n",
      "Accuracy at step 4500: 0.9302\n",
      "Accuracy at step 4600: 0.9288\n",
      "Accuracy at step 4700: 0.9296\n",
      "Accuracy at step 4800: 0.9296\n",
      "Accuracy at step 4900: 0.9302\n",
      "Accuracy at step 4950: 0.9288\n",
      "Accuracy at step 5050: 0.9298\n",
      "Accuracy at step 5150: 0.931\n",
      "Accuracy at step 5250: 0.9304\n",
      "Accuracy at step 5350: 0.9336\n",
      "Accuracy at step 5450: 0.9334\n",
      "Final accuracy on test set: 0.9316\n"
     ]
    }
   ],
   "source": [
    "# Create session.\n",
    "sess = tf.InteractiveSession()\n",
    "# Merge all the summaries and write them out to /tmp/mnist_logs (by default)\n",
    "merged = tf.summary.merge_all()\n",
    "train_writer = tf.summary.FileWriter(LOG_DIR + '/train', sess.graph)\n",
    "valid_writer = tf.summary.FileWriter(LOG_DIR + '/valid')\n",
    "test_writer = tf.summary.FileWriter(LOG_DIR + '/test')\n",
    "\n",
    "# Initialize variables.\n",
    "#tf.global_variables_initializer().run()\n",
    "sess.run(init)\n",
    "\n",
    "# First, check accuracy on test dataset.\n",
    "summary, acc = sess.run([merged, accuracy], feed_dict=feed_dict(\"test\"))\n",
    "test_writer.add_summary(summary, 0)\n",
    "print('Initial accuracy on test set: %s' % (acc))\n",
    "\n",
    "# Perform training with minibatches and validation every 100 training steps.\n",
    "n_batches = int(mnist_dataset.train.num_examples/BATCH_SIZE)\n",
    "for e in range (N_EPOCHS):\n",
    "  for b in range (n_batches):\n",
    "    if b % 100 == 0:  # Record summaries and valid-set accuracy\n",
    "      summary, acc = sess.run([merged, accuracy], feed_dict=feed_dict(\"valid\"))\n",
    "      valid_writer.add_summary(summary, b+e*n_batches)\n",
    "      print('Accuracy at step %s: %s' % (b+e*n_batches, acc))\n",
    "    else:  # Record train set summaries, and train\n",
    "      summary, acc = sess.run([merged, optimizer], feed_dict=feed_dict(\"train\"))\n",
    "      train_writer.add_summary(summary, b+e*n_batches)\n",
    "\n",
    "# Finally, check accuray on test dataset\n",
    "summary, acc = sess.run([merged, accuracy], feed_dict=feed_dict(\"test\"))\n",
    "test_writer.add_summary(summary, n_batches*N_EPOCHS)\n",
    "print('Final accuracy on test set: %s' % (acc))\n",
    "\n",
    "# Close writers and session.\n",
    "train_writer.flush()\n",
    "train_writer.close()\n",
    "valid_writer.flush()\n",
    "valid_writer.close()\n",
    "test_writer.flush()\n",
    "test_writer.close()\n",
    "sess.close()"
   ]
  },
  {
   "cell_type": "code",
   "execution_count": null,
   "metadata": {
    "collapsed": true
   },
   "outputs": [],
   "source": []
  }
 ],
 "metadata": {
  "kernelspec": {
   "display_name": "Python 3",
   "language": "python",
   "name": "python3"
  },
  "language_info": {
   "codemirror_mode": {
    "name": "ipython",
    "version": 3
   },
   "file_extension": ".py",
   "mimetype": "text/x-python",
   "name": "python",
   "nbconvert_exporter": "python",
   "pygments_lexer": "ipython3",
   "version": "3.4.3"
  }
 },
 "nbformat": 4,
 "nbformat_minor": 2
}
