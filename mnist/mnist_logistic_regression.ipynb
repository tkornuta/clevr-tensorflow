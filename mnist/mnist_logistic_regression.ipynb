{
 "cells": [
  {
   "cell_type": "code",
   "execution_count": 10,
   "metadata": {},
   "outputs": [],
   "source": [
    "import numpy as np\n",
    "import tensorflow as tf\n",
    "from tensorflow.examples.tutorials.mnist import input_data\n",
    "\n",
    "# Dirs - must be absolute paths!\n",
    "LOG_DIR = '/tmp/tf/mnist_logistic_regression'\n",
    "MNIST_DIR = \"/home/tkornuta/data/mnist\"\n",
    "\n",
    "# Set learning parameters.\n",
    "LEARNING_RATE = 1e-4\n",
    "BATCH_SIZE = 100\n",
    "N_EPOCHS = 1"
   ]
  },
  {
   "cell_type": "markdown",
   "metadata": {},
   "source": [
    "### A. Import MNIST datset, use one-hot encoding for labels."
   ]
  },
  {
   "cell_type": "code",
   "execution_count": 2,
   "metadata": {},
   "outputs": [
    {
     "name": "stdout",
     "output_type": "stream",
     "text": [
      "Extracting /home/tkornuta/data/mnist/train-images-idx3-ubyte.gz\n",
      "Extracting /home/tkornuta/data/mnist/train-labels-idx1-ubyte.gz\n",
      "Extracting /home/tkornuta/data/mnist/t10k-images-idx3-ubyte.gz\n",
      "Extracting /home/tkornuta/data/mnist/t10k-labels-idx1-ubyte.gz\n"
     ]
    }
   ],
   "source": [
    "mnist_dataset = input_data.read_data_sets(MNIST_DIR, one_hot=True)"
   ]
  },
  {
   "cell_type": "markdown",
   "metadata": {},
   "source": [
    "### B. Start graph definition."
   ]
  },
  {
   "cell_type": "code",
   "execution_count": 3,
   "metadata": {},
   "outputs": [],
   "source": [
    "# B. \n",
    "# 0. Placeholders for inputs.\n",
    "with tf.name_scope(\"Input_data\"):\n",
    "    # Shape - none, as we will feed both training batches as well as test datasets.\n",
    "    x = tf.placeholder(tf.float32, shape=None, name=\"x\")\n",
    "    targets = tf.placeholder(tf.float32, shape=None, name=\"target\")\n",
    "with tf.name_scope(\"Input_visualization\") as scope:\n",
    "  x_image = tf.reshape(x, [-1,28,28,1])\n",
    "  image_summ = tf.summary.image(\"Example_images\", x_image)\n",
    "\n",
    "# 1. Inference ops.\n",
    "with tf.name_scope(\"Inference\"):\n",
    "    w = tf.Variable(tf.random_normal(shape=[784,10], stddev=0.01), name=\"weights\") \n",
    "    b = tf.Variable(tf.zeros(shape=[1,10]), name=\"bias\")\n",
    "    logits = tf.add(tf.matmul(x,w), b, name=\"logits\")\n",
    "    # Add histograms to TensorBoard.\n",
    "    w_hist = tf.summary.histogram(\"w\", w)\n",
    "    b_hist = tf.summary.histogram(\"b\", b)\n",
    "with tf.name_scope(\"Activation_visualization\") as scope:\n",
    "  x_image = tf.reshape(x, [-1,28,28,1])\n",
    "  image_summ = tf.summary.image(\"Example_images\", x_image)\n",
    "\n",
    "# 2. Loss ops.\n",
    "with tf.name_scope(\"Loss\"):\n",
    "    entropy = tf.nn.softmax_cross_entropy_with_logits(logits=logits, labels=targets)\n",
    "    # Loss = mean over examples in the batch.\n",
    "    loss = tf.reduce_mean(entropy)\n",
    "    # Add loss summary.\n",
    "    loss_summary = tf.summary.scalar(\"loss\", loss)\n",
    "    \n",
    "# 3. Training ops.  \n",
    "with tf.name_scope(\"Training\"):\n",
    "    optimizer = tf.train.AdamOptimizer(learning_rate=LEARNING_RATE).minimize(loss)\n",
    "with tf.name_scope(\"Evaluating\") as scope:\n",
    "    # Count correct predictions by a simple argmax trick on each sample in a batch.\n",
    "    correct_prediction = tf.equal(tf.argmax(logits,1), tf.argmax(targets,1))\n",
    "    accuracy = tf.reduce_mean(tf.cast(correct_prediction, \"float\"))\n",
    "    # Add accuracy summary.\n",
    "    accuracy_summary = tf.summary.scalar(\"accuracy\", accuracy)\n",
    "\n",
    "# Merge all summaries.\n",
    "summaries = tf.summary.merge_all()\n",
    "\n",
    "# 4. Init global variable.\n",
    "init = tf.global_variables_initializer()"
   ]
  },
  {
   "cell_type": "markdown",
   "metadata": {},
   "source": [
    "#### Helper functions"
   ]
  },
  {
   "cell_type": "code",
   "execution_count": 4,
   "metadata": {
    "collapsed": true
   },
   "outputs": [],
   "source": [
    "def feed_dict(data_set):\n",
    "  \"\"\"Make a TensorFlow feed_dict: maps data onto Tensor placeholders.\"\"\"\n",
    "  if dataset==\"train\":\n",
    "    xs, ys = mnist_dataset.train.next_batch(BATCH_SIZE)\n",
    "  else if dataset==\"valid\":\n",
    "    xs, ys = mnist_dataset.valid.images, mnist_dataset.valid.labels\n",
    "  else: # test\n",
    "    xs, ys = mnist_dataset.test.images, mnist_dataset.test.labels\n",
    "  return {x: xs, targets: ys}"
   ]
  },
  {
   "cell_type": "markdown",
   "metadata": {},
   "source": [
    "### C. Run session."
   ]
  },
  {
   "cell_type": "code",
   "execution_count": 13,
   "metadata": {},
   "outputs": [
    {
     "name": "stdout",
     "output_type": "stream",
     "text": [
      "Accuracy at step 0: 0.08\n",
      "Accuracy at step 100: 0.63\n",
      "Accuracy at step 200: 0.76\n",
      "Accuracy at step 300: 0.84\n",
      "Accuracy at step 400: 0.86\n",
      "Accuracy at step 500: 0.84\n",
      "Final accuracy on test set: 0.8\n"
     ]
    }
   ],
   "source": [
    "# Create session.\n",
    "sess = tf.InteractiveSession()\n",
    "# Merge all the summaries and write them out to /tmp/mnist_logs (by default)\n",
    "merged = tf.summary.merge_all()\n",
    "train_writer = tf.summary.FileWriter(LOG_DIR + '/train', sess.graph)\n",
    "valid_writer = tf.summary.FileWriter(LOG_DIR + '/valid')\n",
    "\n",
    "# Initialize variables.\n",
    "#tf.global_variables_initializer().run()\n",
    "sess.run(init)\n",
    "\n",
    "n_batches = int(mnist_dataset.train.num_examples/BATCH_SIZE)\n",
    "for e in range (N_EPOCHS):\n",
    "  for b in range (n_batches):\n",
    "    if b % 100 == 0:  # Record summaries and valid-set accuracy\n",
    "      summary, acc = sess.run([merged, accuracy], feed_dict=feed_dict(\"train\"))\n",
    "      test_writer.add_summary(summary, b+e*n_batches)\n",
    "      print('Accuracy at step %s: %s' % (b+e*n_batches, acc))\n",
    "    else:  # Record train set summaries, and train\n",
    "      summary, acc = sess.run([merged, optimizer], feed_dict=feed_dict(\"Valid\"))\n",
    "      valid_writer.add_summary(summary, b+e*n_batches)\n",
    "\n",
    "# Finally, check accuray on test dataset\n",
    "acc = sess.run(accuracy, feed_dict=feed_dict(\"test\"))\n",
    "print('Final accuracy on test set: %s' % (acc))\n",
    "\n",
    "# Close writers and session.\n",
    "test_writer.flush()\n",
    "test_writer.close()\n",
    "valid_writer.flush()\n",
    "valid_writer.close()\n",
    "sess.close()"
   ]
  },
  {
   "cell_type": "code",
   "execution_count": null,
   "metadata": {
    "collapsed": true
   },
   "outputs": [],
   "source": []
  }
 ],
 "metadata": {
  "kernelspec": {
   "display_name": "Python 3",
   "language": "python",
   "name": "python3"
  },
  "language_info": {
   "codemirror_mode": {
    "name": "ipython",
    "version": 3
   },
   "file_extension": ".py",
   "mimetype": "text/x-python",
   "name": "python",
   "nbconvert_exporter": "python",
   "pygments_lexer": "ipython3",
   "version": "3.4.3"
  }
 },
 "nbformat": 4,
 "nbformat_minor": 2
}
