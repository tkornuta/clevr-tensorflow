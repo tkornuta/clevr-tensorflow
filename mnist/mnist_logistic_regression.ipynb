{
 "cells": [
  {
   "cell_type": "code",
   "execution_count": 1,
   "metadata": {
    "collapsed": true
   },
   "outputs": [],
   "source": [
    "import numpy as np\n",
    "import tensorflow as tf\n",
    "from tensorflow.examples.tutorials.mnist import input_data\n",
    "\n",
    "# Dirs - must be absolute paths!\n",
    "LOG_DIR = '/tmp/tf/mnist_logistic_regression'\n",
    "MNIST_DIR = \"/home/tkornuta/data/mnist\"\n",
    "\n",
    "# Set learning parameters.\n",
    "LEARNING_RATE = 1e-4\n",
    "BATCH_SIZE = 100\n",
    "N_EPOCHS = 10"
   ]
  },
  {
   "cell_type": "markdown",
   "metadata": {},
   "source": [
    "### A. Import MNIST datset, use one-hot encoding for labels."
   ]
  },
  {
   "cell_type": "code",
   "execution_count": 2,
   "metadata": {},
   "outputs": [
    {
     "name": "stdout",
     "output_type": "stream",
     "text": [
      "Extracting /home/tkornuta/data/mnist/train-images-idx3-ubyte.gz\n",
      "Extracting /home/tkornuta/data/mnist/train-labels-idx1-ubyte.gz\n",
      "Extracting /home/tkornuta/data/mnist/t10k-images-idx3-ubyte.gz\n",
      "Extracting /home/tkornuta/data/mnist/t10k-labels-idx1-ubyte.gz\n"
     ]
    }
   ],
   "source": [
    "mnist_dataset = input_data.read_data_sets(MNIST_DIR, one_hot=True)"
   ]
  },
  {
   "cell_type": "markdown",
   "metadata": {},
   "source": [
    "### B. Define the tensor graph."
   ]
  },
  {
   "cell_type": "code",
   "execution_count": 3,
   "metadata": {
    "collapsed": true
   },
   "outputs": [],
   "source": [
    "# Reset graph - just in case.\n",
    "tf.reset_default_graph()\n",
    "\n",
    "# B. \n",
    "# 0. Placeholders for inputs.\n",
    "with tf.name_scope(\"Input_data\"):\n",
    "    # Shape - none, as we will feed both training batches as well as test datasets.\n",
    "    x = tf.placeholder(tf.float32, shape=None, name=\"x\")\n",
    "    targets = tf.placeholder(tf.float32, shape=None, name=\"target\")\n",
    "with tf.name_scope(\"Input_visualization\") as scope:\n",
    "    x_image = tf.reshape(x, [-1,28,28,1])\n",
    "    image_summ = tf.summary.image(\"Example_images\", x_image)\n",
    "\n",
    "# 1. Inference ops.\n",
    "with tf.name_scope(\"Inference\"):\n",
    "    w = tf.Variable(tf.random_normal(shape=[784,10], stddev=0.01), name=\"weights\") \n",
    "    b = tf.Variable(tf.zeros(shape=[1,10]), name=\"bias\")\n",
    "    logits = tf.add(tf.matmul(x,w), b, name=\"logits\")\n",
    "    # Add histograms to TensorBoard.\n",
    "    w_hist = tf.summary.histogram(\"w\", w)\n",
    "    b_hist = tf.summary.histogram(\"b\", b)\n",
    "with tf.name_scope(\"Activation_visualization\"):\n",
    "    # Interate through neurons.\n",
    "    for output_neuron in range(10):\n",
    "        w_activ = tf.slice(w, [0,output_neuron], [784,1])\n",
    "        w_act_reshaped = tf.reshape(w_activ, [1,28,28,1])\n",
    "        #  # Get activations from consecutive cols.\n",
    "        image_summ = tf.summary.image(\"w_activations\", w_act_reshaped)\n",
    "\n",
    "# 2. Loss ops.\n",
    "with tf.name_scope(\"Loss\"):\n",
    "    entropy = tf.nn.softmax_cross_entropy_with_logits(logits=logits, labels=targets)\n",
    "    # Loss = mean over examples in the batch.\n",
    "    loss = tf.reduce_mean(entropy)\n",
    "    # Add loss summary.\n",
    "    loss_summary = tf.summary.scalar(\"loss\", loss)\n",
    "    \n",
    "# 3. Training ops.  \n",
    "with tf.name_scope(\"Training\"):\n",
    "    optimizer = tf.train.AdamOptimizer(learning_rate=LEARNING_RATE).minimize(loss)\n",
    "with tf.name_scope(\"Evaluating\") as scope:\n",
    "    # Count correct predictions by a simple argmax trick on each sample in a batch.\n",
    "    correct_prediction = tf.equal(tf.argmax(logits,1), tf.argmax(targets,1))\n",
    "    accuracy = tf.reduce_mean(tf.cast(correct_prediction, \"float\"))\n",
    "    # Add accuracy summary.\n",
    "    accuracy_summary = tf.summary.scalar(\"accuracy\", accuracy)\n",
    "\n",
    "# Merge all summaries.\n",
    "summaries = tf.summary.merge_all()\n",
    "\n",
    "# 4. Init global variable.\n",
    "init = tf.global_variables_initializer()"
   ]
  },
  {
   "cell_type": "markdown",
   "metadata": {},
   "source": [
    "#### Helper functions"
   ]
  },
  {
   "cell_type": "code",
   "execution_count": 4,
   "metadata": {
    "collapsed": true
   },
   "outputs": [],
   "source": [
    "def feed_dict(dataset):\n",
    "  \"\"\"Make a TensorFlow feed_dict: maps data onto Tensor placeholders.\"\"\"\n",
    "  if dataset==\"train\":\n",
    "    xs, ys = mnist_dataset.train.next_batch(BATCH_SIZE)\n",
    "  elif dataset==\"valid\":\n",
    "    xs, ys = mnist_dataset.validation.images, mnist_dataset.validation.labels\n",
    "  else: # test\n",
    "    xs, ys = mnist_dataset.test.images, mnist_dataset.test.labels\n",
    "  return {x: xs, targets: ys}"
   ]
  },
  {
   "cell_type": "markdown",
   "metadata": {},
   "source": [
    "### C. Run session."
   ]
  },
  {
   "cell_type": "code",
   "execution_count": 5,
   "metadata": {
    "collapsed": true
   },
   "outputs": [],
   "source": [
    "# Eventually clear the log dir.\n",
    "if tf.gfile.Exists(LOG_DIR):\n",
    "  tf.gfile.DeleteRecursively(LOG_DIR)\n",
    "# Create (new) log dir.\n",
    "tf.gfile.MakeDirs(LOG_DIR)"
   ]
  },
  {
   "cell_type": "code",
   "execution_count": 6,
   "metadata": {},
   "outputs": [
    {
     "name": "stdout",
     "output_type": "stream",
     "text": [
      "Accuracy at step 0: 0.1276\n",
      "Accuracy at step 100: 0.6598\n",
      "Accuracy at step 200: 0.7658\n",
      "Accuracy at step 300: 0.7892\n",
      "Accuracy at step 400: 0.8084\n",
      "Accuracy at step 500: 0.8144\n",
      "Accuracy at step 550: 0.8164\n",
      "Accuracy at step 650: 0.8296\n",
      "Accuracy at step 750: 0.8358\n",
      "Accuracy at step 850: 0.8408\n",
      "Accuracy at step 950: 0.8488\n",
      "Accuracy at step 1050: 0.8516\n",
      "Accuracy at step 1100: 0.8556\n",
      "Accuracy at step 1200: 0.8586\n",
      "Accuracy at step 1300: 0.8628\n",
      "Accuracy at step 1400: 0.8652\n",
      "Accuracy at step 1500: 0.8672\n",
      "Accuracy at step 1600: 0.8712\n",
      "Accuracy at step 1650: 0.8722\n",
      "Accuracy at step 1750: 0.8738\n",
      "Accuracy at step 1850: 0.8762\n",
      "Accuracy at step 1950: 0.8794\n",
      "Accuracy at step 2050: 0.8808\n",
      "Accuracy at step 2150: 0.883\n",
      "Accuracy at step 2200: 0.8852\n",
      "Accuracy at step 2300: 0.8852\n",
      "Accuracy at step 2400: 0.8858\n",
      "Accuracy at step 2500: 0.8886\n",
      "Accuracy at step 2600: 0.8896\n",
      "Accuracy at step 2700: 0.8926\n",
      "Accuracy at step 2750: 0.8926\n",
      "Accuracy at step 2850: 0.8942\n",
      "Accuracy at step 2950: 0.8958\n",
      "Accuracy at step 3050: 0.897\n",
      "Accuracy at step 3150: 0.8962\n",
      "Accuracy at step 3250: 0.8978\n",
      "Accuracy at step 3300: 0.8986\n",
      "Accuracy at step 3400: 0.8996\n",
      "Accuracy at step 3500: 0.9\n",
      "Accuracy at step 3600: 0.9006\n",
      "Accuracy at step 3700: 0.9022\n",
      "Accuracy at step 3800: 0.903\n",
      "Accuracy at step 3850: 0.9034\n",
      "Accuracy at step 3950: 0.903\n",
      "Accuracy at step 4050: 0.904\n",
      "Accuracy at step 4150: 0.904\n",
      "Accuracy at step 4250: 0.9042\n",
      "Accuracy at step 4350: 0.9054\n",
      "Accuracy at step 4400: 0.9052\n",
      "Accuracy at step 4500: 0.9064\n",
      "Accuracy at step 4600: 0.9068\n",
      "Accuracy at step 4700: 0.9078\n",
      "Accuracy at step 4800: 0.9074\n",
      "Accuracy at step 4900: 0.9074\n",
      "Accuracy at step 4950: 0.9078\n",
      "Accuracy at step 5050: 0.907\n",
      "Accuracy at step 5150: 0.908\n",
      "Accuracy at step 5250: 0.908\n",
      "Accuracy at step 5350: 0.9088\n",
      "Accuracy at step 5450: 0.9088\n",
      "Final accuracy on test set: 0.9091\n"
     ]
    }
   ],
   "source": [
    "# Create session.\n",
    "sess = tf.InteractiveSession()\n",
    "# Merge all the summaries and write them out to /tmp/mnist_logs (by default)\n",
    "merged = tf.summary.merge_all()\n",
    "train_writer = tf.summary.FileWriter(LOG_DIR + '/train', sess.graph)\n",
    "valid_writer = tf.summary.FileWriter(LOG_DIR + '/valid')\n",
    "test_writer = tf.summary.FileWriter(LOG_DIR + '/test')\n",
    "\n",
    "# Initialize variables.\n",
    "#tf.global_variables_initializer().run()\n",
    "sess.run(init)\n",
    "\n",
    "# First, check accuracy on test dataset.\n",
    "#summary, acc = sess.run([merged, accuracy], feed_dict=feed_dict(\"test\"))\n",
    "#test_writer.add_summary(summary, 0)\n",
    "#print('Initial accuracy on test set: %s' % (acc))\n",
    "\n",
    "# Perform training with minibatches and validation every 100 training steps.\n",
    "n_batches = int(mnist_dataset.train.num_examples/BATCH_SIZE)\n",
    "for e in range (N_EPOCHS):\n",
    "  for b in range (n_batches):\n",
    "    if b % 100 == 0:  # Record summaries and valid-set accuracy\n",
    "      summary, acc = sess.run([merged, accuracy], feed_dict=feed_dict(\"valid\"))\n",
    "      valid_writer.add_summary(summary, b+e*n_batches)\n",
    "      valid_writer.flush()\n",
    "      print('Accuracy at step %s: %s' % (b+e*n_batches, acc))\n",
    "    else:  # Record train set summaries, and train\n",
    "      summary, acc = sess.run([merged, optimizer], feed_dict=feed_dict(\"train\"))\n",
    "      train_writer.add_summary(summary, b+e*n_batches)\n",
    "      train_writer.flush()\n",
    "\n",
    "# Finally, check accuray on test dataset\n",
    "summary, acc = sess.run([merged, accuracy], feed_dict=feed_dict(\"test\"))\n",
    "test_writer.add_summary(summary, n_batches*N_EPOCHS)\n",
    "print('Final accuracy on test set: %s' % (acc))\n",
    "\n",
    "# Close writers and session.\n",
    "train_writer.close()\n",
    "valid_writer.close()\n",
    "test_writer.flush()\n",
    "test_writer.close()\n",
    "sess.close()"
   ]
  },
  {
   "cell_type": "code",
   "execution_count": null,
   "metadata": {
    "collapsed": true
   },
   "outputs": [],
   "source": []
  }
 ],
 "metadata": {
  "kernelspec": {
   "display_name": "Python 3",
   "language": "python",
   "name": "python3"
  },
  "language_info": {
   "codemirror_mode": {
    "name": "ipython",
    "version": 3
   },
   "file_extension": ".py",
   "mimetype": "text/x-python",
   "name": "python",
   "nbconvert_exporter": "python",
   "pygments_lexer": "ipython3",
   "version": "3.4.3"
  }
 },
 "nbformat": 4,
 "nbformat_minor": 2
}
