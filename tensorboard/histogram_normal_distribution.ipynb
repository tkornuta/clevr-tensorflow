{
 "cells": [
  {
   "cell_type": "code",
   "execution_count": null,
   "metadata": {
    "collapsed": true
   },
   "outputs": [],
   "source": [
    "# Example from\n",
    "# https://stackoverflow.com/questions/35567132/meaning-of-histogram-on-tensorboard\n",
    "import tensorflow as tf\n",
    "\n",
    "log_dir = \"/tmp/tf/hist/2\"\n",
    "\n",
    "# Eventually clear the log dir.\n",
    "if tf.gfile.Exists(log_dir):\n",
    "  tf.gfile.DeleteRecursively(log_dir)\n",
    "# Create (new) log dir.\n",
    "tf.gfile.MakeDirs(log_dir)\n"
   ]
  },
  {
   "cell_type": "code",
   "execution_count": 2,
   "metadata": {
    "collapsed": true
   },
   "outputs": [],
   "source": [
    "# Reset graph - just in case.\n",
    "#tf.reset_default_graph()\n",
    "\n",
    "# Work in the scope of the graph\n",
    "g = tf.Graph()\n",
    "with g.as_default():\n",
    "  # Generate variables with normal distribution.\n",
    "  with tf.name_scope(\"zmienne\"):\n",
    "    W1 = tf.Variable(tf.random_normal([100], mean=0.0, stddev=1.0), name=\"W1\", trainable=False)\n",
    "    W2 = tf.Variable(tf.random_normal([100], mean=1.0, stddev=0.1), name=\"W2\")\n",
    "\n",
    "  suma = tf.add(W1,W2, name=\"W1_plus_W2\")\n",
    "\n",
    "  # Node responsible for variables initialization.\n",
    "  init = tf.global_variables_initializer()\n",
    "\n",
    "  # Create TF histograms.\n",
    "  w1_hist = tf.summary.histogram(\"W1-stdev_1.0\", W1)\n",
    "  w2_hist = tf.summary.histogram(\"W2-stdev_0.13\", W2)\n",
    "  sum_hist = tf.summary.histogram(\"suma\", suma)\n",
    "\n",
    "  # Merge summary op.\n",
    "  summaries = tf.summary.merge_all()   "
   ]
  },
  {
   "cell_type": "code",
   "execution_count": 3,
   "metadata": {},
   "outputs": [
    {
     "name": "stdout",
     "output_type": "stream",
     "text": [
      "Trainable variables: [<tf.Variable 'zmienne/W2:0' shape=(100,) dtype=float32_ref>]\n",
      "Default graph operations: [<tf.Operation 'zmienne/random_normal/shape' type=Const>, <tf.Operation 'zmienne/random_normal/mean' type=Const>, <tf.Operation 'zmienne/random_normal/stddev' type=Const>, <tf.Operation 'zmienne/random_normal/RandomStandardNormal' type=RandomStandardNormal>, <tf.Operation 'zmienne/random_normal/mul' type=Mul>, <tf.Operation 'zmienne/random_normal' type=Add>, <tf.Operation 'zmienne/W1' type=VariableV2>, <tf.Operation 'zmienne/W1/Assign' type=Assign>, <tf.Operation 'zmienne/W1/read' type=Identity>, <tf.Operation 'zmienne/random_normal_1/shape' type=Const>, <tf.Operation 'zmienne/random_normal_1/mean' type=Const>, <tf.Operation 'zmienne/random_normal_1/stddev' type=Const>, <tf.Operation 'zmienne/random_normal_1/RandomStandardNormal' type=RandomStandardNormal>, <tf.Operation 'zmienne/random_normal_1/mul' type=Mul>, <tf.Operation 'zmienne/random_normal_1' type=Add>, <tf.Operation 'zmienne/W2' type=VariableV2>, <tf.Operation 'zmienne/W2/Assign' type=Assign>, <tf.Operation 'zmienne/W2/read' type=Identity>, <tf.Operation 'W1_plus_W2' type=Add>, <tf.Operation 'init' type=NoOp>, <tf.Operation 'W1-stdev_1.0/tag' type=Const>, <tf.Operation 'W1-stdev_1.0' type=HistogramSummary>, <tf.Operation 'W2-stdev_0.13/tag' type=Const>, <tf.Operation 'W2-stdev_0.13' type=HistogramSummary>, <tf.Operation 'suma/tag' type=Const>, <tf.Operation 'suma' type=HistogramSummary>, <tf.Operation 'Merge/MergeSummary' type=MergeSummary>]\n"
     ]
    }
   ],
   "source": [
    "#sess = tf.InteractiveSession()\n",
    "\n",
    "with tf.Session(graph=g) as sess:\n",
    "  #`sess.graph` provides access to the graph used in a `tf.Session`.\n",
    "  writer = tf.summary.FileWriter(log_dir, sess.graph)\n",
    "\n",
    "  for step in range(100):\n",
    "    # Evaluate \n",
    "    sess.run(init)\n",
    "    #suma_val = sess.run(suma)\n",
    "    summ = sess.run(summaries)\n",
    "    writer.add_summary(summ, global_step=step)\n",
    "    \n",
    "  # Print trainable variables.\n",
    "  print(\"Trainable variables:\", tf.trainable_variables())\n",
    "\n",
    "  # Print all of the operations in the default graph.\n",
    "  #g = tf.get_default_graph()\n",
    "  print(\"Default graph operations:\", sess.graph.get_operations())\n",
    "\n",
    "  # Close writer.\n",
    "  writer.flush()\n",
    "  writer.close()\n",
    "\n",
    "  # Close session to free resources.\n",
    "  sess.close()\n"
   ]
  },
  {
   "cell_type": "code",
   "execution_count": null,
   "metadata": {
    "collapsed": true
   },
   "outputs": [],
   "source": []
  }
 ],
 "metadata": {
  "kernelspec": {
   "display_name": "Python 3",
   "language": "python",
   "name": "python3"
  },
  "language_info": {
   "codemirror_mode": {
    "name": "ipython",
    "version": 3
   },
   "file_extension": ".py",
   "mimetype": "text/x-python",
   "name": "python",
   "nbconvert_exporter": "python",
   "pygments_lexer": "ipython3",
   "version": "3.4.3"
  }
 },
 "nbformat": 4,
 "nbformat_minor": 2
}
