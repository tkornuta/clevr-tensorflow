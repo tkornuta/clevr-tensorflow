{
 "cells": [
  {
   "cell_type": "code",
   "execution_count": 37,
   "metadata": {
    "collapsed": true
   },
   "outputs": [],
   "source": [
    "# Example from\n",
    "# https://stackoverflow.com/questions/35567132/meaning-of-histogram-on-tensorboard\n",
    "import tensorflow as tf\n",
    "\n",
    "log_dir = \"/tmp/TF/test_logs\"\n",
    "\n",
    "# Eventually clear the log dir.\n",
    "if tf.gfile.Exists(log_dir):\n",
    "  tf.gfile.DeleteRecursively(log_dir)\n",
    "# Create (new) log dir.\n",
    "tf.gfile.MakeDirs(log_dir)\n"
   ]
  },
  {
   "cell_type": "code",
   "execution_count": 47,
   "metadata": {},
   "outputs": [],
   "source": [
    "# Reset graph - just in case.\n",
    "tf.reset_default_graph()\n",
    "\n",
    "# Work in the scope of the graph\n",
    "g1 = tf.Graph()\n",
    "with g1.as_default():\n",
    "  # Generate variables with normal distribution.\n",
    "  with tf.name_scope(\"variables\"):\n",
    "    W1 = tf.Variable(tf.random_normal([200, 10], stddev=1.0), name='W1', trainable=False)\n",
    "    W2 = tf.Variable(tf.random_normal([200, 10], stddev=0.13), name=\"W2\")\n",
    "\n",
    "  with tf.name_scope(\"sum\"):\n",
    "    suma = tf.add(W1,W2, name=\"w1_plus_W2\")\n",
    "\n",
    "  # Node responsible for variables initialization.\n",
    "  init = tf.global_variables_initializer()"
   ]
  },
  {
   "cell_type": "code",
   "execution_count": 48,
   "metadata": {
    "collapsed": true
   },
   "outputs": [],
   "source": [
    "# Create TF histograms.\n",
    "w1_hist = tf.summary.histogram(\"weights-stdev_1.0\", W1)\n",
    "w2_hist = tf.summary.histogram(\"weights-stdev_0.13\", W2)\n",
    "sum_hist = tf.summary.histogram(\"sum\", suma)\n",
    "\n",
    "# Merge summary.\n",
    "summary_op = tf.summary.merge_all()\n"
   ]
  },
  {
   "cell_type": "code",
   "execution_count": 49,
   "metadata": {},
   "outputs": [
    {
     "name": "stdout",
     "output_type": "stream",
     "text": [
      "[<tf.Variable 'variables/W2:0' shape=(200, 10) dtype=float32_ref>]\n",
      "[<tf.Operation 'variables/random_normal/shape' type=Const>, <tf.Operation 'variables/random_normal/mean' type=Const>, <tf.Operation 'variables/random_normal/stddev' type=Const>, <tf.Operation 'variables/random_normal/RandomStandardNormal' type=RandomStandardNormal>, <tf.Operation 'variables/random_normal/mul' type=Mul>, <tf.Operation 'variables/random_normal' type=Add>, <tf.Operation 'variables/W1' type=VariableV2>, <tf.Operation 'variables/W1/Assign' type=Assign>, <tf.Operation 'variables/W1/read' type=Identity>, <tf.Operation 'variables/random_normal_1/shape' type=Const>, <tf.Operation 'variables/random_normal_1/mean' type=Const>, <tf.Operation 'variables/random_normal_1/stddev' type=Const>, <tf.Operation 'variables/random_normal_1/RandomStandardNormal' type=RandomStandardNormal>, <tf.Operation 'variables/random_normal_1/mul' type=Mul>, <tf.Operation 'variables/random_normal_1' type=Add>, <tf.Operation 'variables/W2' type=VariableV2>, <tf.Operation 'variables/W2/Assign' type=Assign>, <tf.Operation 'variables/W2/read' type=Identity>, <tf.Operation 'sum/w1_plus_W2' type=Add>, <tf.Operation 'init' type=NoOp>, <tf.Operation 'weights-stdev_1.0/tag' type=Const>, <tf.Operation 'weights-stdev_1.0' type=HistogramSummary>, <tf.Operation 'weights-stdev_0.13/tag' type=Const>, <tf.Operation 'weights-stdev_0.13' type=HistogramSummary>, <tf.Operation 'sum_1/tag' type=Const>, <tf.Operation 'sum_1' type=HistogramSummary>]\n"
     ]
    }
   ],
   "source": [
    "\n",
    "with tf.Session(graph=g1) as sess:\n",
    "  # `sess.graph` provides access to the graph used in a `tf.Session`.\n",
    "  writer = tf.summary.FileWriter(log_dir, sess.graph)\n",
    "\n",
    "  sess.run(init)\n",
    "  sess.run(suma)\n",
    "\n",
    "  # Print trainable variables.\n",
    "  print(tf.trainable_variables())\n",
    "\n",
    "  # Print all of the operations in the default graph.\n",
    "  g = tf.get_default_graph()\n",
    "  print(g.get_operations())\n",
    "\n",
    "  # Close writer.\n",
    "  writer.flush()\n",
    "  writer.close()\n",
    "\n",
    "  # Close session to free resources.\n",
    "  sess.close()\n"
   ]
  },
  {
   "cell_type": "code",
   "execution_count": null,
   "metadata": {
    "collapsed": true
   },
   "outputs": [],
   "source": []
  }
 ],
 "metadata": {
  "kernelspec": {
   "display_name": "Python 3",
   "language": "python",
   "name": "python3"
  },
  "language_info": {
   "codemirror_mode": {
    "name": "ipython",
    "version": 3
   },
   "file_extension": ".py",
   "mimetype": "text/x-python",
   "name": "python",
   "nbconvert_exporter": "python",
   "pygments_lexer": "ipython3",
   "version": "3.4.3"
  }
 },
 "nbformat": 4,
 "nbformat_minor": 2
}
