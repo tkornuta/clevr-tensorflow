{
 "cells": [
  {
   "cell_type": "code",
   "execution_count": 1,
   "metadata": {
    "collapsed": true
   },
   "outputs": [],
   "source": [
    "from __future__ import print_function\n",
    "import os\n",
    "import time\n",
    "\n",
    "import numpy as np\n",
    "import zipfile\n",
    "import tarfile\n",
    "from six.moves.urllib.request import urlretrieve\n",
    "import shutil \n",
    "import random\n",
    "\n",
    "import string\n",
    "import tensorflow as tf\n",
    "\n",
    "# Dirs - must be absolute paths!\n",
    "LOG_DIR = '/tmp/tf/ptb_char_rnn/B100S10_H32_dynamic/'\n",
    "# Local dir where PTB files will be stored.\n",
    "PTB_DIR = '/home/tkornuta/data/ptb/'\n",
    "\n",
    "# Filenames.\n",
    "TRAIN = \"ptb.train.txt\"\n",
    "VALID = \"ptb.valid.txt\"\n",
    "TEST = \"ptb.test.txt\"\n",
    "\n",
    "# Length of sequence (=  number of units of controller (recurrent layer))\n",
    "SEQ_LENGTH = 10\n",
    "\n",
    "# Size of batch\n",
    "BATCH_SIZE = 100\n",
    "\n",
    "# Length of a vector - a single hidden state\n",
    "HIDDEN_SIZE = 32\n",
    "\n",
    "# Size of the input vector - 59 = [A-Z] + [a-z] + ' '\n",
    "INPUT_SIZE = 59\n",
    "\n",
    "#### MANN-related parameters.\n",
    "# Size of the local memory of each cell.\n",
    "#NUMBER_OF_SLOTS = 20\n",
    "# Length of a single vector - a single memory slot.\n",
    "#ADDRESS_SIZE = NUMBER_OF_SLOTS\n",
    "#CONTENT_SIZE = 8\n",
    "#SLOT_SIZE = ADDRESS_SIZE + CONTENT_SIZE\n",
    "\n",
    "# Eps for normalization in visualization\n",
    "EPS = 1e-10"
   ]
  },
  {
   "cell_type": "markdown",
   "metadata": {},
   "source": [
    "### Check/maybe download PTB."
   ]
  },
  {
   "cell_type": "code",
   "execution_count": 2,
   "metadata": {},
   "outputs": [
    {
     "name": "stdout",
     "output_type": "stream",
     "text": [
      "Found and verified /home/tkornuta/data/ptb/simple-examples.tgz ( 34869662 )\n"
     ]
    }
   ],
   "source": [
    "def maybe_download_ptb(path, \n",
    "                       filename='simple-examples.tgz', \n",
    "                       url='http://www.fit.vutbr.cz/~imikolov/rnnlm/', \n",
    "                       expected_bytes =34869662):\n",
    "  # Eventually create the PTB dir.\n",
    "  if not tf.gfile.Exists(path):\n",
    "    tf.gfile.MakeDirs(path)\n",
    "  \"\"\"Download a file if not present, and make sure it's the right size.\"\"\"\n",
    "  _filename = path+filename\n",
    "  if not os.path.exists(_filename):\n",
    "    print('Downloading %s...' % filename)\n",
    "    _filename, _ = urlretrieve(url+filename, _filename)\n",
    "  statinfo = os.stat(_filename)\n",
    "  if statinfo.st_size == expected_bytes:\n",
    "    print('Found and verified', (_filename), '(', statinfo.st_size, ')')\n",
    "  else:\n",
    "    print(statinfo.st_size)\n",
    "    raise Exception(\n",
    "      'Failed to verify ' + _filename + '. Can you get to it with a browser?')\n",
    "  return filename\n",
    "\n",
    "filename = maybe_download_ptb(PTB_DIR)"
   ]
  },
  {
   "cell_type": "markdown",
   "metadata": {},
   "source": [
    "### Extract dataset-related files from the PTB archive."
   ]
  },
  {
   "cell_type": "code",
   "execution_count": 3,
   "metadata": {
    "collapsed": true
   },
   "outputs": [],
   "source": [
    "def extract_ptb(path, filename='simple-examples.tgz', files=[\"ptb.train.txt\", \"ptb.valid.txt\", \"ptb.test.txt\", \n",
    "                                       \"ptb.char.train.txt\", \"ptb.char.valid.txt\", \"ptb.char.test.txt\"]):\n",
    "    \"\"\"Extracts files from PTB archive.\"\"\"\n",
    "    # Extract\n",
    "    tar = tarfile.open(path+filename)\n",
    "    tar.extractall(path)\n",
    "    tar.close()\n",
    "    # Copy files\n",
    "    for file in files:\n",
    "        shutil.copyfile(PTB_DIR+\"simple-examples/data/\"+file, PTB_DIR+file)\n",
    "    # Delete directory\n",
    "    shutil.rmtree(PTB_DIR+\"simple-examples/\")        \n",
    "\n",
    "extract_ptb(PTB_DIR)"
   ]
  },
  {
   "cell_type": "markdown",
   "metadata": {},
   "source": [
    "### Load train, valid and test texts."
   ]
  },
  {
   "cell_type": "code",
   "execution_count": 4,
   "metadata": {},
   "outputs": [
    {
     "name": "stdout",
     "output_type": "stream",
     "text": [
      "5101618  aer banknote berlitz calloway centrust cluett fromstein gitano guterman hydro-quebec ipo kia memote\n",
      "399782  consumers may want to move their telephones a little closer to \n",
      "449945  no it was n't black monday \n",
      " but while the new york stock excha\n"
     ]
    }
   ],
   "source": [
    "def read_data(filename, path):\n",
    "    with open(path+filename, 'r') as myfile:\n",
    "        data=myfile.read()# .replace('\\n', '')\n",
    "        return data\n",
    "\n",
    "train_text = read_data(TRAIN, PTB_DIR)\n",
    "train_size=len(train_text)\n",
    "print(train_size, train_text[:100])\n",
    "\n",
    "valid_text = read_data(VALID, PTB_DIR)\n",
    "valid_size=len(valid_text)\n",
    "print(valid_size, valid_text[:64])\n",
    "\n",
    "test_text = read_data(TEST, PTB_DIR)\n",
    "test_size=len(test_text)\n",
    "print(test_size, test_text[:64])"
   ]
  },
  {
   "cell_type": "markdown",
   "metadata": {},
   "source": [
    "### Utility functions to map characters to vocabulary IDs and back."
   ]
  },
  {
   "cell_type": "code",
   "execution_count": 5,
   "metadata": {},
   "outputs": [
    {
     "name": "stdout",
     "output_type": "stream",
     "text": [
      "vocabulary size =  59\n",
      "65\n",
      "33 1 58 26 0 0\n",
      "a A\n",
      "[[ 1.  0.  0.  0.  0.  0.  0.  0.  0.  0.  0.  0.  0.  0.  0.  0.  0.  0.\n",
      "   0.  0.  0.  0.  0.  0.  0.  0.  0.  0.  0.  0.  0.  0.  0.  0.  0.  0.\n",
      "   0.  0.  0.  0.  0.  0.  0.  0.  0.  0.  0.  0.  0.  0.  0.  0.  0.  0.\n",
      "   0.  0.  0.  0.  0.]]\n"
     ]
    }
   ],
   "source": [
    "first_letter = ord(string.ascii_uppercase[0]) # ascii_uppercase before lowercase! \n",
    "print(\"vocabulary size = \", INPUT_SIZE)\n",
    "print(first_letter)\n",
    "\n",
    "def char2id(char):\n",
    "  \"\"\" Converts char to id (int) with one-hot encoding handling of unexpected characters\"\"\"\n",
    "  if char in string.ascii_letters:# or char in string.punctuation or char in string.digits:\n",
    "    return ord(char) - first_letter + 1\n",
    "  elif char == ' ':\n",
    "    return 0\n",
    "  else:\n",
    "    # print('Unexpected character: %s' % char)\n",
    "    return 0\n",
    "  \n",
    "def id2char(dictid):\n",
    "  \"\"\" Converts single id (int) to character\"\"\"\n",
    "  if dictid > 0:\n",
    "    return chr(dictid + first_letter - 1)\n",
    "  else:\n",
    "    return ' '\n",
    "\n",
    "def characters(probabilities):\n",
    "  \"\"\"Turn a 1-hot encoding or a probability distribution over the possible\n",
    "  characters back into its (most likely) character representation.\"\"\"\n",
    "  return [id2char(c) for c in np.argmax(probabilities, 1)]\n",
    "\n",
    "def batches2string(batches):\n",
    "  \"\"\"Convert a sequence of batches back into their (most likely) string\n",
    "  representation.\"\"\"\n",
    "  s = [''] * batches[0].shape[0]\n",
    "  for b in batches:\n",
    "    s = [''.join(x) for x in zip(s, characters(b))]\n",
    "  return s\n",
    "\n",
    "#print(len(string.punctuation))\n",
    "#for i in string.ascii_letters:\n",
    "#    print (i, char2id(i))\n",
    "\n",
    "\n",
    "print(char2id('a'), char2id('A'), char2id('z'), char2id('Z'), char2id(' '), char2id('ï'))\n",
    "print(id2char(char2id('a')), id2char(char2id('A')))\n",
    "#print(id2char(65), id2char(33), id2char(90), id2char(58), id2char(0))\n",
    "#bankno\n",
    "sample = np.zeros(shape=(1, INPUT_SIZE), dtype=np.float)\n",
    "sample[0, char2id(' ')] = 1.0\n",
    "print(sample)"
   ]
  },
  {
   "cell_type": "markdown",
   "metadata": {},
   "source": [
    "### Helper class for batch generation"
   ]
  },
  {
   "cell_type": "code",
   "execution_count": 6,
   "metadata": {
    "collapsed": true
   },
   "outputs": [],
   "source": [
    "class BatchGenerator(object):\n",
    "  def __init__(self, text, batch_size, seq_length, vocab_size):\n",
    "    \"\"\"\n",
    "    Initializes the batch generator object. Stores the variables and first \"letter batch\".\n",
    "    text is text to be processed\n",
    "    batch_size is size of batch (number of samples)\n",
    "    seq_length represents the length of sequence\n",
    "    vocab_size is number of words in vocabulary (assumes one-hot encoding)\n",
    "    \"\"\"\n",
    "    # Store input parameters.\n",
    "    self._text = text\n",
    "    self._text_size = len(text)\n",
    "    self._batch_size = batch_size\n",
    "    self._seq_length = seq_length\n",
    "    self._vocab_size = vocab_size\n",
    "    # Divide text into segments depending on number of batches, each segment determines a cursor position for a batch.\n",
    "    segment = self._text_size // batch_size\n",
    "    # Set initial cursor position.\n",
    "    self._cursor = [ offset * segment for offset in range(batch_size)]\n",
    "    # Store first \"letter batch\".\n",
    "    self._last_letter_batch = self._next_letter_batch()\n",
    "  \n",
    "  def _next_letter_batch(self):\n",
    "    \"\"\"\n",
    "    Returns a batch containing of encoded single letters depending on the current batch \n",
    "    cursor positions in the data.\n",
    "    Returned \"letter batch\" is of size batch_size x vocab_size\n",
    "    \"\"\"\n",
    "    letter_batch = np.zeros(shape=(self._batch_size, self._vocab_size), dtype=np.float)\n",
    "    # Iterate through \"samples\"\n",
    "    for b in range(self._batch_size):\n",
    "      # Set 1 in position pointed out by one-hot char encoding.\n",
    "      letter_batch[b, char2id(self._text[self._cursor[b]])] = 1.0\n",
    "      self._cursor[b] = (self._cursor[b] + 1) % self._text_size\n",
    "    return letter_batch\n",
    "  \n",
    "  def next(self):\n",
    "    \"\"\"Generate the next array of batches from the data. The array consists of\n",
    "    the last batch of the previous array, followed by num_unrollings new ones.\n",
    "    \"\"\"\n",
    "    # First add last letter from previous batch (the \"additional one\").\n",
    "    batches = [self._last_letter_batch]\n",
    "    for step in range(self._seq_length):\n",
    "      batches.append(self._next_letter_batch())\n",
    "    # Store last \"letter batch\" for next batch.\n",
    "    self._last_letter_batch = batches[-1]\n",
    "    return batches\n"
   ]
  },
  {
   "cell_type": "code",
   "execution_count": 7,
   "metadata": {},
   "outputs": [],
   "source": [
    "# Create objects for training, validation and testing batch generation.\n",
    "train_batches = BatchGenerator(train_text, BATCH_SIZE, SEQ_LENGTH, INPUT_SIZE)\n",
    "\n",
    "# For validation  - process the whole text as one big batch.\n",
    "VALID_BATCH_SIZE = int(np.floor(valid_size/SEQ_LENGTH))\n",
    "valid_batches = BatchGenerator(valid_text, VALID_BATCH_SIZE, SEQ_LENGTH, INPUT_SIZE)\n",
    "# Get a single batch! \n",
    "valid_batch = valid_batches.next()\n",
    "\n",
    "# For texting  - process the whole text as one big batch.\n",
    "TEST_BATCH_SIZE = int(np.floor(test_size/SEQ_LENGTH))\n",
    "test_batches = BatchGenerator(test_text, TEST_BATCH_SIZE, SEQ_LENGTH, INPUT_SIZE)\n",
    "# Get a single batch! \n",
    "test_batch = test_batches.next()\n"
   ]
  },
  {
   "cell_type": "markdown",
   "metadata": {},
   "source": [
    "### Helper functions - used during graph definition"
   ]
  },
  {
   "cell_type": "code",
   "execution_count": 8,
   "metadata": {
    "collapsed": true
   },
   "outputs": [],
   "source": [
    "# Function adding visualization to a given \"matrix\" (keys, memory etc.) with additional normalization\n",
    "def visualize_hot_cold_normalized(matrix_,\n",
    "                    axis_of_reduction_,\n",
    "                    name_):\n",
    "    with tf.name_scope(name_+\"_vis_hc_norm\"):\n",
    "        # Create hot-cold visualization (red=positive/blue=negative)\n",
    "        zeros = tf.zeros_like(matrix_) \n",
    "        \n",
    "        # Get negative values only.\n",
    "        neg = tf.less(matrix_, zeros)\n",
    "        blue = tf.multiply(tf.cast(neg, tf.float32), matrix_)\n",
    "        min_blue = tf.reduce_min(matrix_, axis=axis_of_reduction_, keep_dims=True) + EPS\n",
    "        norm_blue = 255.0 * blue/min_blue\n",
    "        \n",
    "        # Get positive values only.\n",
    "        pos = tf.greater(matrix_, zeros)\n",
    "        red = tf.multiply(tf.cast(pos, tf.float32), matrix_)\n",
    "        max_red = tf.reduce_max(matrix_, axis=axis_of_reduction_, keep_dims=True) + EPS\n",
    "        norm_red = 255.0 * red/max_red\n",
    "        \n",
    "        # Stack them into three channel image with hot-cold values.\n",
    "        rgb = tf.stack([norm_red, zeros, norm_blue], axis=2)\n",
    "\n",
    "        #print(\"name_=\",name_)\n",
    "        #print(\"np.int32(zeros.shape[1]=\", np.int32(zeros.shape[1]))\n",
    "        # TODO: find fix and get rid of the batch_size(!)\n",
    "        rgb_reshaped = tf.reshape(rgb, [1, -1,  np.int32(zeros.shape[1]), 3])\n",
    "\n",
    "        # Visualize read weights as image.\n",
    "        rgb_reshaped_summary = tf.summary.image(name_+\"_visv\", rgb_reshaped)"
   ]
  },
  {
   "cell_type": "code",
   "execution_count": 9,
   "metadata": {
    "collapsed": true
   },
   "outputs": [],
   "source": [
    "# Function adding visualization to a given \"matrix\" (keys, memory etc.)\n",
    "def visualize_hot_cold(matrix_,\n",
    "                    name_):\n",
    "    with tf.name_scope(name_+\"_vis_hc\"):\n",
    "        # Create hot-cold visualization (red=positive/blue=negative)\n",
    "        zeros = tf.zeros_like(matrix_) \n",
    "        \n",
    "        # Get negative values only.\n",
    "        neg = tf.less(matrix_, zeros)\n",
    "        blue = 255.0 * tf.multiply(tf.cast(neg, tf.float32), matrix_)\n",
    "        \n",
    "        # Get positive values only.\n",
    "        pos = tf.greater(matrix_, zeros)\n",
    "        red = 255.0 * tf.multiply(tf.cast(pos, tf.float32), matrix_)\n",
    "        \n",
    "        # Stack them into three channel image with hot-cold values.\n",
    "        rgb = tf.stack([red, zeros, blue], axis=2)\n",
    "\n",
    "        #print(\"name_=\",name_)\n",
    "        #print(\"np.int32(zeros.shape[1]=\", np.int32(zeros.shape[1]))\n",
    "        # TODO: find fix and get rid of the batch_size(!)\n",
    "        rgb_reshaped = tf.reshape(rgb, [1, -1,  np.int32(zeros.shape[1]), 3])\n",
    "\n",
    "        # Visualize read weights as image.\n",
    "        rgb_reshaped_summary = tf.summary.image(name_+\"_vis\", rgb_reshaped)\n"
   ]
  },
  {
   "cell_type": "code",
   "execution_count": 10,
   "metadata": {
    "collapsed": true
   },
   "outputs": [],
   "source": [
    "# Function \"fixing\" tensordot lack of dimensions.\n",
    "def tensordot_fix(matrix_a_, matrix_b_, axes_, output_shape_):\n",
    "    tensor_without_dims = tf.tensordot(matrix_a_, matrix_b_, axes=axes_)\n",
    "    # TF bugfix - tensordot not returning proper shapes when only partial shapes are known. :]\n",
    "    # https://github.com/tensorflow/tensorflow/issues/6682\n",
    "    tensor = tf.reshape(tensor_without_dims, output_shape_)\n",
    "    return tensor \n",
    "    "
   ]
  },
  {
   "cell_type": "markdown",
   "metadata": {},
   "source": [
    "###  Definition of tensor graph"
   ]
  },
  {
   "cell_type": "code",
   "execution_count": 27,
   "metadata": {
    "scrolled": false
   },
   "outputs": [
    {
     "name": "stdout",
     "output_type": "stream",
     "text": [
      "Graph definition OK\n"
     ]
    }
   ],
   "source": [
    "def build_my_graph():\n",
    "    # 1. Placeholders for inputs.\n",
    "    with tf.name_scope(\"Input_data\"):\n",
    "        # Define input data buffers.\n",
    "        data_buffers = list()\n",
    "        for _ in range(SEQ_LENGTH + 1):\n",
    "            # Collect placeholders for inputs/labels: Batch x Vocab size.\n",
    "            data_buffers.append(tf.placeholder(tf.float32, shape=[None, INPUT_SIZE], name=\"data_buffers\"))\n",
    "\n",
    "        # Sequence of batches.\n",
    "        input_seq_batch = data_buffers[:SEQ_LENGTH]\n",
    "\n",
    "        # Labels are pointing to the same placeholders!\n",
    "        # Labels are inputs shifted by one time step.\n",
    "        labels_seq_batch = data_buffers[1:]  \n",
    "        # Concatenate targets into 2D tensor.\n",
    "        target_batch = tf.concat(labels_seq_batch, 0)\n",
    "\n",
    "        # Add histograms to TensorBoard.\n",
    "        input_seq_batch_hist = tf.summary.histogram(\"input_seq_batch\", input_seq_batch)\n",
    "\n",
    "    # 2. Unrolled controller ops.\n",
    "    #with tf.name_scope(\"Controller\"):\n",
    "    # Placeholder for \"initial\" state [BATCH_SIZE X SLOT_SIZE].\n",
    "    init_state = tf.placeholder(tf.float32, shape=[None, HIDDEN_SIZE], name=\"init_state\")\n",
    "\n",
    "    cell = tf.contrib.rnn.BasicRNNCell(HIDDEN_SIZE)\n",
    "    rnn_outputs, final_state = tf.contrib.rnn.static_rnn(cell, input_seq_batch, initial_state=init_state)\n",
    "\n",
    "\n",
    "    # Add histograms to TensorBoard.\n",
    "    rnn_outputs_hist = tf.summary.histogram(\"rnn_outputs\", rnn_outputs)\n",
    "\n",
    "    # 3. Output ops.\n",
    "    #logits and predictions\n",
    "    with tf.variable_scope('softmax'):\n",
    "        W = tf.get_variable('W', [HIDDEN_SIZE, INPUT_SIZE])\n",
    "        b = tf.get_variable('b', [INPUT_SIZE], initializer=tf.constant_initializer(0.0))\n",
    "    logits_batch = [tf.matmul(rnn_output, W) + b for rnn_output in rnn_outputs]\n",
    "    prediction_batch = [tf.nn.softmax(logits_batch) for logit in logits_batch]\n",
    "\n",
    "\n",
    "    # 4. Loss ops.\n",
    "    with tf.name_scope(\"Loss\"):\n",
    "        # Loss function(s) - one for every output generated by every LSTM cell.\n",
    "        loss = tf.reduce_mean(\n",
    "          tf.nn.softmax_cross_entropy_with_logits(\n",
    "            labels=target_batch, logits=logits_batch))\n",
    "        # Add loss summary.\n",
    "        loss_summary = tf.summary.scalar(\"loss\", loss)\n",
    "\n",
    "    # 5. Training ops.  \n",
    "    with tf.name_scope(\"Optimization\"):\n",
    "        # Learning rate decay.\n",
    "        global_step = tf.Variable(0)\n",
    "        learning_rate = tf.train.exponential_decay(0.1, global_step, 5000, 0.9, staircase=True)\n",
    "        # Optimizer.\n",
    "        optimizer = tf.train.AdamOptimizer(learning_rate)\n",
    "        grads_and_vars = optimizer.compute_gradients(loss)\n",
    "        gradients, v = zip(*grads_and_vars)\n",
    "        # Gradient clipping.\n",
    "        gradients, _ = tf.clip_by_global_norm(gradients, 0.1)\n",
    "        optimizer = optimizer.apply_gradients(zip(gradients, v), global_step=global_step)\n",
    "\n",
    "        #for i, (grad, var) in enumerate(grads_and_vars):\n",
    "        #    if grad is not None:\n",
    "        #        gradients[i] = (tf.clip_by_value(grad, -10, 10), var)\n",
    "        #        tf.summary.histogram(var.name, var)\n",
    "        #        tf.summary.histogram(var.name + '/grad', grad)\n",
    "\n",
    "\n",
    "    # Merge all summaries.\n",
    "    merged_summaries = tf.summary.merge_all()\n",
    "\n",
    "print(\"Graph definition OK\")"
   ]
  },
  {
   "cell_type": "code",
   "execution_count": 32,
   "metadata": {},
   "outputs": [
    {
     "name": "stdout",
     "output_type": "stream",
     "text": [
      "It took 0.42838025093078613 seconds to build the graph.\n"
     ]
    },
    {
     "ename": "NameError",
     "evalue": "name 'input_seq_batch' is not defined",
     "output_type": "error",
     "traceback": [
      "\u001b[0;31m---------------------------------------------------------------------------\u001b[0m",
      "\u001b[0;31mNameError\u001b[0m                                 Traceback (most recent call last)",
      "\u001b[0;32m<ipython-input-32-a8a04d5db88e>\u001b[0m in \u001b[0;36m<module>\u001b[0;34m()\u001b[0m\n\u001b[1;32m      5\u001b[0m \u001b[0mbuild_my_graph\u001b[0m\u001b[0;34m(\u001b[0m\u001b[0;34m)\u001b[0m\u001b[0;34m\u001b[0m\u001b[0m\n\u001b[1;32m      6\u001b[0m \u001b[0mprint\u001b[0m\u001b[0;34m(\u001b[0m\u001b[0;34m\"It took\"\u001b[0m\u001b[0;34m,\u001b[0m \u001b[0mtime\u001b[0m\u001b[0;34m.\u001b[0m\u001b[0mtime\u001b[0m\u001b[0;34m(\u001b[0m\u001b[0;34m)\u001b[0m \u001b[0;34m-\u001b[0m \u001b[0mt\u001b[0m\u001b[0;34m,\u001b[0m \u001b[0;34m\"seconds to build the graph.\"\u001b[0m\u001b[0;34m)\u001b[0m\u001b[0;34m\u001b[0m\u001b[0m\n\u001b[0;32m----> 7\u001b[0;31m \u001b[0mprint\u001b[0m\u001b[0;34m(\u001b[0m\u001b[0minput_seq_batch\u001b[0m\u001b[0;34m)\u001b[0m\u001b[0;34m\u001b[0m\u001b[0m\n\u001b[0m",
      "\u001b[0;31mNameError\u001b[0m: name 'input_seq_batch' is not defined"
     ]
    }
   ],
   "source": [
    "# Reset graph - just in case.\n",
    "tf.reset_default_graph()\n",
    "\n",
    "t = time.time()\n",
    "build_my_graph()\n",
    "print(\"It took\", time.time() - t, \"seconds to build the graph.\")\n",
    "print(input_seq_batch)"
   ]
  },
  {
   "cell_type": "code",
   "execution_count": 29,
   "metadata": {},
   "outputs": [
    {
     "name": "stdout",
     "output_type": "stream",
     "text": [
      "Feed_dict definition OK\n"
     ]
    }
   ],
   "source": [
    "def create_feed_dict(set_type_):\n",
    "    \"\"\"Creates feed dictionaries and set initial values for placeholders for different sets\"\"\"\n",
    "    feed_dict = dict()\n",
    "    \n",
    "    if set_type_==\"train\":\n",
    "        # Get next batch and create a feed dict.\n",
    "        next_batch = train_batches.next()\n",
    "        # Feed batch to input buffers.\n",
    "        for i in range(SEQ_LENGTH + 1):\n",
    "            feed_dict[data_buffers[i]] = next_batch[i]\n",
    "\n",
    "        # Reset \"initial\" RNN state.\n",
    "        feed_dict[init_state] = np.zeros([BATCH_SIZE, HIDDEN_SIZE])\n",
    "            \n",
    "    elif set_type_==\"valid\":\n",
    "        # Feed batch to input buffers.\n",
    "        for i in range(SEQ_LENGTH + 1):\n",
    "            feed_dict[data_buffers[i]] = valid_batch[i]\n",
    "\n",
    "        # Reset \"initial\" RNN state.\n",
    "        feed_dict[init_state] = np.zeros([VALID_BATCH_SIZE, HIDDEN_SIZE])\n",
    "\n",
    "    else: # test\n",
    "        for i in range(SEQ_LENGTH + 1):\n",
    "            feed_dict[data_buffers[i]] = test_batch[i]\n",
    "        \n",
    "        # Reset \"initial\" RNN state.\n",
    "        feed_dict[init_state] = np.zeros([TEST_BATCH_SIZE, HIDDEN_SIZE])\n",
    "       \n",
    "    return feed_dict\n",
    "\n",
    "print(\"Feed_dict definition OK\")"
   ]
  },
  {
   "cell_type": "markdown",
   "metadata": {},
   "source": [
    "### Session execution"
   ]
  },
  {
   "cell_type": "code",
   "execution_count": 30,
   "metadata": {},
   "outputs": [
    {
     "name": "stdout",
     "output_type": "stream",
     "text": [
      "Log dir CLEARED\n"
     ]
    }
   ],
   "source": [
    "# Eventually clear the log dir.\n",
    "if tf.gfile.Exists(LOG_DIR):\n",
    "  tf.gfile.DeleteRecursively(LOG_DIR)\n",
    "# Create (new) log dir.\n",
    "tf.gfile.MakeDirs(LOG_DIR)\n",
    "\n",
    "print(\"Log dir CLEARED\")"
   ]
  },
  {
   "cell_type": "code",
   "execution_count": 31,
   "metadata": {
    "scrolled": false
   },
   "outputs": [
    {
     "name": "stdout",
     "output_type": "stream",
     "text": [
      "Variables initialized\n",
      "Number of iterations per epoch = 5101\n"
     ]
    },
    {
     "ename": "NameError",
     "evalue": "name 'input_seq_batch' is not defined",
     "output_type": "error",
     "traceback": [
      "\u001b[0;31m---------------------------------------------------------------------------\u001b[0m",
      "\u001b[0;31mNameError\u001b[0m                                 Traceback (most recent call last)",
      "\u001b[0;32m<ipython-input-31-b3fe25d1b90c>\u001b[0m in \u001b[0;36m<module>\u001b[0;34m()\u001b[0m\n\u001b[1;32m     23\u001b[0m \u001b[0;32mfor\u001b[0m \u001b[0mstep\u001b[0m \u001b[0;32min\u001b[0m \u001b[0mrange\u001b[0m\u001b[0;34m(\u001b[0m\u001b[0mnum_steps\u001b[0m\u001b[0;34m)\u001b[0m\u001b[0;34m:\u001b[0m\u001b[0;34m\u001b[0m\u001b[0m\n\u001b[1;32m     24\u001b[0m     input_seq_batch_, summaries, _, loss_, lr_ = sess.run([\n\u001b[0;32m---> 25\u001b[0;31m         input_seq_batch, merged_summaries, optimizer, loss, learning_rate],\n\u001b[0m\u001b[1;32m     26\u001b[0m         feed_dict=create_feed_dict(\"train\"))\n\u001b[1;32m     27\u001b[0m     \u001b[0;31m# Every (100) steps collect statistics.\u001b[0m\u001b[0;34m\u001b[0m\u001b[0;34m\u001b[0m\u001b[0m\n",
      "\u001b[0;31mNameError\u001b[0m: name 'input_seq_batch' is not defined"
     ]
    }
   ],
   "source": [
    "\n",
    "# Create session to execute graph.\n",
    "sess=tf.InteractiveSession()\n",
    "\n",
    "# Create summary writers, point them to LOG_DIR.\n",
    "train_writer = tf.summary.FileWriter(LOG_DIR + '/train', sess.graph)\n",
    "valid_writer = tf.summary.FileWriter(LOG_DIR + '/valid')\n",
    "test_writer = tf.summary.FileWriter(LOG_DIR + '/test')\n",
    "\n",
    "# Initialize global variables.\n",
    "tf.global_variables_initializer().run()\n",
    "print('Variables initialized')\n",
    "\n",
    "# Initialize sparse memory addressing\n",
    "#sess.run(init_sparse_memory_addressing)\n",
    "    \n",
    "# Determine how long to perform the training and how often the test loss on validation batch will be computed. \n",
    "summary_frequency = 100\n",
    "validation_frequency = 1000\n",
    "#num_steps = 10\n",
    "num_steps = train_size // (BATCH_SIZE*SEQ_LENGTH)\n",
    "print(\"Number of iterations per epoch =\", num_steps)\n",
    "for step in range(num_steps):\n",
    "    input_seq_batch_, summaries, _, loss_, lr_ = sess.run([\n",
    "        input_seq_batch, merged_summaries, optimizer, loss, learning_rate],\n",
    "        feed_dict=create_feed_dict(\"train\"))\n",
    "    # Every (100) steps collect statistics.\n",
    "    if step % summary_frequency == 0:\n",
    "        # Add summary.\n",
    "        train_writer.add_summary(summaries, step*BATCH_SIZE*SEQ_LENGTH)\n",
    "        train_writer.flush()\n",
    "        print('Training set BPC at step %d: %0.5f learning rate: %f' % (step, loss_, lr_))\n",
    "\n",
    "        #print(\"memory=\\n\", memory_)\n",
    "        # Print loss from last batch.\n",
    "    \n",
    "    if step % validation_frequency == 0:\n",
    "        # Validation set BPC.\n",
    "        print('=' * 80)\n",
    "        print(\"Calculating BPC on validation set\")\n",
    "        v_summaries, v_loss = sess.run([merged_summaries, loss], feed_dict=create_feed_dict(\"valid\"))\n",
    "        print(\"Validation set BPC: %.5f\" % v_loss)\n",
    "        valid_writer.add_summary(v_summaries, step*BATCH_SIZE*SEQ_LENGTH)\n",
    "        valid_writer.flush()\n",
    "    # End of statistics collection\n",
    "\n",
    "#for gv in grads_and_vars:\n",
    "#    #print(str(sess.run(gv[0])) + \" - \" + gv[1].name)        \n",
    "#    print(\" - \" + gv[1].name)        \n",
    "\n",
    "# Test set BPC.\n",
    "print('=' * 80)\n",
    "print(\"Calculating BPC on test set\")\n",
    "t_summary, t_loss = sess.run([merged_summaries, loss], feed_dict=create_feed_dict(\"test\"))\n",
    "print(\"Final test set BPC: %.5f\" % t_loss)\n",
    "test_writer.add_summary(t_summary, step*BATCH_SIZE*SEQ_LENGTH)\n",
    "test_writer.flush()\n",
    "    \n",
    "# Close writers and session.\n",
    "train_writer.close()\n",
    "valid_writer.close()\n",
    "test_writer.close()\n",
    "sess.close() "
   ]
  },
  {
   "cell_type": "code",
   "execution_count": null,
   "metadata": {
    "collapsed": true
   },
   "outputs": [],
   "source": []
  },
  {
   "cell_type": "code",
   "execution_count": null,
   "metadata": {
    "collapsed": true
   },
   "outputs": [],
   "source": []
  }
 ],
 "metadata": {
  "kernelspec": {
   "display_name": "Python 3",
   "language": "python",
   "name": "python3"
  },
  "language_info": {
   "codemirror_mode": {
    "name": "ipython",
    "version": 3
   },
   "file_extension": ".py",
   "mimetype": "text/x-python",
   "name": "python",
   "nbconvert_exporter": "python",
   "pygments_lexer": "ipython3",
   "version": "3.4.3"
  }
 },
 "nbformat": 4,
 "nbformat_minor": 2
}
