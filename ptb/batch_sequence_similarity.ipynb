{
 "cells": [
  {
   "cell_type": "code",
   "execution_count": 1,
   "metadata": {
    "collapsed": true
   },
   "outputs": [],
   "source": [
    "import tensorflow as tf\n",
    "import numpy as np\n",
    "\n",
    "# Size of the hidden state.\n",
    "HIDDEN_SIZE = 4\n",
    "\n",
    "# Size of the MANN memory.\n",
    "MEMORY_SIZE = 6\n",
    "\n",
    "# Batch size.\n",
    "BATCH_SIZE = 2\n",
    "\n",
    "# Length of sequence (= single recurrent layer of number of units)\n",
    "SEQ_LENGTH = 3 # in fact 4 elements, but: 0->1, 1->2, 2->3\n",
    "\n",
    "# Number of smallest elements.\n",
    "N_SMALLEST =2\n"
   ]
  },
  {
   "cell_type": "code",
   "execution_count": 32,
   "metadata": {
    "collapsed": true
   },
   "outputs": [],
   "source": [
    "def create_feed_dict(batch_seq):\n",
    "    \"\"\"Creates a dictionaries for different sets: maps data onto Tensor placeholders.\"\"\"\n",
    "    feed_dict = dict()\n",
    "    # Feed batch to input buffers.\n",
    "    for i in range(SEQ_LENGTH + 1):\n",
    "        feed_dict[data_buffers[i]] = batch_seq[i]\n",
    "    # Reset previous state and output\n",
    "    #feed_dict[prev_output] = np.zeros([BATCH_SIZE, HIDDEN_SIZE])\n",
    "    #feed_dict[prev_state] = np.zeros([BATCH_SIZE, HIDDEN_SIZE])\n",
    "    \n",
    "    return feed_dict # {prev_output: train_output_zeros, prev_state: train_state_zeros }"
   ]
  },
  {
   "cell_type": "code",
   "execution_count": 34,
   "metadata": {},
   "outputs": [
    {
     "name": "stdout",
     "output_type": "stream",
     "text": [
      "data_buffers shape = <unknown>\n",
      "Seq length  = 3\n",
      "Batch shape = <unknown>\n",
      "norm_memory = Tensor(\"similarity/l2_normalize_3:0\", shape=(4, 6), dtype=float32)\n"
     ]
    }
   ],
   "source": [
    "# Reset graph - just in case.\n",
    "tf.reset_default_graph()\n",
    "\n",
    "# Memory.\n",
    "memory = tf.Variable(tf.zeros([HIDDEN_SIZE, MEMORY_SIZE]), trainable=False, name=\"Memory_M\")\n",
    "# SET INITIAL MEMORY STATE.\n",
    "memory_set = memory.assign(tf.transpose([\n",
    "    [0.0, 0, 0, 1],\n",
    "    [0, 0, 1, 0],\n",
    "    [0, 1, 0, 0],\n",
    "    [1, 0, 0, 0],\n",
    "    [1, 0, 1, 0],\n",
    "    [1, 1, 0, 0]]))\n",
    "\n",
    "\n",
    "# Placeholders for inputs.\n",
    "with tf.name_scope(\"Input_data\"):\n",
    "    # Define input data buffers.\n",
    "    data_buffers = list()\n",
    "    for _ in range(SEQ_LENGTH + 1):\n",
    "        # Collect placeholders for inputs/labels.\n",
    "        data_buffers.append(tf.placeholder(tf.float32, shape=None, name=\"data_buffers\"))\n",
    "    print (\"data_buffers shape =\", data_buffers[0].shape)\n",
    "\n",
    "    # Sequence of batches.\n",
    "    input_seq_batch = data_buffers[:SEQ_LENGTH]\n",
    "    print (\"Seq length  =\", len(input_seq_batch))\n",
    "    print (\"Batch shape =\", input_seq_batch[0].shape)\n",
    "\n",
    "    # Labels are pointing to the same placeholders!\n",
    "    # Labels are inputs shifted by one time step.\n",
    "    labels_seq_batch = data_buffers[1:]  \n",
    "    # Concatenate targets into 2D tensor.\n",
    "    target_batch = tf.concat(labels_seq_batch, 0)\n",
    "\n",
    "# Create SEQ_LEN x BATCH_SIZE placeholders for similarity - each MEMORY_SIZE x 1,  \n",
    "with tf.name_scope(\"similarity\"):\n",
    "\n",
    "    # Normalize sequence of batches.\n",
    "    norm_seq_batch = list()\n",
    "    for i_seq in range(SEQ_LENGTH):\n",
    "        # Collect placeholders for inputs/labels.\n",
    "        norm_seq_batch.append(tf.nn.l2_normalize(input_seq_batch[i_seq],1) )\n",
    "    \n",
    "    # Normalize memory.\n",
    "    norm_memory = tf.nn.l2_normalize(memory,0)\n",
    "    print(\"norm_memory =\", norm_memory)\n",
    "    \n",
    "    # Calculate cosine similarity.\n",
    "    similarity_seq_batch = list()    \n",
    "    for i_seq in range(SEQ_LENGTH):\n",
    "        similarity_seq_batch.append(tf.matmul(norm_seq_batch[i_seq], norm_memory))\n",
    "    \n",
    "    # Calcualte read weights based on similarity.\n",
    "    read_weights_seq_batch = list()    \n",
    "    for i_seq in range(SEQ_LENGTH):\n",
    "        read_weights_seq_batch.append(tf.nn.softmax(similarity_seq_batch[i_seq]))    \n",
    "    \n",
    "# Finally - initialize all variables.\n",
    "initialize_model = tf.global_variables_initializer()    "
   ]
  },
  {
   "cell_type": "code",
   "execution_count": 36,
   "metadata": {},
   "outputs": [
    {
     "name": "stdout",
     "output_type": "stream",
     "text": [
      "Memory =\n",
      " [[ 0.  0.  0.  1.  1.  1.]\n",
      " [ 0.  0.  1.  0.  0.  1.]\n",
      " [ 0.  1.  0.  0.  1.  0.]\n",
      " [ 1.  0.  0.  0.  0.  0.]]\n",
      "norm_memory_ =\n",
      " [[ 0.          0.          0.          0.99999994  0.70710677  0.70710677]\n",
      " [ 0.          0.          0.99999994  0.          0.          0.70710677]\n",
      " [ 0.          0.99999994  0.          0.          0.70710677  0.        ]\n",
      " [ 0.99999994  0.          0.          0.          0.          0.        ]]\n",
      "Batch=\n",
      " (4, 2, 4)\n",
      "inps.len= 3\n",
      "inputs[ 0 ] =\n",
      " [[ 0.  0.  1.  0.]\n",
      " [ 0.  0.  1.  0.]]\n",
      "inputs[ 1 ] =\n",
      " [[ 0.  1.  0.  0.]\n",
      " [ 1.  0.  0.  0.]]\n",
      "inputs[ 2 ] =\n",
      " [[ 0.  0.  1.  0.]\n",
      " [ 0.  1.  0.  0.]]\n",
      "norm_batch[ 0 ] =\n",
      " [[ 0.  0.  1.  0.]\n",
      " [ 0.  0.  1.  0.]]\n",
      "norm_batch[ 1 ] =\n",
      " [[ 0.  1.  0.  0.]\n",
      " [ 1.  0.  0.  0.]]\n",
      "norm_batch[ 2 ] =\n",
      " [[ 0.  0.  1.  0.]\n",
      " [ 0.  1.  0.  0.]]\n",
      "similarity_seq_batch_[ 0 ] =  [[ 0.          0.99999994  0.          0.          0.70710677  0.        ]\n",
      " [ 0.          0.99999994  0.          0.          0.70710677  0.        ]]\n",
      "similarity_seq_batch_[ 1 ] =  [[ 0.          0.          0.99999994  0.          0.          0.70710677]\n",
      " [ 0.          0.          0.          0.99999994  0.70710677  0.70710677]]\n",
      "similarity_seq_batch_[ 2 ] =  [[ 0.          0.99999994  0.          0.          0.70710677  0.        ]\n",
      " [ 0.          0.          0.99999994  0.          0.          0.70710677]]\n",
      "read_weights_seq_batch_[ 0 ] =  [[ 0.1143328   0.31078878  0.1143328   0.1143328   0.23188008  0.1143328 ]\n",
      " [ 0.1143328   0.31078878  0.1143328   0.1143328   0.23188008  0.1143328 ]]\n",
      "read_weights_seq_batch_[ 1 ] =  [[ 0.1143328   0.1143328   0.31078878  0.1143328   0.1143328   0.23188008]\n",
      " [ 0.10230691  0.10230691  0.10230691  0.278099    0.20749018  0.20749018]]\n",
      "read_weights_seq_batch_[ 2 ] =  [[ 0.1143328   0.31078878  0.1143328   0.1143328   0.23188008  0.1143328 ]\n",
      " [ 0.1143328   0.1143328   0.31078878  0.1143328   0.1143328   0.23188008]]\n"
     ]
    }
   ],
   "source": [
    "\n",
    "########################\n",
    "# Execute graph.\n",
    "sess=tf.InteractiveSession()\n",
    "# Initialize.\n",
    "sess.run(initialize_model)\n",
    "memory_, norm_memory_ = sess.run([memory_set, norm_memory])\n",
    "print(\"Memory =\\n\",memory_)\n",
    "print(\"norm_memory_ =\\n\",norm_memory_)\n",
    "\n",
    "# Batch - of dimensions: SEQUENCE x BATCH x VECTOR SIZE\n",
    "batch_seq = np.array([[[0, 0, 1, 0],[0, 0, 1, 0]],\n",
    "             [[0, 1, 0, 0],[1, 0, 0, 0]],\n",
    "             [[0, 0, 1, 0],[0,1,0,0]],\n",
    "            [[0, 0, 1, 0],[0,1,0,0]]])\n",
    "\n",
    "#batch_seq = np.array([[[0, 0, 1, 0],[0, 1, 0, 0],[0, 0, 1, 0]],\n",
    "#             [[0, 0, 1, 0],[1, 0, 0, 0],[0,1,0,0]]])\n",
    "\n",
    "print(\"Batch=\\n\",batch_seq.shape)\n",
    "\n",
    "input_seq_batch_, norm_seq_batch_, similarity_seq_batch_, read_weights_seq_batch_ = sess.run([\n",
    "    input_seq_batch, norm_seq_batch, similarity_seq_batch, read_weights_seq_batch],\n",
    "    feed_dict=create_feed_dict(batch_seq))\n",
    "\n",
    "print(\"inps.len=\",len(input_seq_batch_))\n",
    "for i in range(SEQ_LENGTH):\n",
    "    print(\"inputs[\",i, \"] =\\n\",input_seq_batch_[i])\n",
    "\n",
    "for i in range(SEQ_LENGTH):\n",
    "    print(\"norm_batch[\",i, \"] =\\n\",norm_seq_batch_[i])\n",
    "\n",
    "for i in range(SEQ_LENGTH):\n",
    "    print(\"similarity_seq_batch_[\",i, \"] = \",similarity_seq_batch_[i])\n",
    "\n",
    "for i in range(SEQ_LENGTH):\n",
    "    print(\"read_weights_seq_batch_[\",i, \"] = \",read_weights_seq_batch_[i])\n"
   ]
  },
  {
   "cell_type": "code",
   "execution_count": null,
   "metadata": {
    "collapsed": true
   },
   "outputs": [],
   "source": []
  },
  {
   "cell_type": "code",
   "execution_count": null,
   "metadata": {
    "collapsed": true
   },
   "outputs": [],
   "source": []
  }
 ],
 "metadata": {
  "kernelspec": {
   "display_name": "Python 3",
   "language": "python",
   "name": "python3"
  },
  "language_info": {
   "codemirror_mode": {
    "name": "ipython",
    "version": 3
   },
   "file_extension": ".py",
   "mimetype": "text/x-python",
   "name": "python",
   "nbconvert_exporter": "python",
   "pygments_lexer": "ipython3",
   "version": "3.4.3"
  }
 },
 "nbformat": 4,
 "nbformat_minor": 2
}
