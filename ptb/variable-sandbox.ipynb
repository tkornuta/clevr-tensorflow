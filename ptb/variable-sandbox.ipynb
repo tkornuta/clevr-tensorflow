{
 "cells": [
  {
   "cell_type": "code",
   "execution_count": null,
   "metadata": {
    "collapsed": true
   },
   "outputs": [],
   "source": [
    "# https://blog.metaflow.fr/tensorflow-mutating-variables-and-control-flow-2181dd238e62\n"
   ]
  },
  {
   "cell_type": "code",
   "execution_count": 4,
   "metadata": {},
   "outputs": [
    {
     "name": "stdout",
     "output_type": "stream",
     "text": [
      "x: 0\n",
      "x: 1\n",
      "x: 2\n",
      "x: 3\n",
      "x: 4\n"
     ]
    }
   ],
   "source": [
    "## Simple assign, called \"manually\" (with sess.run) multiple times \n",
    "\n",
    "import tensorflow as tf\n",
    "\n",
    "# We define a Variable\n",
    "x = tf.Variable(0, dtype=tf.int32)\n",
    "\n",
    "# We use a simple assign operation\n",
    "assign_op = tf.assign(x, x + 1)\n",
    "\n",
    "sess = tf.InteractiveSession()\n",
    "\n",
    "sess.run(tf.global_variables_initializer())\n",
    "\n",
    "for i in range(5):\n",
    "    print('x:', sess.run(x))\n",
    "    sess.run(assign_op)\n",
    "\n",
    "sess.close()"
   ]
  },
  {
   "cell_type": "code",
   "execution_count": 5,
   "metadata": {},
   "outputs": [
    {
     "name": "stdout",
     "output_type": "stream",
     "text": [
      "x: [] shape: [0]\n",
      "x: [0] shape: [1]\n",
      "x: [0 0] shape: [2]\n",
      "x: [0 0 0] shape: [3]\n",
      "x: [0 0 0 0] shape: [4]\n"
     ]
    }
   ],
   "source": [
    "## Dynamic change of the shape of variable\n",
    "\n",
    "import tensorflow as tf\n",
    "\n",
    "# We define a \"shape-able\" Variable\n",
    "x = tf.Variable(\n",
    "    [], # A list of scalar\n",
    "    dtype=tf.int32,\n",
    "    validate_shape=False, # By \"shape-able\", i mean we don't validate the shape so we can change it\n",
    "    trainable=False\n",
    ")\n",
    "# I build a new shape and assign it to x\n",
    "concat = tf.concat([x, [0]], 0)\n",
    "assign_op = tf.assign(x, concat, validate_shape=False) # We force TF, to skip the shape validation step\n",
    "\n",
    "sess = tf.InteractiveSession()\n",
    "sess.run(tf.global_variables_initializer())\n",
    "\n",
    "for i in range(5):\n",
    "    print('x:', sess.run(x), 'shape:', sess.run(tf.shape(x)))\n",
    "    sess.run(assign_op)\n",
    "sess.close()"
   ]
  },
  {
   "cell_type": "code",
   "execution_count": 13,
   "metadata": {},
   "outputs": [
    {
     "name": "stdout",
     "output_type": "stream",
     "text": [
      "y: 2\n",
      "output: 4\n",
      "y: 2\n",
      "output: 4\n",
      "y: 2\n",
      "output: 4\n"
     ]
    }
   ],
   "source": [
    "## \"Naive\" solution\n",
    "# In order to calculate the returned variables assign_op does not have to be computed at all!! \n",
    "\n",
    "import tensorflow as tf\n",
    "\n",
    "# We define our Variables and placeholders\n",
    "x = tf.placeholder(tf.int32, shape=[], name='x')\n",
    "y = tf.Variable(2, dtype=tf.int32)\n",
    "\n",
    "# We set our assign op\n",
    "assign_op = tf.assign(y, y + 1)\n",
    "\n",
    "# We build our multiplication (this could be a more complicated graph)\n",
    "out = x * y\n",
    "\n",
    "sess = tf.InteractiveSession()\n",
    "sess.run(tf.global_variables_initializer())\n",
    "\n",
    "for i in range(3):\n",
    "    y_, out_ = sess.run([y, out], feed_dict={x: 2})\n",
    "    print('y:', y_)\n",
    "    print('output:', out_)\n",
    "\n",
    "sess.close()"
   ]
  },
  {
   "cell_type": "code",
   "execution_count": 16,
   "metadata": {},
   "outputs": [
    {
     "name": "stdout",
     "output_type": "stream",
     "text": [
      "y: 3\n",
      "output: 6\n",
      "y: 4\n",
      "output: 8\n",
      "y: 5\n",
      "output: 10\n"
     ]
    }
   ],
   "source": [
    "## \"Naive\" solution\n",
    "# In order to calculate the returned variables assign_op does not have to be computed at all!! \n",
    "\n",
    "import tensorflow as tf\n",
    "\n",
    "# We define our Variables and placeholders\n",
    "x = tf.placeholder(tf.int32, shape=[], name='x')\n",
    "y = tf.Variable(2, dtype=tf.int32)\n",
    "\n",
    "# We set our assign op\n",
    "assign_op = tf.assign(y, y + 1)\n",
    "\n",
    "# We build our multiplication, but this time, inside a control depedency scheme!\n",
    "with tf.control_dependencies([assign_op]):\n",
    "    # Now, we are under the dependency scope:\n",
    "    # All the operations happening here will only happens after \n",
    "    # the \"assign_op\" has been computed first\n",
    "    out = x * y\n",
    "\n",
    "sess = tf.InteractiveSession()\n",
    "sess.run(tf.global_variables_initializer())\n",
    "\n",
    "for i in range(3):\n",
    "    y_, out_ = sess.run([y, out], feed_dict={x: 2})\n",
    "    print('y:', y_)\n",
    "    print('output:', out_)\n",
    "\n",
    "sess.close()"
   ]
  },
  {
   "cell_type": "code",
   "execution_count": 23,
   "metadata": {},
   "outputs": [
    {
     "name": "stdout",
     "output_type": "stream",
     "text": [
      "[]\n",
      "[0]\n",
      "[0 0]\n"
     ]
    }
   ],
   "source": [
    "import tensorflow as tf\n",
    "\n",
    "# I define a \"shape-able\" Variable\n",
    "x = tf.Variable(\n",
    "    [], \n",
    "    dtype=tf.int32,\n",
    "    validate_shape=False, # By \"shape-able\", i mean we don't validate the shape\n",
    "    trainable=False\n",
    ")\n",
    "# I build a new shape and assign it to x\n",
    "concat = tf.concat([x, [0]], 0)\n",
    "assign_op = tf.assign(x, concat, validate_shape=False)\n",
    "\n",
    "with tf.control_dependencies([assign_op]):\n",
    "    # I print x after the assignment\n",
    "    x = tf.Print(x, data=[x, x.read_value()], message=\"x, x_read:\")\n",
    "    # The assign_op is called, but it seems that print statement happens\n",
    "    # before the assignment, that is wrong.\n",
    "    # https://www.tensorflow.org/api_docs/python/tf/Print\n",
    "    # Note: Print currently not compatible with Jupyter Notebook :]\n",
    "    \n",
    "with tf.Session() as sess:\n",
    "    sess.run(tf.global_variables_initializer())\n",
    "\n",
    "    for i in range(3):\n",
    "        print(sess.run(x))\n",
    "\n",
    "    sess.close()\n",
    "\n",
    "#[]\n",
    "#[0]\n",
    "#[0 0]\n",
    "#instead of:\n",
    "#[0]\n",
    "#[0 0]\n",
    "#[0 0 0]\n",
    "# !!!"
   ]
  },
  {
   "cell_type": "code",
   "execution_count": null,
   "metadata": {
    "collapsed": true
   },
   "outputs": [],
   "source": []
  }
 ],
 "metadata": {
  "kernelspec": {
   "display_name": "Python 3",
   "language": "python",
   "name": "python3"
  },
  "language_info": {
   "codemirror_mode": {
    "name": "ipython",
    "version": 3
   },
   "file_extension": ".py",
   "mimetype": "text/x-python",
   "name": "python",
   "nbconvert_exporter": "python",
   "pygments_lexer": "ipython3",
   "version": "3.4.3"
  }
 },
 "nbformat": 4,
 "nbformat_minor": 2
}
