{
 "cells": [
  {
   "cell_type": "code",
   "execution_count": 1,
   "metadata": {},
   "outputs": [
    {
     "name": "stdout",
     "output_type": "stream",
     "text": [
      "{'y': 19, '-': 32, 'x': 29, 'n': 4, 'f': 15, 'g': 18, 'q': 33, '&': 35, 'w': 21, 'a': 3, '.': 27, '#': 40, 'u': 11, 'v': 25, 'i': 6, '0': 36, '7': 45, '\\\\': 44, 'p': 16, 'o': 5, 's': 7, 'b': 20, '4': 47, '5': 43, '<': 22, '3': 39, '1': 37, '2': 41, 'd': 12, '>': 23, '8': 42, '6': 46, '_': 0, 'l': 10, 'k': 17, 'c': 13, '$': 31, '*': 49, '<eos>': 24, 'r': 8, 'N': 26, 'm': 14, 'z': 34, 'e': 1, 't': 2, '/': 48, '9': 38, 'j': 30, \"'\": 28, 'h': 9}\n"
     ]
    }
   ],
   "source": [
    "import import_ptb as ptb\n",
    "\n",
    "\n",
    "# Local dir where PRB files will be stored.\n",
    "PTB_DIR = '/home/tkornuta/data/ptb/'\n",
    "# Filenames.\n",
    "TRAIN = \"ptb.char.train.txt\"\n",
    "VALID = \"ptb.char.valid.txt\"\n",
    "TEST = \"ptb.char.test.txt\"\n",
    "\n",
    "# Number of characters in a single phrase.\n",
    "PHRASE_LENGTH=100\n",
    "\n",
    "# Import ptb\n",
    "ptb = ptb.read_ptb(PTB_DIR, TRAIN, VALID, TEST, PHRASE_LENGTH, False)"
   ]
  },
  {
   "cell_type": "code",
   "execution_count": 4,
   "metadata": {},
   "outputs": [
    {
     "name": "stdout",
     "output_type": "stream",
     "text": [
      "(array([[14,  3,  8, 17,  1,  2,  6,  4, 18,  0,  9,  1,  0,  7,  3,  6, 12,\n",
      "        24, 11,  4,  6, 10,  3, 20,  0, 13,  5,  8, 16, 27,  0, 22, 11,  4,\n",
      "        17, 23,  0, 18,  3, 27,  0,  7,  3,  6, 12,  0,  6,  2,  0,  3, 13,\n",
      "        33, 11,  6,  8,  1, 12,  0,  2,  9,  1,  0, 13, 10,  6,  4,  6, 13,\n",
      "         3, 10,  0, 10,  3, 20,  5,  8,  3,  2,  5,  8,  6,  1,  7,  0,  5,\n",
      "        15,  0, 13, 10,  5,  7,  1, 10, 19,  0,  9,  1, 10, 12,  0]]), array([[ 3,  8, 17,  1,  2,  6,  4, 18,  0,  9,  1,  0,  7,  3,  6, 12, 24,\n",
      "        11,  4,  6, 10,  3, 20,  0, 13,  5,  8, 16, 27,  0, 22, 11,  4, 17,\n",
      "        23,  0, 18,  3, 27,  0,  7,  3,  6, 12,  0,  6,  2,  0,  3, 13, 33,\n",
      "        11,  6,  8,  1, 12,  0,  2,  9,  1,  0, 13, 10,  6,  4,  6, 13,  3,\n",
      "        10,  0, 10,  3, 20,  5,  8,  3,  2,  5,  8,  6,  1,  7,  0,  5, 15,\n",
      "         0, 13, 10,  5,  7,  1, 10, 19,  0,  9,  1, 10, 12,  0, 13]]))\n"
     ]
    }
   ],
   "source": [
    "# get next batch.\n",
    "print(ptb.train.next_batch(1))"
   ]
  },
  {
   "cell_type": "code",
   "execution_count": null,
   "metadata": {
    "collapsed": true
   },
   "outputs": [],
   "source": []
  },
  {
   "cell_type": "code",
   "execution_count": null,
   "metadata": {
    "collapsed": true
   },
   "outputs": [],
   "source": []
  },
  {
   "cell_type": "code",
   "execution_count": null,
   "metadata": {
    "collapsed": true
   },
   "outputs": [],
   "source": []
  }
 ],
 "metadata": {
  "kernelspec": {
   "display_name": "Python 3",
   "language": "python",
   "name": "python3"
  },
  "language_info": {
   "codemirror_mode": {
    "name": "ipython",
    "version": 3
   },
   "file_extension": ".py",
   "mimetype": "text/x-python",
   "name": "python",
   "nbconvert_exporter": "python",
   "pygments_lexer": "ipython3",
   "version": "3.4.3"
  }
 },
 "nbformat": 4,
 "nbformat_minor": 2
}
