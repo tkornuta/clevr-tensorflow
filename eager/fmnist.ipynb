{
 "cells": [
  {
   "cell_type": "markdown",
   "metadata": {
    "_cell_guid": "6536eee5-e473-4036-a8d1-c942688da233",
    "_uuid": "418c3fe230031ed49160fa94af4bde4b2f592544"
   },
   "source": [
    "Hello Kagglers!! Enjoying the competitions and Kernels? I bet you should be. Well, today I am gonna present you something totally new which is totally awesome. If you remember, inspired by the imperative style of **PyTorch**, **TF** developers introduced the **Eager mode** finally. Even though it is out, but I guess most of you wouldn't have tried it (at least on Kaggle Kernels). Yes, you guessed it correctly!! Today's kernel is to show how can you get PyTorch style and the combined power of TF  in Eager mode. **My reaction after using it?**\n",
    "![LEGENDARY!!](https://media.giphy.com/media/3ohzdIuqJoo8QdKlnW/giphy.gif)"
   ]
  },
  {
   "cell_type": "code",
   "execution_count": 1,
   "metadata": {
    "_cell_guid": "3fb7991f-4113-4c06-a0e2-888217275bf6",
    "_uuid": "45fd8aa698a9b0fa66c76ad602e6cfb0600b4b44"
   },
   "outputs": [],
   "source": [
    "# This Python 3 environment comes with many helpful analytics libraries installed\n",
    "# It is defined by the kaggle/python docker image: https://github.com/kaggle/docker-python\n",
    "# For example, here's several helpful packages to load in \n",
    "import os\n",
    "import glob\n",
    "from pathlib import Path\n",
    "import numpy as np # linear algebra\n",
    "import pandas as pd # data processing, CSV file I/O (e.g. pd.read_csv)\n",
    "import matplotlib.pyplot as plt\n",
    "import seaborn as sns\n",
    "import tensorflow as tf\n",
    "import tensorflow.contrib.eager as tfe\n",
    "\n",
    "#from keras.preprocessing import image\n",
    "#from skimage.io import imread, imsave, imshow\n",
    "#from tf.keras.utils import to_categorical\n",
    "from sklearn.model_selection import train_test_split\n",
    "\n",
    "np.random.seed(111)\n",
    "color = sns.color_palette()\n",
    "%matplotlib inline\n",
    "\n",
    "# Input data files are available in the \"../input/\" directory.\n",
    "# For example, running this (by clicking run or pressing Shift+Enter) will list the files in the input directory\n",
    "\n",
    "#from subprocess import check_output\n",
    "#print(check_output([\"ls\", \"../input\"]).decode(\"utf8\"))\n",
    "\n",
    "# Any results you write to the current directory are saved as output."
   ]
  },
  {
   "cell_type": "code",
   "execution_count": 2,
   "metadata": {},
   "outputs": [],
   "source": [
    "#enable the eager mode before doing any operation\n",
    "tfe.enable_eager_execution()"
   ]
  },
  {
   "cell_type": "markdown",
   "metadata": {
    "_cell_guid": "1a57b2b2-7b13-466a-a9ea-d0c43e2d79df",
    "_uuid": "53625a2f6cef32630baa67b71c18a6926928529b"
   },
   "source": [
    "FMNIST is a very cool dataset. MNIST, in my opinion, has become way too old to experiment and validate models. Replace MNIST with FMNIST!!  "
   ]
  },
  {
   "cell_type": "code",
   "execution_count": 3,
   "metadata": {
    "_cell_guid": "92b52b80-1d64-4f2b-94b9-0784d347f4c9",
    "_uuid": "56704104611a11e686f73ed54488c5d0e148cd6d"
   },
   "outputs": [
    {
     "name": "stdout",
     "output_type": "stream",
     "text": [
      "Number of training samples:  60000\n",
      "Number of test samples:  10000\n"
     ]
    }
   ],
   "source": [
    "#Read the train and test csv first\n",
    "train = pd.read_csv('/home/tkornuta/data/fashion-mnist/fashion-mnist_train.csv')\n",
    "test = pd.read_csv('/home/tkornuta/data/fashion-mnist/fashion-mnist_test.csv')\n",
    "\n",
    "print(\"Number of training samples: \", len(train))\n",
    "print(\"Number of test samples: \", len(test))"
   ]
  },
  {
   "cell_type": "code",
   "execution_count": 4,
   "metadata": {
    "_cell_guid": "5c1b97bd-21f8-4de9-8650-55cb4eb1538d",
    "_uuid": "3212e7328c27fb3c3551a6df174501b892e46fbc"
   },
   "outputs": [
    {
     "data": {
      "text/html": [
       "<div>\n",
       "<style scoped>\n",
       "    .dataframe tbody tr th:only-of-type {\n",
       "        vertical-align: middle;\n",
       "    }\n",
       "\n",
       "    .dataframe tbody tr th {\n",
       "        vertical-align: top;\n",
       "    }\n",
       "\n",
       "    .dataframe thead th {\n",
       "        text-align: right;\n",
       "    }\n",
       "</style>\n",
       "<table border=\"1\" class=\"dataframe\">\n",
       "  <thead>\n",
       "    <tr style=\"text-align: right;\">\n",
       "      <th></th>\n",
       "      <th>label</th>\n",
       "      <th>pixel1</th>\n",
       "      <th>pixel2</th>\n",
       "      <th>pixel3</th>\n",
       "      <th>pixel4</th>\n",
       "      <th>pixel5</th>\n",
       "      <th>pixel6</th>\n",
       "      <th>pixel7</th>\n",
       "      <th>pixel8</th>\n",
       "      <th>pixel9</th>\n",
       "      <th>...</th>\n",
       "      <th>pixel775</th>\n",
       "      <th>pixel776</th>\n",
       "      <th>pixel777</th>\n",
       "      <th>pixel778</th>\n",
       "      <th>pixel779</th>\n",
       "      <th>pixel780</th>\n",
       "      <th>pixel781</th>\n",
       "      <th>pixel782</th>\n",
       "      <th>pixel783</th>\n",
       "      <th>pixel784</th>\n",
       "    </tr>\n",
       "  </thead>\n",
       "  <tbody>\n",
       "    <tr>\n",
       "      <th>21080</th>\n",
       "      <td>7</td>\n",
       "      <td>0</td>\n",
       "      <td>0</td>\n",
       "      <td>0</td>\n",
       "      <td>0</td>\n",
       "      <td>0</td>\n",
       "      <td>0</td>\n",
       "      <td>0</td>\n",
       "      <td>0</td>\n",
       "      <td>0</td>\n",
       "      <td>...</td>\n",
       "      <td>0</td>\n",
       "      <td>0</td>\n",
       "      <td>0</td>\n",
       "      <td>0</td>\n",
       "      <td>0</td>\n",
       "      <td>0</td>\n",
       "      <td>0</td>\n",
       "      <td>0</td>\n",
       "      <td>0</td>\n",
       "      <td>0</td>\n",
       "    </tr>\n",
       "    <tr>\n",
       "      <th>7352</th>\n",
       "      <td>1</td>\n",
       "      <td>0</td>\n",
       "      <td>0</td>\n",
       "      <td>0</td>\n",
       "      <td>0</td>\n",
       "      <td>0</td>\n",
       "      <td>0</td>\n",
       "      <td>0</td>\n",
       "      <td>0</td>\n",
       "      <td>0</td>\n",
       "      <td>...</td>\n",
       "      <td>15</td>\n",
       "      <td>0</td>\n",
       "      <td>0</td>\n",
       "      <td>0</td>\n",
       "      <td>0</td>\n",
       "      <td>0</td>\n",
       "      <td>0</td>\n",
       "      <td>0</td>\n",
       "      <td>0</td>\n",
       "      <td>0</td>\n",
       "    </tr>\n",
       "    <tr>\n",
       "      <th>14344</th>\n",
       "      <td>9</td>\n",
       "      <td>0</td>\n",
       "      <td>0</td>\n",
       "      <td>0</td>\n",
       "      <td>0</td>\n",
       "      <td>0</td>\n",
       "      <td>0</td>\n",
       "      <td>0</td>\n",
       "      <td>0</td>\n",
       "      <td>0</td>\n",
       "      <td>...</td>\n",
       "      <td>0</td>\n",
       "      <td>0</td>\n",
       "      <td>0</td>\n",
       "      <td>0</td>\n",
       "      <td>0</td>\n",
       "      <td>0</td>\n",
       "      <td>0</td>\n",
       "      <td>0</td>\n",
       "      <td>0</td>\n",
       "      <td>0</td>\n",
       "    </tr>\n",
       "    <tr>\n",
       "      <th>34161</th>\n",
       "      <td>9</td>\n",
       "      <td>0</td>\n",
       "      <td>0</td>\n",
       "      <td>0</td>\n",
       "      <td>0</td>\n",
       "      <td>0</td>\n",
       "      <td>0</td>\n",
       "      <td>0</td>\n",
       "      <td>0</td>\n",
       "      <td>0</td>\n",
       "      <td>...</td>\n",
       "      <td>0</td>\n",
       "      <td>0</td>\n",
       "      <td>0</td>\n",
       "      <td>135</td>\n",
       "      <td>155</td>\n",
       "      <td>153</td>\n",
       "      <td>160</td>\n",
       "      <td>2</td>\n",
       "      <td>0</td>\n",
       "      <td>0</td>\n",
       "    </tr>\n",
       "    <tr>\n",
       "      <th>52086</th>\n",
       "      <td>2</td>\n",
       "      <td>0</td>\n",
       "      <td>0</td>\n",
       "      <td>0</td>\n",
       "      <td>1</td>\n",
       "      <td>0</td>\n",
       "      <td>0</td>\n",
       "      <td>0</td>\n",
       "      <td>0</td>\n",
       "      <td>34</td>\n",
       "      <td>...</td>\n",
       "      <td>1</td>\n",
       "      <td>2</td>\n",
       "      <td>0</td>\n",
       "      <td>0</td>\n",
       "      <td>162</td>\n",
       "      <td>171</td>\n",
       "      <td>86</td>\n",
       "      <td>0</td>\n",
       "      <td>0</td>\n",
       "      <td>0</td>\n",
       "    </tr>\n",
       "    <tr>\n",
       "      <th>47658</th>\n",
       "      <td>1</td>\n",
       "      <td>0</td>\n",
       "      <td>0</td>\n",
       "      <td>0</td>\n",
       "      <td>0</td>\n",
       "      <td>0</td>\n",
       "      <td>0</td>\n",
       "      <td>0</td>\n",
       "      <td>0</td>\n",
       "      <td>1</td>\n",
       "      <td>...</td>\n",
       "      <td>4</td>\n",
       "      <td>0</td>\n",
       "      <td>4</td>\n",
       "      <td>0</td>\n",
       "      <td>0</td>\n",
       "      <td>0</td>\n",
       "      <td>0</td>\n",
       "      <td>0</td>\n",
       "      <td>0</td>\n",
       "      <td>0</td>\n",
       "    </tr>\n",
       "    <tr>\n",
       "      <th>48633</th>\n",
       "      <td>8</td>\n",
       "      <td>0</td>\n",
       "      <td>0</td>\n",
       "      <td>0</td>\n",
       "      <td>0</td>\n",
       "      <td>0</td>\n",
       "      <td>0</td>\n",
       "      <td>0</td>\n",
       "      <td>0</td>\n",
       "      <td>0</td>\n",
       "      <td>...</td>\n",
       "      <td>125</td>\n",
       "      <td>122</td>\n",
       "      <td>120</td>\n",
       "      <td>121</td>\n",
       "      <td>119</td>\n",
       "      <td>95</td>\n",
       "      <td>17</td>\n",
       "      <td>0</td>\n",
       "      <td>0</td>\n",
       "      <td>0</td>\n",
       "    </tr>\n",
       "    <tr>\n",
       "      <th>2219</th>\n",
       "      <td>4</td>\n",
       "      <td>0</td>\n",
       "      <td>0</td>\n",
       "      <td>0</td>\n",
       "      <td>0</td>\n",
       "      <td>0</td>\n",
       "      <td>0</td>\n",
       "      <td>0</td>\n",
       "      <td>0</td>\n",
       "      <td>0</td>\n",
       "      <td>...</td>\n",
       "      <td>119</td>\n",
       "      <td>81</td>\n",
       "      <td>0</td>\n",
       "      <td>0</td>\n",
       "      <td>0</td>\n",
       "      <td>0</td>\n",
       "      <td>0</td>\n",
       "      <td>0</td>\n",
       "      <td>0</td>\n",
       "      <td>0</td>\n",
       "    </tr>\n",
       "    <tr>\n",
       "      <th>14078</th>\n",
       "      <td>2</td>\n",
       "      <td>0</td>\n",
       "      <td>0</td>\n",
       "      <td>0</td>\n",
       "      <td>0</td>\n",
       "      <td>0</td>\n",
       "      <td>0</td>\n",
       "      <td>0</td>\n",
       "      <td>0</td>\n",
       "      <td>1</td>\n",
       "      <td>...</td>\n",
       "      <td>1</td>\n",
       "      <td>0</td>\n",
       "      <td>53</td>\n",
       "      <td>133</td>\n",
       "      <td>142</td>\n",
       "      <td>22</td>\n",
       "      <td>0</td>\n",
       "      <td>0</td>\n",
       "      <td>0</td>\n",
       "      <td>0</td>\n",
       "    </tr>\n",
       "    <tr>\n",
       "      <th>26608</th>\n",
       "      <td>0</td>\n",
       "      <td>0</td>\n",
       "      <td>0</td>\n",
       "      <td>0</td>\n",
       "      <td>0</td>\n",
       "      <td>0</td>\n",
       "      <td>0</td>\n",
       "      <td>2</td>\n",
       "      <td>68</td>\n",
       "      <td>131</td>\n",
       "      <td>...</td>\n",
       "      <td>74</td>\n",
       "      <td>82</td>\n",
       "      <td>66</td>\n",
       "      <td>10</td>\n",
       "      <td>0</td>\n",
       "      <td>0</td>\n",
       "      <td>0</td>\n",
       "      <td>0</td>\n",
       "      <td>0</td>\n",
       "      <td>0</td>\n",
       "    </tr>\n",
       "  </tbody>\n",
       "</table>\n",
       "<p>10 rows × 785 columns</p>\n",
       "</div>"
      ],
      "text/plain": [
       "       label  pixel1  pixel2  pixel3  pixel4  pixel5  pixel6  pixel7  pixel8  \\\n",
       "21080      7       0       0       0       0       0       0       0       0   \n",
       "7352       1       0       0       0       0       0       0       0       0   \n",
       "14344      9       0       0       0       0       0       0       0       0   \n",
       "34161      9       0       0       0       0       0       0       0       0   \n",
       "52086      2       0       0       0       1       0       0       0       0   \n",
       "47658      1       0       0       0       0       0       0       0       0   \n",
       "48633      8       0       0       0       0       0       0       0       0   \n",
       "2219       4       0       0       0       0       0       0       0       0   \n",
       "14078      2       0       0       0       0       0       0       0       0   \n",
       "26608      0       0       0       0       0       0       0       2      68   \n",
       "\n",
       "       pixel9    ...     pixel775  pixel776  pixel777  pixel778  pixel779  \\\n",
       "21080       0    ...            0         0         0         0         0   \n",
       "7352        0    ...           15         0         0         0         0   \n",
       "14344       0    ...            0         0         0         0         0   \n",
       "34161       0    ...            0         0         0       135       155   \n",
       "52086      34    ...            1         2         0         0       162   \n",
       "47658       1    ...            4         0         4         0         0   \n",
       "48633       0    ...          125       122       120       121       119   \n",
       "2219        0    ...          119        81         0         0         0   \n",
       "14078       1    ...            1         0        53       133       142   \n",
       "26608     131    ...           74        82        66        10         0   \n",
       "\n",
       "       pixel780  pixel781  pixel782  pixel783  pixel784  \n",
       "21080         0         0         0         0         0  \n",
       "7352          0         0         0         0         0  \n",
       "14344         0         0         0         0         0  \n",
       "34161       153       160         2         0         0  \n",
       "52086       171        86         0         0         0  \n",
       "47658         0         0         0         0         0  \n",
       "48633        95        17         0         0         0  \n",
       "2219          0         0         0         0         0  \n",
       "14078        22         0         0         0         0  \n",
       "26608         0         0         0         0         0  \n",
       "\n",
       "[10 rows x 785 columns]"
      ]
     },
     "execution_count": 4,
     "metadata": {},
     "output_type": "execute_result"
    }
   ],
   "source": [
    "# Let's look at how the train dataset looks like\n",
    "train.sample(10)"
   ]
  },
  {
   "cell_type": "markdown",
   "metadata": {
    "_cell_guid": "074dac2d-d649-4254-999f-24cc2f275543",
    "_uuid": "94969d664df98f7e866bdee3f75f4ce72a95bd60"
   },
   "source": [
    "So, for each sample, there are 785 columns out of which the first column represents the label of the corresponding sample and the other 784 columns are the pixel values of a (28x28) image. Now, let's look at the test dataset too"
   ]
  },
  {
   "cell_type": "code",
   "execution_count": 5,
   "metadata": {
    "_cell_guid": "48b59135-7f05-4fa1-ba7d-16a4739e713f",
    "_uuid": "0fe0c4954204443e82dad8b4443b6e7ada4234f1"
   },
   "outputs": [
    {
     "data": {
      "text/html": [
       "<div>\n",
       "<style scoped>\n",
       "    .dataframe tbody tr th:only-of-type {\n",
       "        vertical-align: middle;\n",
       "    }\n",
       "\n",
       "    .dataframe tbody tr th {\n",
       "        vertical-align: top;\n",
       "    }\n",
       "\n",
       "    .dataframe thead th {\n",
       "        text-align: right;\n",
       "    }\n",
       "</style>\n",
       "<table border=\"1\" class=\"dataframe\">\n",
       "  <thead>\n",
       "    <tr style=\"text-align: right;\">\n",
       "      <th></th>\n",
       "      <th>label</th>\n",
       "      <th>pixel1</th>\n",
       "      <th>pixel2</th>\n",
       "      <th>pixel3</th>\n",
       "      <th>pixel4</th>\n",
       "      <th>pixel5</th>\n",
       "      <th>pixel6</th>\n",
       "      <th>pixel7</th>\n",
       "      <th>pixel8</th>\n",
       "      <th>pixel9</th>\n",
       "      <th>...</th>\n",
       "      <th>pixel775</th>\n",
       "      <th>pixel776</th>\n",
       "      <th>pixel777</th>\n",
       "      <th>pixel778</th>\n",
       "      <th>pixel779</th>\n",
       "      <th>pixel780</th>\n",
       "      <th>pixel781</th>\n",
       "      <th>pixel782</th>\n",
       "      <th>pixel783</th>\n",
       "      <th>pixel784</th>\n",
       "    </tr>\n",
       "  </thead>\n",
       "  <tbody>\n",
       "    <tr>\n",
       "      <th>6978</th>\n",
       "      <td>4</td>\n",
       "      <td>0</td>\n",
       "      <td>0</td>\n",
       "      <td>0</td>\n",
       "      <td>0</td>\n",
       "      <td>0</td>\n",
       "      <td>0</td>\n",
       "      <td>0</td>\n",
       "      <td>0</td>\n",
       "      <td>0</td>\n",
       "      <td>...</td>\n",
       "      <td>106</td>\n",
       "      <td>55</td>\n",
       "      <td>0</td>\n",
       "      <td>18</td>\n",
       "      <td>160</td>\n",
       "      <td>152</td>\n",
       "      <td>5</td>\n",
       "      <td>0</td>\n",
       "      <td>0</td>\n",
       "      <td>0</td>\n",
       "    </tr>\n",
       "    <tr>\n",
       "      <th>7941</th>\n",
       "      <td>4</td>\n",
       "      <td>0</td>\n",
       "      <td>0</td>\n",
       "      <td>0</td>\n",
       "      <td>0</td>\n",
       "      <td>0</td>\n",
       "      <td>0</td>\n",
       "      <td>0</td>\n",
       "      <td>0</td>\n",
       "      <td>0</td>\n",
       "      <td>...</td>\n",
       "      <td>3</td>\n",
       "      <td>0</td>\n",
       "      <td>0</td>\n",
       "      <td>88</td>\n",
       "      <td>131</td>\n",
       "      <td>85</td>\n",
       "      <td>48</td>\n",
       "      <td>0</td>\n",
       "      <td>0</td>\n",
       "      <td>0</td>\n",
       "    </tr>\n",
       "    <tr>\n",
       "      <th>9253</th>\n",
       "      <td>4</td>\n",
       "      <td>0</td>\n",
       "      <td>0</td>\n",
       "      <td>0</td>\n",
       "      <td>0</td>\n",
       "      <td>0</td>\n",
       "      <td>0</td>\n",
       "      <td>0</td>\n",
       "      <td>0</td>\n",
       "      <td>0</td>\n",
       "      <td>...</td>\n",
       "      <td>39</td>\n",
       "      <td>195</td>\n",
       "      <td>54</td>\n",
       "      <td>0</td>\n",
       "      <td>6</td>\n",
       "      <td>0</td>\n",
       "      <td>0</td>\n",
       "      <td>0</td>\n",
       "      <td>0</td>\n",
       "      <td>0</td>\n",
       "    </tr>\n",
       "    <tr>\n",
       "      <th>5290</th>\n",
       "      <td>8</td>\n",
       "      <td>0</td>\n",
       "      <td>0</td>\n",
       "      <td>0</td>\n",
       "      <td>0</td>\n",
       "      <td>0</td>\n",
       "      <td>0</td>\n",
       "      <td>0</td>\n",
       "      <td>0</td>\n",
       "      <td>0</td>\n",
       "      <td>...</td>\n",
       "      <td>0</td>\n",
       "      <td>0</td>\n",
       "      <td>0</td>\n",
       "      <td>0</td>\n",
       "      <td>0</td>\n",
       "      <td>0</td>\n",
       "      <td>0</td>\n",
       "      <td>0</td>\n",
       "      <td>0</td>\n",
       "      <td>0</td>\n",
       "    </tr>\n",
       "    <tr>\n",
       "      <th>8499</th>\n",
       "      <td>4</td>\n",
       "      <td>0</td>\n",
       "      <td>0</td>\n",
       "      <td>0</td>\n",
       "      <td>0</td>\n",
       "      <td>0</td>\n",
       "      <td>0</td>\n",
       "      <td>0</td>\n",
       "      <td>0</td>\n",
       "      <td>0</td>\n",
       "      <td>...</td>\n",
       "      <td>0</td>\n",
       "      <td>0</td>\n",
       "      <td>0</td>\n",
       "      <td>1</td>\n",
       "      <td>68</td>\n",
       "      <td>94</td>\n",
       "      <td>20</td>\n",
       "      <td>0</td>\n",
       "      <td>0</td>\n",
       "      <td>0</td>\n",
       "    </tr>\n",
       "    <tr>\n",
       "      <th>8932</th>\n",
       "      <td>7</td>\n",
       "      <td>0</td>\n",
       "      <td>0</td>\n",
       "      <td>0</td>\n",
       "      <td>0</td>\n",
       "      <td>0</td>\n",
       "      <td>0</td>\n",
       "      <td>0</td>\n",
       "      <td>0</td>\n",
       "      <td>0</td>\n",
       "      <td>...</td>\n",
       "      <td>0</td>\n",
       "      <td>0</td>\n",
       "      <td>0</td>\n",
       "      <td>0</td>\n",
       "      <td>0</td>\n",
       "      <td>0</td>\n",
       "      <td>0</td>\n",
       "      <td>0</td>\n",
       "      <td>0</td>\n",
       "      <td>0</td>\n",
       "    </tr>\n",
       "    <tr>\n",
       "      <th>2006</th>\n",
       "      <td>8</td>\n",
       "      <td>0</td>\n",
       "      <td>0</td>\n",
       "      <td>0</td>\n",
       "      <td>0</td>\n",
       "      <td>0</td>\n",
       "      <td>0</td>\n",
       "      <td>0</td>\n",
       "      <td>0</td>\n",
       "      <td>0</td>\n",
       "      <td>...</td>\n",
       "      <td>0</td>\n",
       "      <td>0</td>\n",
       "      <td>0</td>\n",
       "      <td>0</td>\n",
       "      <td>0</td>\n",
       "      <td>0</td>\n",
       "      <td>0</td>\n",
       "      <td>0</td>\n",
       "      <td>0</td>\n",
       "      <td>0</td>\n",
       "    </tr>\n",
       "    <tr>\n",
       "      <th>9791</th>\n",
       "      <td>4</td>\n",
       "      <td>0</td>\n",
       "      <td>0</td>\n",
       "      <td>0</td>\n",
       "      <td>0</td>\n",
       "      <td>0</td>\n",
       "      <td>0</td>\n",
       "      <td>2</td>\n",
       "      <td>0</td>\n",
       "      <td>28</td>\n",
       "      <td>...</td>\n",
       "      <td>89</td>\n",
       "      <td>69</td>\n",
       "      <td>65</td>\n",
       "      <td>0</td>\n",
       "      <td>0</td>\n",
       "      <td>0</td>\n",
       "      <td>0</td>\n",
       "      <td>0</td>\n",
       "      <td>0</td>\n",
       "      <td>0</td>\n",
       "    </tr>\n",
       "    <tr>\n",
       "      <th>8559</th>\n",
       "      <td>6</td>\n",
       "      <td>0</td>\n",
       "      <td>0</td>\n",
       "      <td>0</td>\n",
       "      <td>0</td>\n",
       "      <td>0</td>\n",
       "      <td>0</td>\n",
       "      <td>0</td>\n",
       "      <td>0</td>\n",
       "      <td>0</td>\n",
       "      <td>...</td>\n",
       "      <td>0</td>\n",
       "      <td>0</td>\n",
       "      <td>0</td>\n",
       "      <td>0</td>\n",
       "      <td>94</td>\n",
       "      <td>42</td>\n",
       "      <td>38</td>\n",
       "      <td>0</td>\n",
       "      <td>0</td>\n",
       "      <td>0</td>\n",
       "    </tr>\n",
       "    <tr>\n",
       "      <th>322</th>\n",
       "      <td>5</td>\n",
       "      <td>0</td>\n",
       "      <td>0</td>\n",
       "      <td>0</td>\n",
       "      <td>0</td>\n",
       "      <td>0</td>\n",
       "      <td>0</td>\n",
       "      <td>0</td>\n",
       "      <td>0</td>\n",
       "      <td>0</td>\n",
       "      <td>...</td>\n",
       "      <td>0</td>\n",
       "      <td>0</td>\n",
       "      <td>0</td>\n",
       "      <td>0</td>\n",
       "      <td>0</td>\n",
       "      <td>0</td>\n",
       "      <td>0</td>\n",
       "      <td>0</td>\n",
       "      <td>0</td>\n",
       "      <td>0</td>\n",
       "    </tr>\n",
       "  </tbody>\n",
       "</table>\n",
       "<p>10 rows × 785 columns</p>\n",
       "</div>"
      ],
      "text/plain": [
       "      label  pixel1  pixel2  pixel3  pixel4  pixel5  pixel6  pixel7  pixel8  \\\n",
       "6978      4       0       0       0       0       0       0       0       0   \n",
       "7941      4       0       0       0       0       0       0       0       0   \n",
       "9253      4       0       0       0       0       0       0       0       0   \n",
       "5290      8       0       0       0       0       0       0       0       0   \n",
       "8499      4       0       0       0       0       0       0       0       0   \n",
       "8932      7       0       0       0       0       0       0       0       0   \n",
       "2006      8       0       0       0       0       0       0       0       0   \n",
       "9791      4       0       0       0       0       0       0       2       0   \n",
       "8559      6       0       0       0       0       0       0       0       0   \n",
       "322       5       0       0       0       0       0       0       0       0   \n",
       "\n",
       "      pixel9    ...     pixel775  pixel776  pixel777  pixel778  pixel779  \\\n",
       "6978       0    ...          106        55         0        18       160   \n",
       "7941       0    ...            3         0         0        88       131   \n",
       "9253       0    ...           39       195        54         0         6   \n",
       "5290       0    ...            0         0         0         0         0   \n",
       "8499       0    ...            0         0         0         1        68   \n",
       "8932       0    ...            0         0         0         0         0   \n",
       "2006       0    ...            0         0         0         0         0   \n",
       "9791      28    ...           89        69        65         0         0   \n",
       "8559       0    ...            0         0         0         0        94   \n",
       "322        0    ...            0         0         0         0         0   \n",
       "\n",
       "      pixel780  pixel781  pixel782  pixel783  pixel784  \n",
       "6978       152         5         0         0         0  \n",
       "7941        85        48         0         0         0  \n",
       "9253         0         0         0         0         0  \n",
       "5290         0         0         0         0         0  \n",
       "8499        94        20         0         0         0  \n",
       "8932         0         0         0         0         0  \n",
       "2006         0         0         0         0         0  \n",
       "9791         0         0         0         0         0  \n",
       "8559        42        38         0         0         0  \n",
       "322          0         0         0         0         0  \n",
       "\n",
       "[10 rows x 785 columns]"
      ]
     },
     "execution_count": 5,
     "metadata": {},
     "output_type": "execute_result"
    }
   ],
   "source": [
    "# Random samples from test data\n",
    "test.sample(10)"
   ]
  },
  {
   "cell_type": "markdown",
   "metadata": {
    "_cell_guid": "7411f3f8-b384-449c-8d11-af130d3aed99",
    "_uuid": "adf0905e1bb0c3f376cc3c3aeedaff99be9bba0c"
   },
   "source": [
    "There are a total of **10 categories** in FMNIST dataset. I haven't read the description fully (LOL!!), so I will inspect the number of samples for each category myself. Let's do that first."
   ]
  },
  {
   "cell_type": "code",
   "execution_count": 6,
   "metadata": {
    "_cell_guid": "9b21a881-8357-4e6b-8902-3cc2928e647f",
    "_uuid": "dcd61cb88662805ecfa9a733e7b4a8e1b42f4b9d"
   },
   "outputs": [
    {
     "name": "stdout",
     "output_type": "stream",
     "text": [
      "Ankle Boot     :   6000 or 10.0%\n",
      "Bag            :   6000 or 10.0%\n",
      "Sneaker        :   6000 or 10.0%\n",
      "Shirt          :   6000 or 10.0%\n",
      "Sandal         :   6000 or 10.0%\n",
      "Coat           :   6000 or 10.0%\n",
      "Dress          :   6000 or 10.0%\n",
      "Pullover       :   6000 or 10.0%\n",
      "Trouser        :   6000 or 10.0%\n",
      "T-shirt/top    :   6000 or 10.0%\n"
     ]
    }
   ],
   "source": [
    "# Get the count for each label\n",
    "label_count = train[\"label\"].value_counts()\n",
    "\n",
    "# Get total number of samples\n",
    "total_samples = len(train)\n",
    "y_train\n",
    "# Make a dictionary for all the labels. \n",
    "labels = {0 : \"T-shirt/top\", 1: \"Trouser\", 2: \"Pullover\", 3: \"Dress\", 4: \"Coat\",\n",
    "         5: \"Sandal\", 6: \"Shirt\", 7: \"Sneaker\", 8: \"Bag\", 9: \"Ankle Boot\"}\n",
    "\n",
    "for i in range(len(label_count)):\n",
    "    label = labels[label_count.index[i]]\n",
    "    count = label_count.values[i]\n",
    "    pct = (count / total_samples) * 100\n",
    "    print(\"{:<15s}:   {} or {}%\".format(label, count, pct))"
   ]
  },
  {
   "cell_type": "markdown",
   "metadata": {
    "_cell_guid": "48213bcd-d0c5-43ac-b23f-0d1f68156411",
    "_uuid": "3c6089ee52b2131916dd3f3a518f936af59677ca"
   },
   "source": [
    "Have I done something wrong here? Such a balanced dataset, so unrealistic!! Can't believe my eyes as I am seeing such a balanced dataset after such a long time. Let's quickly plot some samples for each category."
   ]
  },
  {
   "cell_type": "code",
   "execution_count": 7,
   "metadata": {
    "_cell_guid": "bc603449-5ef0-44e3-bf88-b2266b2dadaa",
    "_uuid": "0a6397983a501b9fd222237b73ffb46b99a8c2c1"
   },
   "outputs": [
    {
     "name": "stdout",
     "output_type": "stream",
     "text": [
      "Total number of sample images to plot:  20\n"
     ]
    }
   ],
   "source": [
    "# An empty list to collect some samples\n",
    "sample_images = []\n",
    "\n",
    "# Iterate over the keys of the labels dictionary defined in the above cell\n",
    "for k in labels.keys():\n",
    "    # Get two samples for each category\n",
    "    samples = train[train[\"label\"] == k].head(2)\n",
    "    # Append the samples to the samples list\n",
    "    for j, s in enumerate(samples.values):\n",
    "        # First column contain labels, hence index should start from 1\n",
    "        img = np.array(samples.iloc[j, 1:]).reshape(28,28)\n",
    "        sample_images.append(img)\n",
    "        \n",
    "print(\"Total number of sample images to plot: \", len(sample_images))"
   ]
  },
  {
   "cell_type": "code",
   "execution_count": 8,
   "metadata": {
    "_cell_guid": "de20d9f8-b561-4f55-985f-789fdcc368d5",
    "_uuid": "68239982399605b253fe7e9393a653dc563ec719"
   },
   "outputs": [
    {
     "data": {
      "image/png": "[encoded data removed]",
      "text/plain": [
       "<matplotlib.figure.Figure at 0x7f9a7ed716a0>"
      ]
     },
     "metadata": {},
     "output_type": "display_data"
    }
   ],
   "source": [
    "# Plot the sample images now\n",
    "f, ax = plt.subplots(5,4, figsize=(15,10))\n",
    "\n",
    "for i, img in enumerate(sample_images):\n",
    "    ax[i//4, i%4].imshow(img, cmap='gray')\n",
    "    ax[i//4, i%4].axis('off')\n",
    "plt.show()    "
   ]
  },
  {
   "cell_type": "markdown",
   "metadata": {
    "_cell_guid": "6fc8d6b8-080e-4b3d-a20c-89fb2613034d",
    "_uuid": "9095deb78ff48d897e7f1665f4fca055f1c2707b"
   },
   "source": [
    "Ha!! Nice plot. Isn't it? \n",
    "\n",
    "## Preprocessing of data"
   ]
  },
  {
   "cell_type": "code",
   "execution_count": 9,
   "metadata": {
    "_cell_guid": "67c2281d-ddca-49d8-88ce-c008866fc84c",
    "_uuid": "97cd4a24a32acf543b69e458126a13e1050dec0b"
   },
   "outputs": [
    {
     "name": "stdout",
     "output_type": "stream",
     "text": [
      "Number of samples in the train set:  48000\n",
      "Number of samples in the validation set:  12000\n",
      "Train and validation shapes:  (48000, 784) (48000,) (12000, 784) (12000,)\n"
     ]
    }
   ],
   "source": [
    "# Separate the labels from train and test dataframe\n",
    "tr_labels = train[\"label\"]\n",
    "ts_labels = test[\"label\"]\n",
    "\n",
    "# Drop the labels column from train dataframe as well as test dataframe\n",
    "train = train.drop([\"label\"], axis =1)\n",
    "test = test.drop([\"label\"], axis=1)\n",
    "\n",
    "# Split the training dataset into training and validation sets\n",
    "X_train, X_valid, y_train, y_valid = train_test_split(train, tr_labels, test_size=0.2, random_state=111)\n",
    "print(\"Number of samples in the train set: \", len(X_train))\n",
    "print(\"Number of samples in the validation set: \", len(X_valid))\n",
    "\n",
    "# Just a consistency check\n",
    "print(\"Train and validation shapes: \", end=\" \")\n",
    "print(X_train.shape,y_train.shape,X_valid.shape, y_valid.shape)"
   ]
  },
  {
   "cell_type": "markdown",
   "metadata": {
    "_cell_guid": "94419d06-448a-4c99-a0c1-8fedac7f67e5",
    "_uuid": "16318039b72745d1a4d18f2e7e67ba6dae7283d7"
   },
   "source": [
    "The pixel values in the dataset has been obtained after flattening the image pixels. There are 784 columns and each  image is  28x28 grayscale image. Let's reshape our data properly.  Also, there are 10 categories that we want to classify, we will use the `to_categorical` method available in keras for converting the labels to OHE "
   ]
  },
  {
   "cell_type": "code",
   "execution_count": 10,
   "metadata": {
    "_cell_guid": "350194a4-1a61-4807-bd3b-a6e777a1795c",
    "_uuid": "b28760aae9e6ba02d6a16cfd27e90e8d68924d66"
   },
   "outputs": [],
   "source": [
    "# Reshape the data values\n",
    "X_train = np.array(X_train.iloc[:, :]).reshape(len(X_train),28,28,1)\n",
    "X_valid = np.array(X_valid.iloc[:, :]).reshape(len(X_valid), 28, 28,1)\n",
    "X_test = np.array(test.iloc[:,:]).reshape(len(test), 28, 28,1)\n",
    "\n",
    "# Some more preprocessing\n",
    "X_train = X_train.astype(np.float32)\n",
    "X_valid = X_valid.astype(np.float32)\n",
    "X_test = X_test.astype(np.float32)\n",
    "\n",
    "train_mean = X_train.mean()\n",
    "\n",
    "# Mean subtraction from pixels\n",
    "X_train -= train_mean\n",
    "X_valid -= train_mean\n",
    "X_test -= train_mean\n",
    "\n",
    "# Normalization\n",
    "X_train /=255.\n",
    "X_valid /=255.\n",
    "X_test /=255."
   ]
  },
  {
   "cell_type": "code",
   "execution_count": 11,
   "metadata": {},
   "outputs": [
    {
     "name": "stdout",
     "output_type": "stream",
     "text": [
      "X_train shape: (48000, 28, 28, 1), y_train shape: (48000, 10) \n",
      "X_valid shape: (12000, 28, 28, 1), y_valid shape: (12000, 10) \n",
      "X_test shape:  (10000, 28, 28, 1)\n"
     ]
    }
   ],
   "source": [
    "# One Hot Encoding(OHE)\n",
    "y_train = tf.keras.utils.to_categorical(y_train, num_classes=10).astype(np.int8)\n",
    "y_valid = tf.keras.utils.to_categorical(y_valid, num_classes=10).astype(np.int8)\n",
    "\n",
    "print(\"X_train shape: {}, y_train shape: {} \".format(X_train.shape, y_train.shape))\n",
    "print(\"X_valid shape: {}, y_valid shape: {} \".format(X_valid.shape, y_valid.shape))\n",
    "print(\"X_test shape: \", X_test.shape)\n"
   ]
  },
  {
   "cell_type": "markdown",
   "metadata": {
    "_cell_guid": "10a79df5-fe40-4636-a918-2cdcfbab2873",
    "_uuid": "dc041ab0e09d6f90a614e26709cbcec81fc715eb"
   },
   "source": [
    "Great. Before moving to building blocks of our architecture, let's define a simple data generator for our model first"
   ]
  },
  {
   "cell_type": "code",
   "execution_count": 12,
   "metadata": {
    "_cell_guid": "338f2102-e323-4d2d-b294-96794069eb26",
    "_uuid": "92fcf9e279af13165edda9a002f0faa6058fecc4",
    "collapsed": true
   },
   "outputs": [],
   "source": [
    "# A simple data generator\n",
    "def data_gen(data, labels, batch_size=8):\n",
    "    # Get total number of samples in the data\n",
    "    n = len(data)\n",
    "    \n",
    "    # Define two numpy arrays for containing batch data and labels\n",
    "    batch_data = np.zeros((batch_size, 28, 28, 1), dtype=np.float32)\n",
    "    batch_labels = np.zeros((batch_size,10), dtype=np.int8)\n",
    "    \n",
    "    # Get a numpy array of all the indices of the input data\n",
    "    indices = np.arange(n)\n",
    "    \n",
    "    # Initialize a counter\n",
    "    i =0\n",
    "    while True:\n",
    "        np.random.shuffle(indices)\n",
    "        # Get the next batch \n",
    "        next_batch = indices[(i*batch_size):(i+1)*batch_size]\n",
    "        for j, idx in enumerate(next_batch):\n",
    "            batch_data[j] = data[idx]\n",
    "            batch_labels[j] = labels[idx]\n",
    "        \n",
    "        yield batch_data, batch_labels\n",
    "        i +=1  "
   ]
  },
  {
   "cell_type": "code",
   "execution_count": 13,
   "metadata": {},
   "outputs": [],
   "source": [
    "# Train data generator\n",
    "#train_data_gen = data_gen(X_train, y_train)\n",
    "#inputs, targets = next(train_data_gen)"
   ]
  },
  {
   "cell_type": "markdown",
   "metadata": {
    "_cell_guid": "d6241173-920f-4d53-9031-bac1b5340584",
    "_uuid": "543c6fae797c193538574569b40f2ced16f773c5"
   },
   "source": [
    "## Eager mode begins!! \n",
    "\n",
    "Wait a second. What is **Eager execution** at all?\n",
    "\n",
    "(From Tensorflow docs)\n",
    "\n",
    "Eager execution is a feature that makes TensorFlow execute operations immediately: concrete values are returned, instead of a computational graph to be executed later.\n",
    "\n",
    "As a result, enabling eager execution provides:\n",
    "* A NumPy-like library for numerical computation with support for GPU acceleration and automatic differentiation.\n",
    "*  A flexible platform for machine learning research and experimentation.\n",
    "\n",
    "It gives you an imperative way of defining your models. Now you may ask: **Why on the earth does it matter**? \n",
    "Well, there are a lot of reasons but the most simple one is this:\n",
    "\n",
    "***I want to write and execute everything as if I am writing a pure Python code, no tf.Session() and other things***\n"
   ]
  },
  {
   "cell_type": "markdown",
   "metadata": {
    "_cell_guid": "74def467-8f83-4fb0-ad40-ece0de5c0867",
    "_uuid": "43599f5a599bfa902ade7a70f6a57adc636aaab5"
   },
   "source": [
    "### What is the best way to define a model?\n",
    "\n",
    "You can define your model as you want. You could define your model inside a function or you could define it inside a class, it's totally up to you. If you ask me, I like to keep associated things together and this is where I love to write OOP. The following point summarizes how I have defined the model for this notebook.\n",
    "\n",
    "* Define a class FMNIST\n",
    "   * The constructor part (__init__): You should define all the layers that you are gonna use in your network here.  It is **highly recommended** to use high-level **tf.layers** API for defining your layers\n",
    "   * Other methods that like fit/predict, that you want to use for training and inference purposes. In the code below, I have defined just the predict function for the sake of simplicity here. You can define fit and predict both separately if you want.\n",
    "   \n",
    " * Define your cost function and your metric function(like accuracy, precision, etc) \n",
    " * Instantiate your model\n",
    " * Instantiate your optimizer\n",
    " * Define your gradient calculations (I will explain this later in the notebook)\n",
    " * Train and validate your network"
   ]
  },
  {
   "cell_type": "markdown",
   "metadata": {
    "_cell_guid": "7c31fc53-efb2-4c79-9203-a0780c540d00",
    "_uuid": "9a1099dfe63f7691c62ed881f6f64c72e98a9983"
   },
   "source": [
    "### Model"
   ]
  },
  {
   "cell_type": "code",
   "execution_count": 14,
   "metadata": {
    "_cell_guid": "b4d3538b-18b5-4bd1-903d-3e862c9ce8cd",
    "_uuid": "8b4895a9d0159e2de41a0ff5d95d8b9746baa054",
    "collapsed": true
   },
   "outputs": [],
   "source": [
    "# Class represnting our model\n",
    "class FMNIST(object):\n",
    "    def __init__(self, data_format):\n",
    "        # Set the input shape according to the availability of GPU \n",
    "        if data_format == 'channels_first':\n",
    "            self._input_shape = [-1, 1, 28, 28]\n",
    "        else:\n",
    "            self._input_shape = [-1, 28, 28, 1]\n",
    "        \n",
    "        # Start defining the type of layers that you want in your network\n",
    "        self.conv1 = tf.layers.Conv2D(32, 3, \n",
    "                                      activation=tf.nn.relu, \n",
    "                                      padding='same', \n",
    "                                      data_format=data_format)\n",
    "        \n",
    "        self.maxpool = tf.layers.MaxPooling2D((2,2), (2,2), \n",
    "                                            padding='same', \n",
    "                                            data_format=data_format)\n",
    "        \n",
    "        self.conv2 = tf.layers.Conv2D(64, 3, \n",
    "                                      activation=tf.nn.relu, \n",
    "                                      padding='same', \n",
    "                                      data_format=data_format)\n",
    "        self.conv3 = tf.layers.Conv2D(128, 3, \n",
    "                                      activation=tf.nn.relu, \n",
    "                                      padding='same', \n",
    "                                      data_format=data_format)\n",
    "        \n",
    "        self.dense1 = tf.layers.Dense(1024, activation=tf.nn.relu)\n",
    "        self.dense2 = tf.layers.Dense(512, activation=tf.nn.relu)\n",
    "        self.dropout = tf.layers.Dropout(0.5)\n",
    "        self.dense3 = tf.layers.Dense(10)\n",
    "        \n",
    "        \n",
    "    #Combine the layers to form the architecture\n",
    "    def predict(self, inputs, drop=False):\n",
    "        x = tf.reshape(inputs, self._input_shape)\n",
    "        x = self.conv1(x)\n",
    "        x = self.maxpool(x)\n",
    "        x = self.conv2(x)\n",
    "        x = self.maxpool(x)\n",
    "        x = self.conv3(x)\n",
    "        x = self.maxpool(x)\n",
    "        x = tf.layers.flatten(x)\n",
    "        x = self.dense1(x)\n",
    "        x = self.dropout(x, training=drop) #enable at training and disable at testing\n",
    "        x = self.dense2(x)\n",
    "        x = self.dropout(x, training=drop)\n",
    "        x = self.dense3(x)\n",
    "        return x"
   ]
  },
  {
   "cell_type": "markdown",
   "metadata": {
    "_cell_guid": "5afa5328-2689-424e-b59a-3d012ffa17cb",
    "_uuid": "e738a41962f135b517f03d3a01deec12fc516521"
   },
   "source": [
    "### Cost function/loss function"
   ]
  },
  {
   "cell_type": "code",
   "execution_count": 15,
   "metadata": {
    "_cell_guid": "8d3f258b-c86f-4eb6-a44c-58000a987973",
    "_uuid": "991678c75b9f5de572185842cec825158d941da6",
    "collapsed": true
   },
   "outputs": [],
   "source": [
    "# There are 10 categories, hence we will be using the cross-entropy loss here \n",
    "def loss(model, inputs, targets, drop=False):\n",
    "    return tf.reduce_mean(tf.nn.softmax_cross_entropy_with_logits(\n",
    "                          logits=model.predict(inputs, drop=drop), labels=targets))"
   ]
  },
  {
   "cell_type": "markdown",
   "metadata": {
    "_cell_guid": "d3df6b20-12ee-43f6-9370-2bd86aed7948",
    "_uuid": "2784c84aa057296b44e2770e2201cbef20653a89"
   },
   "source": [
    "### Metric calculation"
   ]
  },
  {
   "cell_type": "code",
   "execution_count": 16,
   "metadata": {
    "_cell_guid": "43e80e52-52e4-4bdb-98ba-642ce1bf2f62",
    "_uuid": "fb593edf19c77f8046098f40a1d8da6f8a39463b",
    "collapsed": true
   },
   "outputs": [],
   "source": [
    "# In our case, accuracy will be the metric that we are going to use for evaluation\n",
    "def compute_accuracy(predictions, labels):\n",
    "    model_pred = tf.argmax(predictions, axis=1,output_type=tf.int64)\n",
    "    actual_labels = tf.argmax(labels, axis=1, output_type=tf.int64)\n",
    "    return tf.reduce_sum(tf.cast(tf.equal(model_pred, actual_labels),dtype=tf.float32)) / float(predictions.shape[0].value)"
   ]
  },
  {
   "cell_type": "markdown",
   "metadata": {
    "_cell_guid": "186e0251-7000-45e4-ac31-96d87a4f7fb5",
    "_uuid": "3c51c158f9b36b1f57e1eb0926432de33febda0f"
   },
   "source": [
    "There are four things that are going on in the next cell.\n",
    "1.  Device selection: If GPU is there, data format should be NCHW as it is more optimized for GPU operations. If only CPU is there, the data format should be NHWC as it works better this way on CPU.\n",
    "\n",
    "2. Model instantiation\n",
    "\n",
    "3. Optimizer selection\n",
    "\n",
    "4. Gradient calculations: Although you can write your own function that calculates the gradient for each trainable variable for backpropagation but as the number of variables grows it can be hard to write one. The good thing is that TF provides implicit automatic differentiation. The only thing that you need to do is to pass your loss function name as a parameter to the `tfe.implicit_gradient()` method."
   ]
  },
  {
   "cell_type": "code",
   "execution_count": 17,
   "metadata": {
    "_cell_guid": "eed05eb5-6e78-4633-ae31-6e9dd8986e48",
    "_uuid": "bdfabffbf4e04d4d74c598e03a48be344fdbc0e9",
    "collapsed": true
   },
   "outputs": [],
   "source": [
    "# Device selection\n",
    "device = \"gpu:0\" if tfe.num_gpus() else \"cpu:0\"\n",
    "\n",
    "# Get an instance of your model\n",
    "model = FMNIST('channels_first' if tfe.num_gpus() else 'channels_last')\n",
    "\n",
    "# Define an optimizer\n",
    "optimizer = tf.train.AdamOptimizer(learning_rate=1e-4)\n",
    "\n",
    "# Automatic gradient calculation\n",
    "grad = tfe.implicit_gradients(loss)"
   ]
  },
  {
   "cell_type": "markdown",
   "metadata": {
    "_cell_guid": "cc33f08c-37fb-4f44-8a8b-ea663344a0dc",
    "_uuid": "8b925ca2d1360d54fe1b262e99b629e930e5994f"
   },
   "source": [
    " ### Training and Validation"
   ]
  },
  {
   "cell_type": "code",
   "execution_count": 18,
   "metadata": {
    "_cell_guid": "4dd8b3f7-b3b7-48d8-9242-d6333faca6af",
    "_uuid": "732cf6905fe76f8d055f2c90cf361e8d26aab5ec"
   },
   "outputs": [
    {
     "name": "stdout",
     "output_type": "stream",
     "text": [
      "Number of train and validation batches: 1500, 375\n",
      "\n",
      "========== Epoch: 1 ==============================\n",
      "\n",
      "WARNING:tensorflow:From <ipython-input-15-057bd829e037>:4: softmax_cross_entropy_with_logits (from tensorflow.python.ops.nn_ops) is deprecated and will be removed in a future version.\n",
      "Instructions for updating:\n",
      "\n",
      "Future major versions of TensorFlow will allow gradients to flow\n",
      "into the labels input on backprop by default.\n",
      "\n",
      "See tf.nn.softmax_cross_entropy_with_logits_v2.\n",
      "\n",
      "Step 0     ------> Loss: 2.2773\n",
      "Step 500   ------> Loss: 0.8248\n",
      "Step 1000  ------> Loss: 0.6597\n",
      "\n",
      "train_loss: 1.2539  train_acc: 75.00%\n",
      "val_loss: 0.5498   val_acc: 79.07%\n",
      "\n",
      "========== Epoch: 2 ==============================\n",
      "\n",
      "Step 0     ------> Loss: 0.7578\n",
      "Step 500   ------> Loss: 0.6308\n",
      "Step 1000  ------> Loss: 0.0292\n",
      "\n",
      "train_loss: 0.4726  train_acc: 75.00%\n",
      "val_loss: 0.4348   val_acc: 83.55%\n",
      "\n",
      "========== Epoch: 3 ==============================\n",
      "\n",
      "Step 0     ------> Loss: 0.0966\n",
      "Step 500   ------> Loss: 0.0214\n",
      "Step 1000  ------> Loss: 0.5774\n",
      "\n",
      "train_loss: 0.2318  train_acc: 87.50%\n",
      "val_loss: 0.3906   val_acc: 85.61%\n",
      "\n",
      "========== Epoch: 4 ==============================\n",
      "\n",
      "Step 0     ------> Loss: 0.5559\n",
      "Step 500   ------> Loss: 0.4021\n",
      "Step 1000  ------> Loss: 0.4038\n",
      "\n",
      "train_loss: 0.4539  train_acc: 87.50%\n",
      "val_loss: 0.3576   val_acc: 86.58%\n"
     ]
    }
   ],
   "source": [
    "# Define a batch size\n",
    "batch_size = 32\n",
    "\n",
    "# Train data generator\n",
    "train_data_gen = data_gen(X_train, y_train)\n",
    "# Validation data generator\n",
    "valid_data_gen = data_gen(X_valid, y_valid)\n",
    "\n",
    "# Get the number of batches\n",
    "nb_tr_batches = len(X_train) // batch_size\n",
    "nb_val_batches = len(X_valid) // batch_size\n",
    "print(\"Number of train and validation batches: {}, {}\".format(nb_tr_batches, nb_val_batches))\n",
    "\n",
    "# Define number of epochs for which you want to train your model\n",
    "nb_epochs = 4\n",
    "\n",
    "# Train and validate\n",
    "for i in range(nb_epochs):\n",
    "    print(\"\\n========== Epoch: {} ==============================\\n\".format(i+1))\n",
    "    with tf.device(device):\n",
    "        epoch_avg_loss = []\n",
    "        epoch_avg_acc = []\n",
    "        for j in range(nb_tr_batches):\n",
    "            inputs, targets = next(train_data_gen)\n",
    "            optimizer.apply_gradients(grad(model, inputs, targets))\n",
    "            if j % 500 == 0:\n",
    "                batch_loss = loss(model, inputs, targets, drop=True).numpy()\n",
    "                batch_acc = (compute_accuracy(model.predict(inputs, drop=True), targets).numpy())*100\n",
    "                epoch_avg_loss.append(batch_loss)\n",
    "                epoch_avg_acc.append(batch_acc)\n",
    "                print(\"Step {:<5s} ------> Loss: {:.4f}\".format(str(j), batch_loss))\n",
    "        \n",
    "        val_loss = loss(model, X_valid, y_valid).numpy()\n",
    "        val_acc = (compute_accuracy(model.predict(X_valid), y_valid).numpy())*100\n",
    "        print(\"\\ntrain_loss: {:.4f}  train_acc: {:.2f}%\".format(np.mean(epoch_avg_loss), np.mean(epoch_avg_acc)))        \n",
    "        print(\"val_loss: {:.4f}   val_acc: {:.2f}%\".format(val_loss, val_acc))"
   ]
  },
  {
   "cell_type": "markdown",
   "metadata": {
    "_cell_guid": "f8c7eed4-57c4-4f9a-a698-7bdbda964d50",
    "_uuid": "842d8191a1e6e873c224a14a939d7b3afc22ed1f",
    "collapsed": true
   },
   "source": [
    "I trained the model for 4 epochs only. You can train it for more. Also, I didn't put `EarlyStopping` here to put a check for overfitting, but you should definitely try it out.\n",
    "\n",
    "## Testing\n",
    "\n",
    "Let's do prediction on some of the test set samples"
   ]
  },
  {
   "cell_type": "code",
   "execution_count": 19,
   "metadata": {
    "_cell_guid": "f6cac392-6f94-4605-9c7e-6e627d87997a",
    "_uuid": "1bccd93ae8e86be1e3f2cef7b4d668c69e1edfaf"
   },
   "outputs": [
    {
     "name": "stdout",
     "output_type": "stream",
     "text": [
      "(10, 28, 28, 1) (10,)\n"
     ]
    }
   ],
   "source": [
    "test_samples = X_test[:10]\n",
    "test_labels = ts_labels[:10]\n",
    "print(test_samples.shape, test_labels.shape)"
   ]
  },
  {
   "cell_type": "code",
   "execution_count": 20,
   "metadata": {
    "_cell_guid": "888b3def-6ddf-4cca-b0e3-3f116eae9e1b",
    "_uuid": "65dab75884021354b058a3f04b5ef7daf59501ea"
   },
   "outputs": [
    {
     "name": "stdout",
     "output_type": "stream",
     "text": [
      "True labels:      [0, 1, 2, 2, 3, 2, 8, 6, 5, 0]\n",
      "Predicted labels:  [0, 1, 2, 6, 3, 0, 8, 6, 5, 0]\n"
     ]
    }
   ],
   "source": [
    "prob = model.predict(inputs=test_samples).numpy()\n",
    "predicted_labels = list(tf.argmax(prob, axis=1,output_type=tf.int64).numpy())\n",
    "print(\"True labels:     \", test_labels.tolist())\n",
    "print(\"Predicted labels: \", predicted_labels)"
   ]
  },
  {
   "cell_type": "markdown",
   "metadata": {
    "_cell_guid": "3d440cbb-95ef-4bb9-9f72-308e7c6fe8f6",
    "_uuid": "dbf3bb0174ffdc9d1635da0569cfb6e9d0dc3fb8"
   },
   "source": [
    "Pretty good results. Ha!!"
   ]
  },
  {
   "cell_type": "code",
   "execution_count": 21,
   "metadata": {
    "_cell_guid": "eae548a9-607f-4685-b3ae-6a802663985d",
    "_uuid": "aa7cc1b34f77106d3ff5cfbe6568fc7edc20179d"
   },
   "outputs": [
    {
     "data": {
      "image/png": "[encoded data removed]",
      "text/plain": [
       "<matplotlib.figure.Figure at 0x7f9a803a2f60>"
      ]
     },
     "metadata": {},
     "output_type": "display_data"
    }
   ],
   "source": [
    "# Let's visualize the results\n",
    "f, ax = plt.subplots(2,5, figsize=(20,5))\n",
    "\n",
    "for i in range(10):\n",
    "    img = X_test[i].reshape(28,28)\n",
    "    ax[i//5, i%5].imshow(img)\n",
    "    ax[i//5, i%5].axis('off')\n",
    "    ax[i//5, i%5].set_title(labels[predicted_labels[i]])\n",
    "plt.show()    "
   ]
  },
  {
   "cell_type": "markdown",
   "metadata": {
    "_cell_guid": "27f4d0a3-9bc8-43a0-87f1-6a8d32b6a0b4",
    "_uuid": "5d22e84d309a8ed385532bb4ea2e5533413befa2"
   },
   "source": [
    "That's it folks!! As you can see, **Eager** is the way to go and I think TF guys are working hard to make it happen. That being said, **Eager mode** is still in beta and requires a lot of optimization. Hopefully, the next version of TF will ship with awesome functionalities. \n",
    "\n",
    "### TIPS:\n",
    "1. Integrate **Dataset API** in this code, to get a much better generator that can do data augmentation on the fly.\n",
    "2. Copy this notebook and run on Google Colab\n",
    "3. Compare the execution speed of plain TF with code for eager mode\n",
    "4. Train a **GAN** using eager execution\n",
    "\n",
    "If you want me to do some of these in the Kaggle Kernels, let me know about it in the comments section. If you find anything wrong, or if you want to provide some suggestion, please do in the comments section below. Also, **please upvote if you liked the kernel**"
   ]
  }
 ],
 "metadata": {
  "kernelspec": {
   "display_name": "Python 3",
   "language": "python",
   "name": "python3"
  },
  "language_info": {
   "codemirror_mode": {
    "name": "ipython",
    "version": 3
   },
   "file_extension": ".py",
   "mimetype": "text/x-python",
   "name": "python",
   "nbconvert_exporter": "python",
   "pygments_lexer": "ipython3",
   "version": "3.4.3"
  }
 },
 "nbformat": 4,
 "nbformat_minor": 1
}
