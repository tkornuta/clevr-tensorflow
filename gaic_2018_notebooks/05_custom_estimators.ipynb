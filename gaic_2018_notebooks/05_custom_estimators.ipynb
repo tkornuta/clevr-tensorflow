{
 "cells": [
  {
   "cell_type": "markdown",
   "metadata": {},
   "source": [
    "### Custom Estimators\n",
    "\n",
    "In this notebook we'll write an Custom Estimator (using a model function we specifiy). On the way, we'll use ```tf.layers``` to write our model. In the next notebook, we'll use ```tf.layers``` to write a Custom Estimator for a Convolutional Neural Network."
   ]
  },
  {
   "cell_type": "code",
   "execution_count": 1,
   "metadata": {
    "collapsed": true
   },
   "outputs": [],
   "source": [
    "from __future__ import absolute_import\n",
    "from __future__ import division\n",
    "from __future__ import print_function\n",
    "\n",
    "import math\n",
    "import numpy as np\n",
    "\n",
    "import tensorflow as tf"
   ]
  },
  {
   "cell_type": "markdown",
   "metadata": {},
   "source": [
    "Import the dataset. Here, we'll need to convert the labels to a one-hot encoding, and we'll reshape the MNIST images to (784,)."
   ]
  },
  {
   "cell_type": "code",
   "execution_count": 2,
   "metadata": {},
   "outputs": [
    {
     "name": "stdout",
     "output_type": "stream",
     "text": [
      "60000 train samples\n",
      "10000 test samples\n"
     ]
    }
   ],
   "source": [
    "# We'll use Keras (included with TensorFlow) to import the data\n",
    "# I figured I'd do all the preprocessing and reshaping here, \n",
    "# rather than in the model.\n",
    "(x_train, y_train), (x_test, y_test) = tf.contrib.keras.datasets.mnist.load_data()\n",
    "\n",
    "x_train = x_train.astype('float32')\n",
    "x_test = x_test.astype('float32')\n",
    "\n",
    "y_train = y_train.astype('int32')\n",
    "y_test = y_test.astype('int32')\n",
    "\n",
    "# Normalize the color values to 0-1\n",
    "# (as imported, they're 0-255)\n",
    "x_train /= 255\n",
    "x_test /= 255\n",
    "\n",
    "# Flatten 28x28 images to (784,)\n",
    "x_train = x_train.reshape(x_train.shape[0], 784)\n",
    "x_test = x_test.reshape(x_test.shape[0], 784)\n",
    "\n",
    "# Convert to one-hot.\n",
    "y_train = tf.contrib.keras.utils.to_categorical(y_train, num_classes=10)\n",
    "y_test = tf.contrib.keras.utils.to_categorical(y_test, num_classes=10)\n",
    "\n",
    "print(x_train.shape[0], 'train samples')\n",
    "print(x_test.shape[0], 'test samples')"
   ]
  },
  {
   "cell_type": "markdown",
   "metadata": {},
   "source": [
    "When using Estimators, we do not manage the TensorFlow session directly. Instead, we skip straight to defining our hyperparameters."
   ]
  },
  {
   "cell_type": "code",
   "execution_count": 3,
   "metadata": {
    "collapsed": true
   },
   "outputs": [],
   "source": [
    "# Number of neurons in each hidden layer\n",
    "HIDDEN1_SIZE = 500\n",
    "HIDDEN2_SIZE = 250"
   ]
  },
  {
   "cell_type": "markdown",
   "metadata": {},
   "source": [
    "To write a Custom Estimator we'll specify our own model function. Here, we'll use ```tf.layers``` to replicate the model from the third notebook."
   ]
  },
  {
   "cell_type": "code",
   "execution_count": 4,
   "metadata": {
    "collapsed": true
   },
   "outputs": [],
   "source": [
    "def model_fn(features, labels, mode):\n",
    "    \n",
    "    # First we'll create 2 fully-connected layers, with ReLU activations.\n",
    "    # Notice we're retrieving the 'x' feature (we'll provide this in the input function\n",
    "    # in a moment).\n",
    "    fc1 = tf.layers.dense(features['x'], HIDDEN1_SIZE, activation=tf.nn.relu, name=\"fc1\")\n",
    "    fc2 = tf.layers.dense(fc1, HIDDEN2_SIZE, activation=tf.nn.relu, name=\"fc2\")\n",
    "    \n",
    "    # Add dropout operation; 0.9 probability that a neuron will be kept\n",
    "    dropout = tf.layers.dropout(\n",
    "        inputs=fc2, rate=0.1, training = mode == tf.estimator.ModeKeys.TRAIN, name=\"dropout\")\n",
    "\n",
    "    # Finally, we'll calculate logits. This will be\n",
    "    # the input to our Softmax function. Notice we \n",
    "    # don't apply an activation at this layer.\n",
    "    # If you've commented out the dropout layer,\n",
    "    # switch the input here to 'fc2'.\n",
    "    logits = tf.layers.dense(dropout, units=10, name=\"logits\")\n",
    "    \n",
    "    # Generate Predictions\n",
    "    classes = tf.argmax(logits, axis=1)\n",
    "    predictions = {\n",
    "        'classes': classes,\n",
    "        'probabilities': tf.nn.softmax(logits, name='softmax_tensor')\n",
    "    }\n",
    "    \n",
    "    if mode == tf.estimator.ModeKeys.PREDICT:\n",
    "        # Return an EstimatorSpec for prediction\n",
    "        return tf.estimator.EstimatorSpec(mode=mode, predictions=predictions)\n",
    "        \n",
    "    # Compute the loss, per usual.\n",
    "    loss = tf.losses.softmax_cross_entropy(\n",
    "        onehot_labels=labels, logits=logits)\n",
    "        \n",
    "    if mode == tf.estimator.ModeKeys.TRAIN:\n",
    "        \n",
    "        # Configure the Training Op\n",
    "        train_op = tf.contrib.layers.optimize_loss(\n",
    "            loss=loss,\n",
    "            global_step=tf.train.get_global_step(),\n",
    "            learning_rate=1e-3,\n",
    "            optimizer='Adam')\n",
    "\n",
    "        # Return an EstimatorSpec for training\n",
    "        return tf.estimator.EstimatorSpec(mode=mode, predictions=predictions,\n",
    "                                      loss=loss, train_op=train_op)    \n",
    "\n",
    "    assert mode == tf.estimator.ModeKeys.EVAL\n",
    "    \n",
    "    # Configure the accuracy metric for evaluation\n",
    "    metrics = {'accuracy': tf.metrics.accuracy(classes, tf.argmax(labels, axis=1))}\n",
    "    \n",
    "    return tf.estimator.EstimatorSpec(mode=mode, \n",
    "                                      predictions=predictions, \n",
    "                                      loss=loss,\n",
    "                                      eval_metric_ops=metrics)"
   ]
  },
  {
   "cell_type": "markdown",
   "metadata": {},
   "source": [
    "Input functions, as before."
   ]
  },
  {
   "cell_type": "code",
   "execution_count": 5,
   "metadata": {
    "collapsed": true
   },
   "outputs": [],
   "source": [
    "train_input = tf.estimator.inputs.numpy_input_fn(\n",
    "    {'x': x_train},\n",
    "    y_train, \n",
    "    num_epochs=None, # repeat forever\n",
    "    shuffle=True # \n",
    ")\n",
    "\n",
    "test_input = tf.estimator.inputs.numpy_input_fn(\n",
    "    {'x': x_test},\n",
    "    y_test,\n",
    "    num_epochs=1, # loop through the dataset once\n",
    "    shuffle=False # don't shuffle the test data\n",
    ")"
   ]
  },
  {
   "cell_type": "code",
   "execution_count": 6,
   "metadata": {},
   "outputs": [
    {
     "name": "stdout",
     "output_type": "stream",
     "text": [
      "INFO:tensorflow:Using default config.\n",
      "WARNING:tensorflow:Using temporary folder as model directory: /tmp/tmphzonm5wh\n",
      "INFO:tensorflow:Using config: {'_save_summary_steps': 100, '_keep_checkpoint_max': 5, '_model_dir': '/tmp/tmphzonm5wh', '_log_step_count_steps': 100, '_session_config': None, '_save_checkpoints_steps': None, '_tf_random_seed': 1, '_keep_checkpoint_every_n_hours': 10000, '_save_checkpoints_secs': 600}\n"
     ]
    }
   ],
   "source": [
    "# At this point, our Estimator will work just like a canned one.\n",
    "estimator = tf.estimator.Estimator(model_fn=model_fn)"
   ]
  },
  {
   "cell_type": "code",
   "execution_count": 7,
   "metadata": {
    "scrolled": true
   },
   "outputs": [
    {
     "name": "stdout",
     "output_type": "stream",
     "text": [
      "INFO:tensorflow:Create CheckpointSaverHook.\n",
      "INFO:tensorflow:Saving checkpoints for 1 into /tmp/tmphzonm5wh/model.ckpt.\n",
      "INFO:tensorflow:step = 1, loss = 2.32862\n",
      "INFO:tensorflow:global_step/sec: 68.5022\n",
      "INFO:tensorflow:step = 101, loss = 0.165039 (1.461 sec)\n",
      "INFO:tensorflow:global_step/sec: 69.138\n",
      "INFO:tensorflow:step = 201, loss = 0.187677 (1.446 sec)\n",
      "INFO:tensorflow:global_step/sec: 76.7234\n",
      "INFO:tensorflow:step = 301, loss = 0.114075 (1.303 sec)\n",
      "INFO:tensorflow:global_step/sec: 76.7523\n",
      "INFO:tensorflow:step = 401, loss = 0.116035 (1.303 sec)\n",
      "INFO:tensorflow:global_step/sec: 77.8259\n",
      "INFO:tensorflow:step = 501, loss = 0.159226 (1.285 sec)\n",
      "INFO:tensorflow:global_step/sec: 76.8954\n",
      "INFO:tensorflow:step = 601, loss = 0.0846998 (1.300 sec)\n",
      "INFO:tensorflow:global_step/sec: 76.9764\n",
      "INFO:tensorflow:step = 701, loss = 0.15686 (1.299 sec)\n",
      "INFO:tensorflow:global_step/sec: 76.3821\n",
      "INFO:tensorflow:step = 801, loss = 0.0678839 (1.309 sec)\n",
      "INFO:tensorflow:global_step/sec: 76.3694\n",
      "INFO:tensorflow:step = 901, loss = 0.105141 (1.310 sec)\n",
      "INFO:tensorflow:global_step/sec: 76.7362\n",
      "INFO:tensorflow:step = 1001, loss = 0.0760142 (1.303 sec)\n",
      "INFO:tensorflow:global_step/sec: 77.7324\n",
      "INFO:tensorflow:step = 1101, loss = 0.130389 (1.287 sec)\n",
      "INFO:tensorflow:global_step/sec: 67.6921\n",
      "INFO:tensorflow:step = 1201, loss = 0.0201245 (1.481 sec)\n",
      "INFO:tensorflow:global_step/sec: 61.1187\n",
      "INFO:tensorflow:step = 1301, loss = 0.035651 (1.632 sec)\n",
      "INFO:tensorflow:global_step/sec: 76.6948\n",
      "INFO:tensorflow:step = 1401, loss = 0.0333538 (1.304 sec)\n",
      "INFO:tensorflow:global_step/sec: 76.9994\n",
      "INFO:tensorflow:step = 1501, loss = 0.0249499 (1.299 sec)\n",
      "INFO:tensorflow:global_step/sec: 77.3725\n",
      "INFO:tensorflow:step = 1601, loss = 0.00694774 (1.293 sec)\n",
      "INFO:tensorflow:global_step/sec: 75.5044\n",
      "INFO:tensorflow:step = 1701, loss = 0.0807174 (1.324 sec)\n",
      "INFO:tensorflow:global_step/sec: 75.7986\n",
      "INFO:tensorflow:step = 1801, loss = 0.0469063 (1.319 sec)\n",
      "INFO:tensorflow:global_step/sec: 75.0048\n",
      "INFO:tensorflow:step = 1901, loss = 0.0212684 (1.333 sec)\n",
      "INFO:tensorflow:Saving checkpoints for 2000 into /tmp/tmphzonm5wh/model.ckpt.\n",
      "INFO:tensorflow:Loss for final step: 0.0181015.\n"
     ]
    },
    {
     "data": {
      "text/plain": [
       "<tensorflow.python.estimator.estimator.Estimator at 0x7f863d9c6dd8>"
      ]
     },
     "execution_count": 7,
     "metadata": {},
     "output_type": "execute_result"
    }
   ],
   "source": [
    "# Train the estimator using our input function.\n",
    "estimator.train(input_fn=train_input, steps=2000)"
   ]
  },
  {
   "cell_type": "code",
   "execution_count": 8,
   "metadata": {},
   "outputs": [
    {
     "name": "stdout",
     "output_type": "stream",
     "text": [
      "INFO:tensorflow:Starting evaluation at 2018-01-18-20:07:19\n",
      "INFO:tensorflow:Restoring parameters from /tmp/tmphzonm5wh/model.ckpt-2000\n",
      "INFO:tensorflow:Finished evaluation at 2018-01-18-20:07:20\n",
      "INFO:tensorflow:Saving dict for global step 2000: accuracy = 0.9809, global_step = 2000, loss = 0.061657\n",
      "{'global_step': 2000, 'accuracy': 0.98089999, 'loss': 0.061657041}\n"
     ]
    }
   ],
   "source": [
    "# Evaluate the estimator using our input function.\n",
    "# We should see our accuracy metric below\n",
    "evaluation = estimator.evaluate(input_fn=test_input)\n",
    "print(evaluation)"
   ]
  },
  {
   "cell_type": "code",
   "execution_count": 10,
   "metadata": {},
   "outputs": [
    {
     "name": "stdout",
     "output_type": "stream",
     "text": [
      "INFO:tensorflow:Restoring parameters from /tmp/tmphzonm5wh/model.ckpt-2000\n",
      "Example 0. True: 7, Predicted: 7\n",
      "Example 1. True: 2, Predicted: 2\n",
      "Example 2. True: 1, Predicted: 1\n",
      "Example 3. True: 0, Predicted: 0\n",
      "Example 4. True: 4, Predicted: 4\n"
     ]
    }
   ],
   "source": [
    "MAX_TO_PRINT = 5\n",
    "\n",
    "# This returns a generator object\n",
    "predictions = estimator.predict(input_fn=test_input)\n",
    "i = 0\n",
    "for p in predictions:\n",
    "    true_label = np.argmax(y_test[i])\n",
    "    predicted_label = p['classes']\n",
    "    print(\"Example %d. True: %d, Predicted: %s\" % (i, true_label, predicted_label))\n",
    "    i += 1\n",
    "    if i == MAX_TO_PRINT: break"
   ]
  },
  {
   "cell_type": "code",
   "execution_count": null,
   "metadata": {
    "collapsed": true
   },
   "outputs": [],
   "source": []
  }
 ],
 "metadata": {
  "kernelspec": {
   "display_name": "Python 3",
   "language": "python",
   "name": "python3"
  },
  "language_info": {
   "codemirror_mode": {
    "name": "ipython",
    "version": 3
   },
   "file_extension": ".py",
   "mimetype": "text/x-python",
   "name": "python",
   "nbconvert_exporter": "python",
   "pygments_lexer": "ipython3",
   "version": "3.4.3"
  }
 },
 "nbformat": 4,
 "nbformat_minor": 2
}
