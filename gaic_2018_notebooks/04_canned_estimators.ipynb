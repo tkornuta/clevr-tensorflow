{
 "cells": [
  {
   "cell_type": "markdown",
   "metadata": {},
   "source": [
    "### Canned Estimators"
   ]
  },
  {
   "cell_type": "markdown",
   "metadata": {},
   "source": [
    "In this notebook we'll demonstrate how to use two Canned Estimators (these encapsulate the lower-level TensorFlow code we've seen so far, and use an API loosely inspired by [scikit-learn](scikit-learn.org). There are several advantages to Canned Estimators.\n",
    "\n",
    "* If you're using Estimators, you won't have to manage Sessions, or write your own logic for TensorBoard, or for saving and loading checkpoints.\n",
    "\n",
    "\n",
    "* You'll get out-of-the-box distributed training (of course, you will have to take care to read your data efficiently, and set up a cluster).\n",
    "\n",
    "Here, we'll read data using [input functions](https://www.tensorflow.org/api_docs/python/tf/estimator/inputs/numpy_input_fn), which are appropriate for in-memory data. \n",
    "\n",
    "* These provide batching and other features for you, so you don't have to write that code yourself.\n",
    "\n",
    "\n",
    "* In the strucuted data notebook, we'll use the new [Dataset API](https://github.com/tensorflow/tensorflow/blob/master/tensorflow/docs_src/programmers_guide/datasets.md) - which is a popular abstraction, and a great way to efficiently read and pre-process large datasets efficiently.\n",
    "\n",
    "Although the Estimators we'll use here are relative simple (a LinearClassifier, and a Fully Connected Deep Neural Network), we also provide more interesting ones (including for [TensorFlow Wide and Deep](https://www.tensorflow.org/tutorials/wide_and_deep). I'm also excited that additional Estimators are on their way - stay tuned in the upcoming months.\n",
    "\n",
    "Also note that Estimators log quite a lot of output"
   ]
  },
  {
   "cell_type": "code",
   "execution_count": 1,
   "metadata": {
    "collapsed": true
   },
   "outputs": [],
   "source": [
    "from __future__ import absolute_import\n",
    "from __future__ import division\n",
    "from __future__ import print_function\n",
    "\n",
    "import numpy as np\n",
    "import tensorflow as tf"
   ]
  },
  {
   "cell_type": "code",
   "execution_count": 5,
   "metadata": {},
   "outputs": [
    {
     "name": "stdout",
     "output_type": "stream",
     "text": [
      "Downloading data from https://s3.amazonaws.com/img-datasets/mnist.npz\n",
      "11493376/11490434 [==============================] - 50s    \n",
      "60000 train samples\n",
      "10000 test samples\n"
     ]
    }
   ],
   "source": [
    "# We'll use Keras (included with TensorFlow) to import the data\n",
    "(x_train, y_train), (x_test, y_test) = tf.contrib.keras.datasets.mnist.load_data()\n",
    "\n",
    "x_train = x_train.astype('float32')\n",
    "x_test = x_test.astype('float32')\n",
    "\n",
    "y_train = y_train.astype('int32')\n",
    "y_test = y_test.astype('int32')\n",
    "\n",
    "# Normalize the color values to 0-1\n",
    "# (as imported, they're 0-255)\n",
    "x_train /= 255\n",
    "x_test /= 255\n",
    "\n",
    "print(x_train.shape[0], 'train samples')\n",
    "print(x_test.shape[0], 'test samples')"
   ]
  },
  {
   "cell_type": "markdown",
   "metadata": {},
   "source": [
    "Here's our input function. \n",
    "\n",
    "* By setting ```num_epochs``` to ```None```, we'll loop over the data indefinitely so we can train for as long as we like.\n",
    "* The default ```batch_size``` is ```128```, but you can provide a different parameter if you like.\n",
    "\n",
    "You can read more about the numpy input function [here](https://www.tensorflow.org/api_docs/python/tf/estimator/inputs/numpy_input_fn). We also provide a nice one for [Pandas](https://www.tensorflow.org/api_docs/python/tf/estimator/inputs/pandas_input_fn), more on that later."
   ]
  },
  {
   "cell_type": "code",
   "execution_count": 7,
   "metadata": {
    "collapsed": true
   },
   "outputs": [],
   "source": [
    "train_input = tf.estimator.inputs.numpy_input_fn(\n",
    "    {'x': x_train},\n",
    "    y_train, \n",
    "    num_epochs=None, # repeat forever\n",
    "    shuffle=True # \n",
    ")"
   ]
  },
  {
   "cell_type": "code",
   "execution_count": 8,
   "metadata": {
    "collapsed": true
   },
   "outputs": [],
   "source": [
    "test_input = tf.estimator.inputs.numpy_input_fn(\n",
    "    {'x': x_test},\n",
    "    y_test,\n",
    "    num_epochs=1, # loop through the dataset once\n",
    "    shuffle=False # don't shuffle the test data\n",
    ")"
   ]
  },
  {
   "cell_type": "code",
   "execution_count": 9,
   "metadata": {
    "collapsed": true
   },
   "outputs": [],
   "source": [
    "# define the features for our model\n",
    "# the names must match the input function\n",
    "feature_spec = [tf.feature_column.numeric_column('x', shape=784)]"
   ]
  },
  {
   "cell_type": "markdown",
   "metadata": {},
   "source": [
    "Here, we'll create a ```LinearClassifier``` - this is identical to our Softmax (aka, multiclass logistic regression model) from the second notebok."
   ]
  },
  {
   "cell_type": "code",
   "execution_count": 10,
   "metadata": {},
   "outputs": [
    {
     "name": "stdout",
     "output_type": "stream",
     "text": [
      "INFO:tensorflow:Using default config.\n",
      "INFO:tensorflow:Using config: {'_save_checkpoints_steps': None, '_keep_checkpoint_every_n_hours': 10000, '_save_summary_steps': 100, '_model_dir': './graphs/canned/linear', '_keep_checkpoint_max': 5, '_session_config': None, '_save_checkpoints_secs': 600, '_log_step_count_steps': 100, '_tf_random_seed': 1}\n"
     ]
    }
   ],
   "source": [
    "estimator = tf.estimator.LinearClassifier(feature_spec, \n",
    "                                          n_classes=10,\n",
    "                                          model_dir=\"./graphs/canned/linear\")"
   ]
  },
  {
   "cell_type": "code",
   "execution_count": 11,
   "metadata": {},
   "outputs": [
    {
     "name": "stdout",
     "output_type": "stream",
     "text": [
      "INFO:tensorflow:Create CheckpointSaverHook.\n",
      "INFO:tensorflow:Saving checkpoints for 1 into ./graphs/canned/linear/model.ckpt.\n",
      "INFO:tensorflow:step = 1, loss = 294.731\n",
      "INFO:tensorflow:global_step/sec: 558.971\n",
      "INFO:tensorflow:step = 101, loss = 44.8351 (0.180 sec)\n",
      "INFO:tensorflow:global_step/sec: 519.317\n",
      "INFO:tensorflow:step = 201, loss = 47.181 (0.192 sec)\n",
      "INFO:tensorflow:global_step/sec: 541.854\n",
      "INFO:tensorflow:step = 301, loss = 36.1606 (0.185 sec)\n",
      "INFO:tensorflow:global_step/sec: 562.628\n",
      "INFO:tensorflow:step = 401, loss = 31.6158 (0.178 sec)\n",
      "INFO:tensorflow:global_step/sec: 524.437\n",
      "INFO:tensorflow:step = 501, loss = 19.4514 (0.191 sec)\n",
      "INFO:tensorflow:global_step/sec: 520.441\n",
      "INFO:tensorflow:step = 601, loss = 55.2783 (0.192 sec)\n",
      "INFO:tensorflow:global_step/sec: 531.03\n",
      "INFO:tensorflow:step = 701, loss = 38.6199 (0.188 sec)\n",
      "INFO:tensorflow:global_step/sec: 460.42\n",
      "INFO:tensorflow:step = 801, loss = 38.368 (0.217 sec)\n",
      "INFO:tensorflow:global_step/sec: 531.628\n",
      "INFO:tensorflow:step = 901, loss = 54.5864 (0.188 sec)\n",
      "INFO:tensorflow:Saving checkpoints for 1000 into ./graphs/canned/linear/model.ckpt.\n",
      "INFO:tensorflow:Loss for final step: 30.5571.\n"
     ]
    },
    {
     "data": {
      "text/plain": [
       "<tensorflow.python.estimator.canned.linear.LinearClassifier at 0x7fd2530e69b0>"
      ]
     },
     "execution_count": 11,
     "metadata": {},
     "output_type": "execute_result"
    }
   ],
   "source": [
    "# I've arbitrarily decided to train for 1000 steps\n",
    "estimator.train(train_input, steps=1000)"
   ]
  },
  {
   "cell_type": "code",
   "execution_count": 12,
   "metadata": {},
   "outputs": [
    {
     "name": "stdout",
     "output_type": "stream",
     "text": [
      "INFO:tensorflow:Starting evaluation at 2018-01-18-19:48:36\n",
      "INFO:tensorflow:Restoring parameters from ./graphs/canned/linear/model.ckpt-1000\n",
      "INFO:tensorflow:Finished evaluation at 2018-01-18-19:48:36\n",
      "INFO:tensorflow:Saving dict for global step 1000: accuracy = 0.9241, average_loss = 0.276041, global_step = 1000, loss = 34.9419\n",
      "{'global_step': 1000, 'average_loss': 0.2760407, 'accuracy': 0.92409998, 'loss': 34.94186}\n"
     ]
    }
   ],
   "source": [
    "# We should see about 90% accuracy here.\n",
    "evaluation = estimator.evaluate(input_fn=test_input)\n",
    "print(evaluation)"
   ]
  },
  {
   "cell_type": "markdown",
   "metadata": {},
   "source": [
    "Here's how you would print individual predictions."
   ]
  },
  {
   "cell_type": "code",
   "execution_count": 13,
   "metadata": {},
   "outputs": [
    {
     "name": "stdout",
     "output_type": "stream",
     "text": [
      "INFO:tensorflow:Restoring parameters from ./graphs/canned/linear/model.ckpt-1000\n",
      "Example 0. True: 7, Predicted: 7\n",
      "Example 1. True: 2, Predicted: 2\n",
      "Example 2. True: 1, Predicted: 1\n",
      "Example 3. True: 0, Predicted: 0\n",
      "Example 4. True: 4, Predicted: 4\n"
     ]
    }
   ],
   "source": [
    "MAX_TO_PRINT = 5\n",
    "\n",
    "# This returns a generator object\n",
    "predictions = estimator.predict(input_fn=test_input)\n",
    "i = 0\n",
    "for p in predictions:\n",
    "    true_label = y_test[i]\n",
    "    predicted_label = p['class_ids'][0]\n",
    "    print(\"Example %d. True: %d, Predicted: %d\" % (i, true_label, predicted_label))\n",
    "    i += 1\n",
    "    if i == MAX_TO_PRINT: break"
   ]
  },
  {
   "cell_type": "markdown",
   "metadata": {},
   "source": [
    "Here's how easy it is to switch the model to a fully connected DNN."
   ]
  },
  {
   "cell_type": "code",
   "execution_count": 14,
   "metadata": {},
   "outputs": [
    {
     "name": "stdout",
     "output_type": "stream",
     "text": [
      "INFO:tensorflow:Using default config.\n",
      "INFO:tensorflow:Using config: {'_save_checkpoints_steps': None, '_keep_checkpoint_every_n_hours': 10000, '_save_summary_steps': 100, '_model_dir': './graphs/canned/deep', '_keep_checkpoint_max': 5, '_session_config': None, '_save_checkpoints_secs': 600, '_log_step_count_steps': 100, '_tf_random_seed': 1}\n"
     ]
    }
   ],
   "source": [
    "estimator = tf.estimator.DNNClassifier(\n",
    "    hidden_units=[500,250], # we will arbitrarily use two layers\n",
    "    feature_columns=feature_spec,\n",
    "    n_classes=10,\n",
    "    model_dir=\"./graphs/canned/deep\")"
   ]
  },
  {
   "cell_type": "code",
   "execution_count": 15,
   "metadata": {},
   "outputs": [
    {
     "name": "stdout",
     "output_type": "stream",
     "text": [
      "INFO:tensorflow:Create CheckpointSaverHook.\n",
      "INFO:tensorflow:Saving checkpoints for 1 into ./graphs/canned/deep/model.ckpt.\n",
      "INFO:tensorflow:step = 1, loss = 298.115\n",
      "INFO:tensorflow:global_step/sec: 71.8219\n",
      "INFO:tensorflow:step = 101, loss = 30.5674 (1.392 sec)\n",
      "INFO:tensorflow:global_step/sec: 81.1383\n",
      "INFO:tensorflow:step = 201, loss = 7.85995 (1.232 sec)\n",
      "INFO:tensorflow:global_step/sec: 82.4658\n",
      "INFO:tensorflow:step = 301, loss = 23.9902 (1.213 sec)\n",
      "INFO:tensorflow:global_step/sec: 81.9004\n",
      "INFO:tensorflow:step = 401, loss = 12.31 (1.221 sec)\n",
      "INFO:tensorflow:global_step/sec: 81.3374\n",
      "INFO:tensorflow:step = 501, loss = 22.3334 (1.230 sec)\n",
      "INFO:tensorflow:global_step/sec: 81.1986\n",
      "INFO:tensorflow:step = 601, loss = 13.6766 (1.232 sec)\n",
      "INFO:tensorflow:global_step/sec: 80.575\n",
      "INFO:tensorflow:step = 701, loss = 21.8514 (1.241 sec)\n",
      "INFO:tensorflow:global_step/sec: 80.9293\n",
      "INFO:tensorflow:step = 801, loss = 12.9145 (1.235 sec)\n",
      "INFO:tensorflow:global_step/sec: 81.1306\n",
      "INFO:tensorflow:step = 901, loss = 10.1323 (1.232 sec)\n",
      "INFO:tensorflow:global_step/sec: 81.1827\n",
      "INFO:tensorflow:step = 1001, loss = 6.43737 (1.232 sec)\n",
      "INFO:tensorflow:global_step/sec: 81.869\n",
      "INFO:tensorflow:step = 1101, loss = 7.80616 (1.221 sec)\n",
      "INFO:tensorflow:global_step/sec: 64.4183\n",
      "INFO:tensorflow:step = 1201, loss = 4.41212 (1.552 sec)\n",
      "INFO:tensorflow:global_step/sec: 80.7938\n",
      "INFO:tensorflow:step = 1301, loss = 8.0955 (1.238 sec)\n",
      "INFO:tensorflow:global_step/sec: 80.2932\n",
      "INFO:tensorflow:step = 1401, loss = 6.2694 (1.245 sec)\n",
      "INFO:tensorflow:global_step/sec: 80.4052\n",
      "INFO:tensorflow:step = 1501, loss = 10.5634 (1.244 sec)\n",
      "INFO:tensorflow:global_step/sec: 60.0402\n",
      "INFO:tensorflow:step = 1601, loss = 4.37103 (1.665 sec)\n",
      "INFO:tensorflow:global_step/sec: 80.7158\n",
      "INFO:tensorflow:step = 1701, loss = 10.101 (1.239 sec)\n",
      "INFO:tensorflow:global_step/sec: 80.9488\n",
      "INFO:tensorflow:step = 1801, loss = 4.26468 (1.235 sec)\n",
      "INFO:tensorflow:global_step/sec: 80.1006\n",
      "INFO:tensorflow:step = 1901, loss = 4.92965 (1.248 sec)\n",
      "INFO:tensorflow:Saving checkpoints for 2000 into ./graphs/canned/deep/model.ckpt.\n",
      "INFO:tensorflow:Loss for final step: 6.14235.\n"
     ]
    },
    {
     "data": {
      "text/plain": [
       "<tensorflow.python.estimator.canned.dnn.DNNClassifier at 0x7fd24fcfa320>"
      ]
     },
     "execution_count": 15,
     "metadata": {},
     "output_type": "execute_result"
    }
   ],
   "source": [
    "# I've arbitrarily decided to train for 2000 steps\n",
    "estimator.train(train_input, steps=2000)"
   ]
  },
  {
   "cell_type": "code",
   "execution_count": 16,
   "metadata": {},
   "outputs": [
    {
     "name": "stdout",
     "output_type": "stream",
     "text": [
      "INFO:tensorflow:Starting evaluation at 2018-01-18-19:50:02\n",
      "INFO:tensorflow:Restoring parameters from ./graphs/canned/deep/model.ckpt-2000\n",
      "INFO:tensorflow:Finished evaluation at 2018-01-18-19:50:03\n",
      "INFO:tensorflow:Saving dict for global step 2000: accuracy = 0.9748, average_loss = 0.0823014, global_step = 2000, loss = 10.4179\n",
      "{'global_step': 2000, 'average_loss': 0.082301371, 'accuracy': 0.97479999, 'loss': 10.417894}\n"
     ]
    }
   ],
   "source": [
    "# Expect accuracy around 97%\n",
    "evaluation = estimator.evaluate(input_fn=test_input)\n",
    "print(evaluation)"
   ]
  },
  {
   "cell_type": "markdown",
   "metadata": {},
   "source": [
    "If you like, you can compare these runs with TensorBoard.\n",
    "\n",
    "``` $ tensorboard --logdir=graphs/canned/ ```"
   ]
  }
 ],
 "metadata": {
  "kernelspec": {
   "display_name": "Python 3",
   "language": "python",
   "name": "python3"
  },
  "language_info": {
   "codemirror_mode": {
    "name": "ipython",
    "version": 3
   },
   "file_extension": ".py",
   "mimetype": "text/x-python",
   "name": "python",
   "nbconvert_exporter": "python",
   "pygments_lexer": "ipython3",
   "version": "3.4.3"
  }
 },
 "nbformat": 4,
 "nbformat_minor": 2
}
